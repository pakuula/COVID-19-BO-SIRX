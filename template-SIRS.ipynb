{
 "cells": [
  {
   "cell_type": "code",
   "execution_count": null,
   "metadata": {},
   "outputs": [],
   "source": [
    "country  = 'Russia'"
   ]
  },
  {
   "cell_type": "markdown",
   "metadata": {},
   "source": [
    "# Introduction\n",
    "\n",
    "This notebook evaluates several epidemiology models for COVID-19 data.\n",
    "\n",
    "The primary difference from classical models is that each model includes variable $O$ for _Observed_ cases. Models use the simplest estimation for $O$:\n",
    "\n",
    "$$\\frac{dO}{dt} = k I$$\n",
    "\n",
    "where $k$ is _reveal efficiency_ coeffitient, showing, how many infected people are identified and positevely tested.\n",
    "\n",
    "Models have $n$ parameters and $m$ variables in initial vectors. Combined they form $n+m$-dimentional area where we search a solution for IV problem that approximates known cases best. To find the optimal solution we use _Non-linear Least Squares_ method from `scipy.optimize` package (see [here](https://docs.scipy.org/doc/scipy/reference/generated/scipy.optimize.least_squares.html)).\n",
    "\n",
    "For every model we present 5 best solutions found. The field `Precision` in the report table is the standard deviation of the solution from data spots.\n",
    "\n",
    "# The best model\n",
    "\n",
    "It is expected that the best model for COVID-19 is [SIR with carriers](#sirc)"
   ]
  },
  {
   "cell_type": "markdown",
   "metadata": {},
   "source": [
    "# TOC\n",
    "* [Country data](#country)\n",
    "* [Models with immunity](#r-models)\n",
    "* * [Basic SIR model](#sir)\n",
    "* * [Model with carriers](#sirc)\n",
    "* * [Model with incubation period](#seir)\n",
    "\n",
    "* [Models without immunity](#s-models)\n",
    "* * [Basic SIRS model](#sirs)\n",
    "* * [Model with carriers](#sirsc)\n",
    "* * [Model with incubation period](#seirs)"
   ]
  },
  {
   "cell_type": "code",
   "execution_count": null,
   "metadata": {},
   "outputs": [],
   "source": [
    "import numpy as np\n",
    "import pandas as pd\n",
    "import matplotlib.pyplot as plt\n",
    "from numba import jit\n",
    "from scipy.integrate import odeint\n",
    "from datetime import datetime\n",
    "\n",
    "%matplotlib inline"
   ]
  },
  {
   "cell_type": "code",
   "execution_count": null,
   "metadata": {},
   "outputs": [],
   "source": [
    "print(\"Computed on: \", datetime.now().strftime(format='%y-%m-%d %T'))"
   ]
  },
  {
   "cell_type": "code",
   "execution_count": null,
   "metadata": {},
   "outputs": [],
   "source": [
    "import corona"
   ]
  },
  {
   "cell_type": "markdown",
   "metadata": {},
   "source": [
    "# Country data <a name=\"country\"/>"
   ]
  },
  {
   "cell_type": "code",
   "execution_count": null,
   "metadata": {},
   "outputs": [],
   "source": [
    "info = corona.CovidModel(country)\n",
    "print(\"Country: \", info.country)\n",
    "print(\"Population: \", info.population)\n",
    "print(\"Number of revealed cases: \", info.data[0][-1])\n",
    "print(\"Number of deaths: \", info.data[1][-1])"
   ]
  },
  {
   "cell_type": "code",
   "execution_count": null,
   "metadata": {},
   "outputs": [],
   "source": [
    "delta = info.data[:,1:] - info.data[:,:-1]\n",
    "days = np.arange(np.shape(delta)[1])\n",
    "\n",
    "fig, ax1 = plt.subplots(figsize=(14,8))\n",
    "\n",
    "ax1.bar(days, delta[0], width=.8)\n",
    "ax1.set_ylabel('Cases per day')\n",
    "ax1.set_xlabel(\"Days since January 22, 2020\")\n",
    "\n",
    "ax2 = ax1.twinx()\n",
    "ax2.plot(days, info.data[0][1:], '-', color='red', linewidth=5)\n",
    "ax2.set_ylabel('Total number of cases')\n",
    "fig.tight_layout()\n",
    "\n",
    "plt.title(info.country + \": COVID19 stats\");\n",
    "plt.grid()"
   ]
  },
  {
   "cell_type": "markdown",
   "metadata": {},
   "source": [
    "Red dots show the total number of confirmed cases. Blue bars represent number of confirmed cases daily.\n",
    "\n",
    "\"Day 0\" is January 22, when WHO started collecting data from countries."
   ]
  },
  {
   "cell_type": "markdown",
   "metadata": {},
   "source": [
    "# Models with immunity <a name=\"r-models\"/>"
   ]
  },
  {
   "cell_type": "markdown",
   "metadata": {},
   "source": [
    "## SIR - the basic epidemiology model <a name=\"sir\"/>\n",
    "This model is modified [SIR](https://en.wikipedia.org/wiki/Compartmental_models_in_epidemiology#The_SIR_model): \n",
    "- **S** is *Susceptible*\n",
    "- **I** is *Infectious*\n",
    "- **R** is *Recovered* (and *diseased*). The model expects that this pool becomes 100% immune.\n",
    "- **O** is *cOnfirmed* individuals, both hospitalized and quorantined at home with a positive test\n",
    "\n",
    "The model utilises three parameters: $\\alpha$,$\\beta$ and $k$:\n",
    "- $\\alpha$ models the speed of infection spread,\n",
    "- $\\beta$ represents the speed of recovery (and deaths)\n",
    "- $k$ is the reveal factor, how many infectious people are confirmed as positive.\n",
    "\n",
    "The differential equations:<br>\n",
    "$\\frac{dS}{dt} = -\\alpha S I$,<br>\n",
    "$\\frac{dI}{dt} = \\alpha S I - \\beta I$, <br>\n",
    "$\\frac{dR}{dt} = \\beta I$,<br>\n",
    "$\\frac{dO}{dt} = k I$.\n",
    "\n",
    "The initial value vector is ${S_0, I_0, R_0, O_0}$, where $S_0 = 1 - I_0 - R_0$ and $O_0$ is the number of revealed cases at the beginning. The initial values $I_0$ and $R_0$ are guessed during optimization process."
   ]
  },
  {
   "cell_type": "code",
   "execution_count": null,
   "metadata": {
    "scrolled": false
   },
   "outputs": [],
   "source": [
    "test_sir = corona.CovidModel(country, model='sir_o_r0')\n",
    "\n",
    "test_sir.run(500, figsize=(10, 6))"
   ]
  },
  {
   "cell_type": "markdown",
   "metadata": {},
   "source": [
    "## Part of the population are symptom-less infectious carriers <a name=\"sirc\"/>\n",
    "**SIRC-O** - a SIR model with carriers and with explicit confirmed cases. Recovered species posess immunity.\n",
    "\n",
    "This model is modified [SIR](https://en.wikipedia.org/wiki/Compartmental_models_in_epidemiology#The_SIR_model): \n",
    "- **S** is *Succeptible*\n",
    "- **I** is *Infectious*, i.e. with syptoms of the disease.\n",
    "- **C** is *Carrier*, i.e. infectious, but without symptoms or actual illness.\n",
    "- **R** is *Recovered* (and *diseased*). While in **R** state people are immune.\n",
    "- **O** is *cOnfirmed* individuals, both hospitalized and quorantined at home with a positive test\n",
    "\n",
    "The major feature of this model is having people carry the virus and infect others without actually being ill.\n",
    "\n",
    "The model utilises the following parameters: \n",
    "- $\\alpha$ models the speed of infection spread,\n",
    "- $\\beta$ represents the speed of recovery (and deaths),\n",
    "- $c_s$ models efficiency of infection transmission by carriers compared to infectious.\n",
    "- $i_r$ is the ratio of infectious, who recovered (became immune), and $1 - i_r$ become carriers.\n",
    "- $c_r$ represents the speed of recovery of carriers.\n",
    "- $c_i$ represents the speed of conversion of carriers to infected.\n",
    "- $k$ is the reveal factor, how many infectious people and carriers are confirmed as positive.\n",
    "\n",
    "The differential equations:\n",
    "$\\frac{dS}{dt} = -\\alpha S I - c_s \\alpha S C$,<br>\n",
    "$\\frac{dI}{dt} = \\alpha S I + c_s \\alpha S C - \\beta I$ + c_i C, <br>\n",
    "$\\frac{dR}{dt} = \\beta i_r I$ + c_r C,<br>\n",
    "$\\frac{dC}{dt} = \\beta (1 - i_r) I - (c_r + c_i) C$,<br>\n",
    "$\\frac{dO}{dt} = k (I + C)$.\n",
    "\n",
    "The initial value vector is ${S_0, I_0, R_0, C_0, O_0}$, where $S_0 = 1 - I_0 - R_0 - C_0$, and $O_0$ is the number of revealed cases at the beginning. The initial values $I_0$, $R_0$ and $C_0$ are guessed during optimization process."
   ]
  },
  {
   "cell_type": "code",
   "execution_count": null,
   "metadata": {
    "scrolled": false
   },
   "outputs": [],
   "source": [
    "test_sirc = corona.CovidModel(country, model='sir_co')\n",
    "test_sirc.run(300)"
   ]
  },
  {
   "cell_type": "markdown",
   "metadata": {},
   "source": [
    "## Model with exposed (incubation period) <a name=\"seir\"/>\n",
    "    \n",
    "**SEIR-O** is SIR model with incubation period.\n",
    "\n",
    "This model is modified [SIR](https://en.wikipedia.org/wiki/Compartmental_models_in_epidemiology#The_SIR_model): \n",
    "- **S** is *Succeptible*\n",
    "- **E** is *Exposed*, i.e. people who are infected, but not yet infectious.\n",
    "- **I** is *Infectious*\n",
    "- **R** is *Recovered* (and *diseased*). While in **R** state people are immune.\n",
    "- **O** is *cOnfirmed* individuals, both hospitalized and quorantined at home with a positive test\n",
    "\n",
    "The major feature of this model is conversion of some or recovered back into succeptible.\n",
    "\n",
    "The model utilises the following parameters: \n",
    "- $\\alpha$ models the speed of infection spread,\n",
    "- $\\beta$ represents the speed of recovery (and deaths),\n",
    "- $e_i$ represents the speed of becoming infectious,\n",
    "- $e_i$ represents the speed of becoming immune without becoming infectious,\n",
    "- $k$ is the reveal factor, how many infectious people are confirmed as positive.\n",
    "\n",
    "The differential equations:<br>\n",
    "$\\frac{dS}{dt} = -\\alpha S I$,<br>\n",
    "$\\frac{dE}{dt} = \\alpha S I - e_i E - e_r E$, <br>\n",
    "$\\frac{dI}{dt} = e_i E - \\beta I$, <br>\n",
    "$\\frac{dR}{dt} = \\beta I + e_r E$,<br>\n",
    "$\\frac{dO}{dt} = k I$.\n",
    "\n",
    "The initial value vector is ${S_0, E_0, I_0, R_0, O_0}$, where $S_0 = 1 - E_0 - I_0 - R_0$ and $O_0$ is the number of revealed cases at the beginning. The initial values $E_0$, $I_0$ and $R_0$ are guessed during optimization process.\n"
   ]
  },
  {
   "cell_type": "code",
   "execution_count": null,
   "metadata": {
    "scrolled": false
   },
   "outputs": [],
   "source": [
    "test_seir = corona.CovidModel(country, model='seir_o')\n",
    "\n",
    "test_seir.run(300)"
   ]
  },
  {
   "cell_type": "markdown",
   "metadata": {},
   "source": [
    "# Models without immunity <a name=\"s-models\"></a>\n"
   ]
  },
  {
   "cell_type": "markdown",
   "metadata": {},
   "source": [
    "## Some of recovered become susceptible again <a name=\"sirs\"/>\n",
    "\n",
    "**SIRS-O** is SIR model without antigen and with explicit confirmed cases\n",
    "\n",
    "This model is modified [SIR](https://en.wikipedia.org/wiki/Compartmental_models_in_epidemiology#The_SIR_model): \n",
    "- **S** is *Succeptible*\n",
    "- **I** is *Infectious*\n",
    "- **R** is *Recovered* (and *diseased*). While in **R** state people are immune.\n",
    "- **O** is *cOnfirmed* individuals, both hospitalized and quorantined at home with a positive test\n",
    "\n",
    "The major feature of this model is conversion of some or recovered back into succeptible.\n",
    "\n",
    "The model utilises the following parameters: \n",
    "- $\\alpha$ models the speed of infection spread,\n",
    "- $\\beta$ represents the speed of recovery (and deaths),\n",
    "- $r_s$ is the ratio of recovered people who are susceptible again,\n",
    "- $k$ is the reveal factor, how many infectious people are confirmed as positive.\n",
    "\n",
    "The differential equations:<br>\n",
    "$\\frac{dS}{dt} = -\\alpha S I + r_s R$,<br>\n",
    "$\\frac{dI}{dt} = \\alpha S I - \\beta I$, <br>\n",
    "$\\frac{dR}{dt} = \\beta I - r_s R$,<br>\n",
    "$\\frac{dO}{dt} = k I$.\n",
    "\n",
    "The initial value vector is ${S_0, I_0, R_0, O_0}$, where $S_0 = 1 - I_0 - R_0$ and $O_0$ is the number of revealed cases at the beginning. The initial values $I_0$ and $R_0$ are guessed during optimization process.\n"
   ]
  },
  {
   "cell_type": "code",
   "execution_count": null,
   "metadata": {
    "scrolled": false
   },
   "outputs": [],
   "source": [
    "test_sirs = corona.CovidModel(country, model='sir_so_r0')\n",
    "test_sirs.run(300)"
   ]
  },
  {
   "cell_type": "markdown",
   "metadata": {},
   "source": [
    "## Part of the population are symptom-less infectious carriers, and recovered loose the immunity<a name=\"sirsc\"/>\n",
    "\n",
    "**SIRSC-O** - a SIRS model with carriers and with explicit confirmed cases. Recovered species turn back into susceptible.\n",
    "\n",
    "This model is modified [SIR](https://en.wikipedia.org/wiki/Compartmental_models_in_epidemiology#The_SIR_model): \n",
    "- **S** is *Succeptible*\n",
    "- **I** is *Infectious*, i.e. with syptoms of the disease.\n",
    "- **C** is *Carrier*, i.e. infectious, but without symptoms or actual illness.\n",
    "- **R** is *Recovered* (and *diseased*). While in **R** state people are immune.\n",
    "- **O** is *cOnfirmed* individuals, both hospitalized and quorantined at home with a positive test\n",
    "\n",
    "The major feature of this model is having people carry the virus and infect others without actually being ill.\n",
    "\n",
    "The model utilises the following parameters: \n",
    "- $\\alpha$ models the speed of infection spread,\n",
    "- $\\beta$ represents the speed of recovery (and deaths),\n",
    "- $c_s$ models efficiency of infection transmission by carriers compared to infectious.\n",
    "- $i_r$ is the ratio of infectious, who recovered (became immune), and $1 - i_r$ become carriers.\n",
    "- $c_r$ represents the speed of recovery of carriers.\n",
    "- $c_i$ represents the speed of conversion of carriers to infected.\n",
    "- $r_s$  is the ratio of recovered people who are susceptible again. \n",
    "- $k$ is the reveal factor, how many infectious people and carriers are confirmed as positive.\n",
    "\n",
    "The differential equations:\n",
    "$\\frac{dS}{dt} = -\\alpha S I - c_s \\alpha S C$ + r_s R,<br>\n",
    "$\\frac{dI}{dt} = \\alpha S I + c_s \\alpha S C - \\beta I$ + c_i C, <br>\n",
    "$\\frac{dR}{dt} = \\beta i_r I + c_r C - r_s R$,<br>\n",
    "$\\frac{dC}{dt} = \\beta (1 - i_r) I - (c_r + c_i) C$,<br>\n",
    "$\\frac{dO}{dt} = k (I + C)$.\n",
    "\n",
    "The initial value vector is ${S_0, I_0, R_0, C_0, O_0}$, where $S_0 = 1 - I_0 - R_0 - C_0$, and $O_0$ is the number of revealed cases at the beginning. The initial values $I_0$, $R_0$ and $C_0$ are guessed during optimization process."
   ]
  },
  {
   "cell_type": "code",
   "execution_count": null,
   "metadata": {
    "scrolled": false
   },
   "outputs": [],
   "source": [
    "test_sir_sco = corona.CovidModel(country, model='sir_sco')\n",
    "test_sir_sco.run(300)\n"
   ]
  },
  {
   "cell_type": "markdown",
   "metadata": {},
   "source": [
    "## Experimental model with carriers and no immunity\n",
    "The model is almost the same as the previous one. The only difference is in revealing efficiency for infectious and carriers. It expects that infectious and carriers are revealed at different pace.\n",
    "\n",
    "- $k_i$ is the reveal factor, how many infectious people are confirmed as positive.\n",
    "- $k_c$ is the reveal factor, how many carriers are confirmed as positive.\n",
    "\n",
    "The differential equations:<br>\n",
    "$\\frac{dS}{dt} = -\\alpha S I - c_s \\alpha S C$ + r_s R,<br>\n",
    "$\\frac{dI}{dt} = \\alpha S I + c_s \\alpha S C - \\beta I$ + c_i C, <br>\n",
    "$\\frac{dR}{dt} = \\beta i_r I + c_r C - r_s R$,<br>\n",
    "$\\frac{dC}{dt} = \\beta (1 - i_r) I - (c_r + c_i) C$,<br>\n",
    "$\\frac{dO}{dt} = k_i I + k_c C$.\n",
    "\n",
    "The initial value vector is ${S_0, I_0, R_0, C_0, O_0}$, where $S_0 = 1 - I_0 - R_0 - C_0$, and $O_0$ is the number of revealed cases at the beginning. The initial values $I_0$, $R_0$ and $C_0$ are guessed during optimization process."
   ]
  },
  {
   "cell_type": "code",
   "execution_count": null,
   "metadata": {
    "scrolled": false
   },
   "outputs": [],
   "source": [
    "test_sir_sco_kc = corona.CovidModel(country, model='sir_sco_kc')\n",
    "test_sir_sco_kc.run(300)"
   ]
  },
  {
   "cell_type": "markdown",
   "metadata": {},
   "source": [
    "## Model with incubation period and no immunity (SEIRS) <a name=\"seirs\"/>\n",
    "\n",
    "**SEIRS-O** is SIR model with incubation period and no immunity (recovered turn back into susceptible).\n",
    "\n",
    "This model is modified [SIR](https://en.wikipedia.org/wiki/Compartmental_models_in_epidemiology#The_SIR_model): \n",
    "- **S** is *Succeptible*\n",
    "- **E** is *Exposed*, i.e. people who are infected, but not yet infectious.\n",
    "- **I** is *Infectious*\n",
    "- **R** is *Recovered* (and *diseased*). While in **R** state people are immune.\n",
    "- **O** is *cOnfirmed* individuals, both hospitalized and quorantined at home with a positive test\n",
    "\n",
    "The major feature of this model is conversion of some or recovered back into succeptible.\n",
    "\n",
    "The model utilises the following parameters: \n",
    "- $\\alpha$ models the speed of infection spread,\n",
    "- $\\beta$ represents the speed of recovery (and deaths),\n",
    "- $e_i$ represents the speed of becoming infectious,\n",
    "- $e_i$ represents the speed of becoming immune without becoming infectious,\n",
    "- $r_s$ is the ratio of recovered people who are susceptible again,\n",
    "- $k$ is the reveal factor, how many infectious people are confirmed as positive.\n",
    "\n",
    "The differential equations:<br>\n",
    "$\\frac{dS}{dt} = -\\alpha S I + r_s R$,<br>\n",
    "$\\frac{dE}{dt} = \\alpha S I - e_i E - e_r E$, <br>\n",
    "$\\frac{dI}{dt} = e_i E - \\beta I$, <br>\n",
    "$\\frac{dR}{dt} = \\beta I + e_r E - r_s R$,<br>\n",
    "$\\frac{dO}{dt} = k I$.\n",
    "\n",
    "The initial value vector is ${S_0, E_0, I_0, R_0, O_0}$, where $S_0 = 1 - E_0 - I_0 - R_0$ and $O_0$ is the number of revealed cases at the beginning. The initial values $E_0$, $I_0$ and $R_0$ are guessed during optimization process.\n"
   ]
  },
  {
   "cell_type": "code",
   "execution_count": null,
   "metadata": {
    "scrolled": false
   },
   "outputs": [],
   "source": [
    "test_seir_so = corona.CovidModel(country, model='seir_so')\n",
    "test_seir_so.run(300)"
   ]
  }
 ],
 "metadata": {
  "kernelspec": {
   "display_name": "Python 3",
   "language": "python",
   "name": "python3"
  },
  "language_info": {
   "codemirror_mode": {
    "name": "ipython",
    "version": 3
   },
   "file_extension": ".py",
   "mimetype": "text/x-python",
   "name": "python",
   "nbconvert_exporter": "python",
   "pygments_lexer": "ipython3",
   "version": "3.6.9"
  }
 },
 "nbformat": 4,
 "nbformat_minor": 4
}

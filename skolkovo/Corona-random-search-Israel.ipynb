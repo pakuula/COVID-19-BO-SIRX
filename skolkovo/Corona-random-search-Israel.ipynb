{
 "cells": [
  {
   "cell_type": "markdown",
   "metadata": {
    "Collapsed": "false"
   },
   "source": [
    "## SIR-X model\n",
    "\n",
    "\n",
    "The SIR-X model http://rocs.hu-berlin.de/corona/docs/forecast/results_by_country/ is a simple but seems to be accurate model.\n",
    "\n",
    "The population is described by **S** (fraction of people suspectible to the infection), **I** (fraction of people infected and spreading the infection), (**R** which is neither suspectible nor infected), and **X** (the number of \"quarantineed\" people). \n",
    "\n",
    "$X$ is roughly the number of cases reported by each country. \n",
    "\n",
    "The equations describing the evolution of $S$, $I$, $R$ and $X$ are self-explanatory:\n",
    "\n",
    "$$\\frac{dS}{dt} = -\\alpha S I - k_0 S,  \\quad \\frac{dI}{dt} = \\alpha S I - \\beta I - k_0 I - k I, \n",
    "\\quad \\frac{dX}{dt} = (k_0 + k) I, \\quad \\frac{dR}{dt} = k_0 S + \\beta I.$$\n",
    "\n",
    "The first equation controls the spread of the infection (the growth is proportional to the probability of meeting of $S$ and $I$), \n",
    "the constant $\\beta$ controls the recovery / death process (and is roughly $\\beta \\approx \\frac{1}{T}$, where $T$ is the characteristic time of the decease). \n",
    "\n",
    "The parameters $k_0$ and $k$ represent the measures taken: $k_0$ corresponds to social distancing / contract tracing, whereas $k$ controls the quarantine process for symptomatic individuals\n",
    "\n",
    "To fit the model, one has to find the parameters of it $\\alpha, \\beta, k_0, k$ and the initial number of infected individuals $I_0$ such that the $X(t)$ approximates the observed cases $C(t)$. The true number of potentially infected people $I(t)$ can be much larger. \n",
    "\n",
    "Several optimization techniques can be used. We tried gradient-free optimization package **nevergrad**, however, \n",
    "right now we are doing the Bayesian optimization in order to give not only the values of parameters, but also the risk values. \n",
    "\n",
    "\n",
    "The data collection below is taken form a nice [Google Colab notebook](https://colab.research.google.com/drive/15R6bXKW--TSMXClMfHql8zU0ePOLEoa3)"
   ]
  },
  {
   "cell_type": "code",
   "execution_count": 1,
   "metadata": {},
   "outputs": [],
   "source": [
    "Country = 'Israel'\n",
    "population = {\"Russia\" : 146745098, \n",
    "              \"Italy\" : 60317000, \n",
    "              \"China\" : 1404328000, \n",
    "              \"US\" : 331002651, \n",
    "              \"Korea, South\":  51259070,\n",
    "              \"Israel\" : 8655535\n",
    "             }\n",
    "\n",
    "starting_threshold = 10\n",
    "search_attempts = 1000\n",
    "\n"
   ]
  },
  {
   "cell_type": "code",
   "execution_count": 2,
   "metadata": {
    "Collapsed": "false"
   },
   "outputs": [],
   "source": [
    "import numpy as np\n",
    "import pandas as pd\n",
    "import matplotlib.pyplot as plt\n",
    "from numba import jit\n",
    "#import pymc as pm\n",
    "from scipy.integrate import odeint\n",
    "from concurrent import futures\n",
    "\n",
    "%matplotlib inline\n"
   ]
  },
  {
   "cell_type": "code",
   "execution_count": 3,
   "metadata": {
    "Collapsed": "false"
   },
   "outputs": [
    {
     "data": {
      "text/html": [
       "<div>\n",
       "<style scoped>\n",
       "    .dataframe tbody tr th:only-of-type {\n",
       "        vertical-align: middle;\n",
       "    }\n",
       "\n",
       "    .dataframe tbody tr th {\n",
       "        vertical-align: top;\n",
       "    }\n",
       "\n",
       "    .dataframe thead th {\n",
       "        text-align: right;\n",
       "    }\n",
       "</style>\n",
       "<table border=\"1\" class=\"dataframe\">\n",
       "  <thead>\n",
       "    <tr style=\"text-align: right;\">\n",
       "      <th></th>\n",
       "      <th>Lat</th>\n",
       "      <th>Long</th>\n",
       "      <th>1/22/20</th>\n",
       "      <th>1/23/20</th>\n",
       "      <th>1/24/20</th>\n",
       "      <th>1/25/20</th>\n",
       "      <th>1/26/20</th>\n",
       "      <th>1/27/20</th>\n",
       "      <th>1/28/20</th>\n",
       "      <th>1/29/20</th>\n",
       "      <th>...</th>\n",
       "      <th>3/31/20</th>\n",
       "      <th>4/1/20</th>\n",
       "      <th>4/2/20</th>\n",
       "      <th>4/3/20</th>\n",
       "      <th>4/4/20</th>\n",
       "      <th>4/5/20</th>\n",
       "      <th>4/6/20</th>\n",
       "      <th>4/7/20</th>\n",
       "      <th>4/8/20</th>\n",
       "      <th>4/9/20</th>\n",
       "    </tr>\n",
       "    <tr>\n",
       "      <th>Country</th>\n",
       "      <th></th>\n",
       "      <th></th>\n",
       "      <th></th>\n",
       "      <th></th>\n",
       "      <th></th>\n",
       "      <th></th>\n",
       "      <th></th>\n",
       "      <th></th>\n",
       "      <th></th>\n",
       "      <th></th>\n",
       "      <th></th>\n",
       "      <th></th>\n",
       "      <th></th>\n",
       "      <th></th>\n",
       "      <th></th>\n",
       "      <th></th>\n",
       "      <th></th>\n",
       "      <th></th>\n",
       "      <th></th>\n",
       "      <th></th>\n",
       "      <th></th>\n",
       "    </tr>\n",
       "  </thead>\n",
       "  <tbody>\n",
       "    <tr>\n",
       "      <th>Germany</th>\n",
       "      <td>51.0000</td>\n",
       "      <td>9.0000</td>\n",
       "      <td>0</td>\n",
       "      <td>0</td>\n",
       "      <td>0</td>\n",
       "      <td>0</td>\n",
       "      <td>0</td>\n",
       "      <td>1</td>\n",
       "      <td>4</td>\n",
       "      <td>4</td>\n",
       "      <td>...</td>\n",
       "      <td>71808</td>\n",
       "      <td>77872</td>\n",
       "      <td>84794</td>\n",
       "      <td>91159</td>\n",
       "      <td>96092</td>\n",
       "      <td>100123</td>\n",
       "      <td>103374</td>\n",
       "      <td>107663</td>\n",
       "      <td>113296</td>\n",
       "      <td>118181</td>\n",
       "    </tr>\n",
       "    <tr>\n",
       "      <th>France</th>\n",
       "      <td>91.3624</td>\n",
       "      <td>59.7192</td>\n",
       "      <td>0</td>\n",
       "      <td>0</td>\n",
       "      <td>2</td>\n",
       "      <td>3</td>\n",
       "      <td>3</td>\n",
       "      <td>3</td>\n",
       "      <td>4</td>\n",
       "      <td>5</td>\n",
       "      <td>...</td>\n",
       "      <td>52827</td>\n",
       "      <td>57749</td>\n",
       "      <td>59929</td>\n",
       "      <td>65202</td>\n",
       "      <td>90848</td>\n",
       "      <td>93773</td>\n",
       "      <td>98963</td>\n",
       "      <td>110065</td>\n",
       "      <td>113959</td>\n",
       "      <td>118781</td>\n",
       "    </tr>\n",
       "    <tr>\n",
       "      <th>Italy</th>\n",
       "      <td>43.0000</td>\n",
       "      <td>12.0000</td>\n",
       "      <td>0</td>\n",
       "      <td>0</td>\n",
       "      <td>0</td>\n",
       "      <td>0</td>\n",
       "      <td>0</td>\n",
       "      <td>0</td>\n",
       "      <td>0</td>\n",
       "      <td>0</td>\n",
       "      <td>...</td>\n",
       "      <td>105792</td>\n",
       "      <td>110574</td>\n",
       "      <td>115242</td>\n",
       "      <td>119827</td>\n",
       "      <td>124632</td>\n",
       "      <td>128948</td>\n",
       "      <td>132547</td>\n",
       "      <td>135586</td>\n",
       "      <td>139422</td>\n",
       "      <td>143626</td>\n",
       "    </tr>\n",
       "    <tr>\n",
       "      <th>Spain</th>\n",
       "      <td>40.0000</td>\n",
       "      <td>-4.0000</td>\n",
       "      <td>0</td>\n",
       "      <td>0</td>\n",
       "      <td>0</td>\n",
       "      <td>0</td>\n",
       "      <td>0</td>\n",
       "      <td>0</td>\n",
       "      <td>0</td>\n",
       "      <td>0</td>\n",
       "      <td>...</td>\n",
       "      <td>95923</td>\n",
       "      <td>104118</td>\n",
       "      <td>112065</td>\n",
       "      <td>119199</td>\n",
       "      <td>126168</td>\n",
       "      <td>131646</td>\n",
       "      <td>136675</td>\n",
       "      <td>141942</td>\n",
       "      <td>148220</td>\n",
       "      <td>153222</td>\n",
       "    </tr>\n",
       "    <tr>\n",
       "      <th>US</th>\n",
       "      <td>37.0902</td>\n",
       "      <td>-95.7129</td>\n",
       "      <td>1</td>\n",
       "      <td>1</td>\n",
       "      <td>2</td>\n",
       "      <td>2</td>\n",
       "      <td>5</td>\n",
       "      <td>5</td>\n",
       "      <td>5</td>\n",
       "      <td>5</td>\n",
       "      <td>...</td>\n",
       "      <td>188172</td>\n",
       "      <td>213372</td>\n",
       "      <td>243762</td>\n",
       "      <td>275586</td>\n",
       "      <td>308853</td>\n",
       "      <td>337072</td>\n",
       "      <td>366667</td>\n",
       "      <td>396223</td>\n",
       "      <td>429052</td>\n",
       "      <td>461437</td>\n",
       "    </tr>\n",
       "  </tbody>\n",
       "</table>\n",
       "<p>5 rows × 81 columns</p>\n",
       "</div>"
      ],
      "text/plain": [
       "             Lat     Long  1/22/20  1/23/20  1/24/20  1/25/20  1/26/20  \\\n",
       "Country                                                                  \n",
       "Germany  51.0000   9.0000        0        0        0        0        0   \n",
       "France   91.3624  59.7192        0        0        2        3        3   \n",
       "Italy    43.0000  12.0000        0        0        0        0        0   \n",
       "Spain    40.0000  -4.0000        0        0        0        0        0   \n",
       "US       37.0902 -95.7129        1        1        2        2        5   \n",
       "\n",
       "         1/27/20  1/28/20  1/29/20  ...  3/31/20  4/1/20  4/2/20  4/3/20  \\\n",
       "Country                             ...                                    \n",
       "Germany        1        4        4  ...    71808   77872   84794   91159   \n",
       "France         3        4        5  ...    52827   57749   59929   65202   \n",
       "Italy          0        0        0  ...   105792  110574  115242  119827   \n",
       "Spain          0        0        0  ...    95923  104118  112065  119199   \n",
       "US             5        5        5  ...   188172  213372  243762  275586   \n",
       "\n",
       "         4/4/20  4/5/20  4/6/20  4/7/20  4/8/20  4/9/20  \n",
       "Country                                                  \n",
       "Germany   96092  100123  103374  107663  113296  118181  \n",
       "France    90848   93773   98963  110065  113959  118781  \n",
       "Italy    124632  128948  132547  135586  139422  143626  \n",
       "Spain    126168  131646  136675  141942  148220  153222  \n",
       "US       308853  337072  366667  396223  429052  461437  \n",
       "\n",
       "[5 rows x 81 columns]"
      ]
     },
     "execution_count": 3,
     "metadata": {},
     "output_type": "execute_result"
    }
   ],
   "source": [
    "online = True\n",
    "\n",
    "if online:\n",
    "    COVID_CONFIRMED_URL = 'https://raw.githubusercontent.com/CSSEGISandData/COVID-19/master/csse_covid_19_data/csse_covid_19_time_series/time_series_covid19_confirmed_global.csv'\n",
    "    COVID_DEATHS_URL = 'https://raw.githubusercontent.com/CSSEGISandData/COVID-19/master/csse_covid_19_data/csse_covid_19_time_series/time_series_covid19_deaths_global.csv'\n",
    "    COVID_RECOVERED_URL = 'https://raw.githubusercontent.com/CSSEGISandData/COVID-19/master/csse_covid_19_data/csse_covid_19_time_series/time_series_covid19_recovered_global.csv'\n",
    "else:\n",
    "    COVID_CONFIRMED_URL = 'COVID-19/csse_covid_19_data/csse_covid_19_time_series/time_series_covid19_confirmed_global.csv'\n",
    "    COVID_DEATHS_URL = 'COVID-19/csse_covid_19_data/csse_covid_19_time_series/time_series_covid19_deaths_global.csv'\n",
    "    COVID_RECOVERED_URL = 'COVID-19/csse_covid_19_data/csse_covid_19_time_series/time_series_covid19_recovered_global.csv'\n",
    "    \n",
    "\n",
    "\n",
    "covid_confirmed = pd.read_csv(COVID_CONFIRMED_URL)\n",
    "covid_deaths = pd.read_csv(COVID_DEATHS_URL)\n",
    "covid_recovered = pd.read_csv(COVID_RECOVERED_URL)\n",
    "\n",
    "covid_confirmed.rename(columns={'Country/Region':'Country'}, inplace=True)\n",
    "covid_deaths.rename(columns={'Country/Region':'Country'}, inplace=True)\n",
    "covid_recovered.rename(columns={'Country/Region':'Country'}, inplace=True)\n",
    "covid_confirmed.rename(columns={'Province/State':'State'}, inplace=True)\n",
    "covid_deaths.rename(columns={'Province/State':'State'}, inplace=True)\n",
    "covid_recovered.rename(columns={'Province/State':'State'}, inplace=True)\n",
    "\n",
    "covid_confirmed = covid_confirmed.groupby(\"Country\").sum()\n",
    "covid_deaths = covid_deaths.groupby(\"Country\").sum()\n",
    "covid_recovered = covid_recovered.groupby(\"Country\").sum()\n",
    "\n",
    "\n",
    "covid_confirmed.sort_values(covid_confirmed.columns[-1]).tail()"
   ]
  },
  {
   "cell_type": "code",
   "execution_count": 4,
   "metadata": {
    "Collapsed": "false"
   },
   "outputs": [
    {
     "data": {
      "text/plain": [
       "9968"
      ]
     },
     "execution_count": 4,
     "metadata": {},
     "output_type": "execute_result"
    }
   ],
   "source": [
    "data_country_confirmed = covid_confirmed.loc[Country].values[2:].astype(int)\n",
    "\n",
    "data = np.empty((3, data_country_confirmed.shape[0]), dtype=np.int64)\n",
    "data[0] = data_country_confirmed\n",
    "\n",
    "data[1] = covid_deaths.loc[Country].values[2:].astype(int)\n",
    "data[2] = covid_recovered.loc[Country].values[2:].astype(int)\n",
    "\n",
    "data_normed = data.astype(np.float64) / population[Country]\n",
    "data_normed_only_conf = data_normed[0] - data_normed[1] - data_normed[2]\n",
    "\n",
    "data[0][-1]"
   ]
  },
  {
   "cell_type": "code",
   "execution_count": 5,
   "metadata": {
    "Collapsed": "false"
   },
   "outputs": [
    {
     "data": {
      "image/png": "[encoded data removed]",
      "text/plain": [
       "<Figure size 432x288 with 1 Axes>"
      ]
     },
     "metadata": {
      "needs_background": "light"
     },
     "output_type": "display_data"
    },
    {
     "data": {
      "image/png": "[encoded data removed]",
      "text/plain": [
       "<Figure size 432x288 with 1 Axes>"
      ]
     },
     "metadata": {
      "needs_background": "light"
     },
     "output_type": "display_data"
    }
   ],
   "source": [
    "plt.plot(data.T);\n",
    "plt.figure()\n",
    "plt.plot(data_normed_only_conf);"
   ]
  },
  {
   "cell_type": "code",
   "execution_count": 6,
   "metadata": {
    "Collapsed": "false"
   },
   "outputs": [],
   "source": [
    "@jit\n",
    "def base_seir_model(init_vals, dt, N, params):\n",
    "    res = np.empty((N, 4), dtype=np.float64)\n",
    "    S = res[:, 0]\n",
    "    E = res[:, 1]\n",
    "    I = res[:, 2]\n",
    "    R = res[:, 3]\n",
    "    S[0], E[0], I[0], R[0] = init_vals\n",
    "    alpha, beta, gamma = params\n",
    "    for i in range(1, N):\n",
    "        S[i] = S[i-1] - (beta*S[i-1]*I[i-1])*dt\n",
    "        E[i] = E[i-1] + (beta*S[i-1]*I[i-1] - alpha*E[i-1])*dt\n",
    "        I[i] = I[i-1] + (alpha*E[i-1] - gamma*I[i-1])*dt\n",
    "        R[i] = R[i-1] + (gamma*I[i-1])*dt\n",
    "\n",
    "    #print(I)\n",
    "    return res\n",
    "\n",
    "\n",
    "def seir_rhs(y, t, alpha, beta, gamma):\n",
    "    S, E, I, R = y\n",
    "    return [-beta*S*I, beta*S*I - alpha*E, alpha*E - gamma*I, gamma*I]\n",
    "\n",
    "def base_seir_model_odeint(init_vals, dt, N, params):\n",
    "    t_max = N*dt\n",
    "    t = np.linspace(0, t_max, N + 1)\n",
    "    sol = odeint(seir_rhs, init_vals, t, args=params)\n",
    "    #return sol[::int(1/dt)]\n",
    "    return sol\n",
    "\n",
    "@jit\n",
    "def sirx_rhs(x, t, alpha, beta, k0, k):\n",
    "    S, I, X, R = x\n",
    "    dsdt = -alpha*S*I - k0*S\n",
    "    didt = (alpha*S - beta - (k0 + k))*I\n",
    "    dxdt = (k0 + k)*I\n",
    "    dRdt = k0*S + beta*I\n",
    "    return np.array([dsdt, didt, dxdt, dRdt])\n",
    "\n",
    "\n",
    "def base_sirx_model_rhs(x, params):\n",
    "    alpha, beta, k0, k = params\n",
    "    S, I, X, R = x\n",
    "    dsdt = -alpha*S*I - k0*S\n",
    "    didt = alpha*S*I - beta*I - k0*I - k*I\n",
    "    dxdt = (k0+k)*I\n",
    "    dRdt = k0*S + beta*I\n",
    "    return np.array([dsdt, didt, dxdt, dRdt])\n",
    "\n",
    "#@jit\n",
    "def base_sirx_model_odeint(init_vals, dt, N, params):\n",
    "    t_max = N*dt\n",
    "    t = np.linspace(0, t_max, N + 1)\n",
    "    sol = odeint(sirx_rhs, init_vals, t, args=params)\n",
    "    #sol[np.isnan(sol)] = 1e20\n",
    "    #sol[np.isinf(sol)] = 1e20\n",
    "    return sol\n",
    "\n",
    "\n",
    "\n",
    "# SIR Model (not working)\n",
    "@jit\n",
    "def base_sirf_model(init_vals, dt, N, params):\n",
    "    res = np.empty((N, 3), dtype=np.float64)\n",
    "    y = res[:, 0]\n",
    "    E = res[:, 1]\n",
    "    I = res[:, 2]\n",
    "    R = res[:, 3]\n",
    "    S[0], E[0], I[0], R[0] = init_vals\n",
    "    alpha, beta, gamma = params\n",
    "    for i in range(1, N):\n",
    "        S[i] = S[i-1] - (beta*S[i-1]*I[i-1])*dt\n",
    "        E[i] = E[i-1] + (beta*S[i-1]*I[i-1] - alpha*E[i-1])*dt\n",
    "        I[i] = I[i-1] + (alpha*E[i-1] - gamma*I[i-1])*dt\n",
    "        R[i] = R[i-1] + (gamma*I[i-1])*dt\n",
    "\n",
    "    return res\n"
   ]
  },
  {
   "cell_type": "code",
   "execution_count": 7,
   "metadata": {
    "Collapsed": "false"
   },
   "outputs": [
    {
     "name": "stdout",
     "output_type": "stream",
     "text": [
      "0\n"
     ]
    }
   ],
   "source": [
    "#vals = []\n",
    "\n",
    "data1 = data[0]\n",
    "data1 = data1[data1>=starting_threshold]\n",
    "data_offset = 0\n",
    "# data_offset = np.argwhere(data1 > 100)[0][0]\n",
    "\n",
    "print(data_offset)\n",
    "# data1 = data1/population[Country]\n",
    "#plt.plot(data1)\n",
    "\n",
    "#true_cases = data_normed_only_conf[-20:]\n",
    "#true_cases = data_normed_only_conf[data[0] >= 3]\n",
    "#true_cases = data_normed[0][data[0] >= 3]\n",
    "true_cases = data1/population[Country]\n",
    "\n",
    "\n",
    "def obs(alpha_MC, beta_MC, k0_MC, k_MC, I0_MC, cf = 1, N = len(true_cases), type_ret=2):\n",
    "        # N is number of points (days)\n",
    "        #global vals\n",
    "        dt = 1.0/cf\n",
    "        num = (N-1)*cf\n",
    "        # res = base_sirx_model_odeint((1.0 - (I0_MC + true_cases[0]), I0_MC, true_cases[0], 0.0), dt, num, (alpha_MC, beta_MC, k0_MC, k_MC))\n",
    "        res = base_sirx_model_odeint((1.0 - I0_MC, I0_MC, true_cases[0], 0.0), dt, num, (alpha_MC, beta_MC, k0_MC, k_MC))\n",
    "        rr = res.T[type_ret][::cf]\n",
    "        #print(rr)\n",
    "        #vals.append(rr)\n",
    "        return rr\n",
    "    \n",
    "def obs2(alpha_MC, beta_MC, k0_MC, k_MC, I0_MC, cf = 1, N = len(true_cases)):\n",
    "        # N is number of points (days)\n",
    "        #global vals\n",
    "        dt = 1.0/cf\n",
    "        num = (N-1)*cf\n",
    "        # res = base_sirx_model_odeint((1.0 - (I0_MC + true_cases[0]), I0_MC, true_cases[0], 0.0), dt, num, (alpha_MC, beta_MC, k0_MC, k_MC))\n",
    "        res = base_sirx_model_odeint((1.0 - I0_MC, I0_MC, true_cases[0], 0.0), dt, num, (alpha_MC, beta_MC, k0_MC, k_MC))\n",
    "        rr = res.T[::cf]\n",
    "        #print(rr)\n",
    "        #vals.append(rr)\n",
    "        return rr\n",
    "\n",
    "    \n",
    "\n",
    "def loss_fn_weighted(alpha, beta, k0, k, I0):\n",
    "    # Weighted variance\n",
    "    loss_val = np.linalg.norm( (obs(alpha, beta, k0, k, I0)[data_offset:] - true_cases[data_offset:])*data1[data_offset:] )\n",
    "    return loss_val\n",
    "\n",
    "def loss_fn_equal_weight(alpha, beta, k0, k, I0):\n",
    "    # Equal weight variance\n",
    "    loss_val = np.linalg.norm(obs(alpha, beta, k0, k, I0)[data_offset:] - true_cases[data_offset:])\n",
    "    return loss_val\n",
    "\n",
    "_ = \"\"\"\n",
    "num_days = len(true_cases)-1\n",
    "times = np.linspace(0, num_days, num_days+1)\n",
    "\n",
    "def compute_fit(alpha, beta, k0, k, I0):\n",
    "    params = np.array([alpha, beta, k0, k])\n",
    "    x0 = np.array([1.0, I0, true_cases[0], 0.0])\n",
    "    rhs = lambda x, t: base_sirx_model_rhs(x, params)\n",
    "    sol = odeint(rhs, x0, times)\n",
    "    predicted_cases = sol[:, 2]\n",
    "    return np.linalg.norm(true_cases-predicted_cases)\n",
    "\n",
    "\n",
    "def predict(alpha, beta, I0, k0, k, num_days):\n",
    "    times = np.linspace(0, num_days, num_days+1)\n",
    "    params = np.array([alpha, beta, k0, k])\n",
    "    x0 = np.array([1.0, I0, true_cases[0], 0.0])\n",
    "    rhs = lambda x, t: base_sirx_model_rhs(x, params)\n",
    "    sol = odeint(rhs, x0, times)\n",
    "    return sol\n",
    "\n",
    "\"\"\""
   ]
  },
  {
   "cell_type": "code",
   "execution_count": 8,
   "metadata": {},
   "outputs": [],
   "source": [
    "def show_match(vals, new_figure=True, label='Predicted'):\n",
    "    alpha_g, beta_g, k0_g, k_g, I0_g = vals\n",
    "    num = len(true_cases)+3\n",
    "    solution = population[Country]*obs(alpha_g, beta_g, k0_g, k_g, I0_g, N=num, cf=1)\n",
    "\n",
    "    time_scale = np.linspace(1, num, num)\n",
    "    time_scale_true = np.linspace(1, len(true_cases), len(true_cases))\n",
    "    if new_figure:\n",
    "        plt.figure(figsize=(10, 8))\n",
    "        plt.legend();\n",
    "        plt.title('Match between predicted and actual cases');\n",
    "        plt.plot(time_scale_true, population[Country]*true_cases, \"o\", label=\"true\");\n",
    "    plt.plot(time_scale, solution, \"-\", label=label);\n",
    "    # plt.yscale('log')\n",
    "    for i in (3,2,1):\n",
    "        print(\"{}: day {}: number of cases:{:.0f}\".format(label, 4-i, solution[-i] - solution[-i-1]))\n",
    "        \n",
    "def present_solution_many(vals, num_days=120, new_figure=True, label_prefix=None):\n",
    "    alpha_g, beta_g, k0_g, k_g, I0_g = vals\n",
    "    solution = population[Country]*obs(alpha_g, beta_g, k0_g, k_g, I0_g, N=num_days, cf=1)\n",
    "    # print(f\"{label}: Max cases: {max(solution):.0f}\")\n",
    "    if label_prefix is None:\n",
    "        label_prefix = \"\"\n",
    "\n",
    "    cases_max = solution[-1]/1000\n",
    "    label = label_prefix + f\"{cases_max:6.1f}\"\n",
    "    time_scale = np.linspace(-len(true_cases)+1, num_days - len(true_cases), num_days)\n",
    "    time_scale_true = np.linspace(-len(true_cases)+1 , -1, len(true_cases))\n",
    "    if new_figure:\n",
    "        plt.figure(figsize=(10, 8))\n",
    "        plt.legend();\n",
    "        plt.title(Country + ': Reported cases model');\n",
    "        plt.plot(time_scale_true, population[Country]*true_cases, \"o\", label=\"true\");\n",
    "    plt.plot(time_scale, solution, \"-\", label=label);\n",
    "    plt.text(time_scale[-10], solution[-1], label)\n",
    "    # plt.yscale('log')\n",
    "\n",
    "def present_solution(vals, num_days=120, new_figure=True, label=\"Predicted\"):\n",
    "    alpha_g, beta_g, k0_g, k_g, I0_g = vals\n",
    "    solution = population[Country]*obs(alpha_g, beta_g, k0_g, k_g, I0_g, N=num_days, cf=1)\n",
    "    print(f\"{label}: Max cases: {max(solution):.0f}\")\n",
    "\n",
    "    time_scale = np.linspace(-len(true_cases)+1, num_days - len(true_cases), num_days)\n",
    "    time_scale_true = np.linspace(-len(true_cases)+1 , -1, len(true_cases))\n",
    "    if new_figure:\n",
    "        plt.figure(figsize=(10, 8))\n",
    "        plt.legend();\n",
    "        plt.title(Country + ': Reported cases model');\n",
    "        plt.plot(time_scale_true, population[Country]*true_cases, \"o\", label=\"true\");\n",
    "    plt.plot(time_scale, solution, \"-\", label=label);\n",
    "    plt.text(time_scale[-10], solution[-1], label)\n",
    "    # plt.yscale('log')\n",
    "\n",
    "\n",
    "def prognosis(vals, num_days = 120, new_figure=True, several_scenarios=True, label_prefix=None):\n",
    "    alpha_g, beta_g, k0_g, k_g, I0_g = vals\n",
    "    start = obs2(alpha_g, beta_g, k0_g, k_g, I0_g, N=len(true_cases))[:, -1]\n",
    "    dt = 1.0\n",
    "    res1 = base_sirx_model_odeint(start, dt, num_days, (alpha_g, beta_g, k0_g, k_g))\n",
    "    if several_scenarios:\n",
    "        res2 = base_sirx_model_odeint(start, dt, num_days, (alpha_g, beta_g, 1e-2, k_g))\n",
    "        res3 = base_sirx_model_odeint(start, dt, num_days, (alpha_g, beta_g, 1e-1, k_g))\n",
    "    \n",
    "    if new_figure:\n",
    "        plt.figure(figsize=(10, 8))\n",
    "        plt.title(Country + ': Potentially infected model')\n",
    "        plt.legend()\n",
    "    if label_prefix is not None: \n",
    "        label_prefix += \": \"\n",
    "    else:\n",
    "        label_prefix = ''\n",
    "    plt.plot(res1[:, 1]*population[Country], label=f'{label_prefix}Current measures')\n",
    "    if several_scenarios:\n",
    "        plt.plot(res2[:, 1]*population[Country], label=f'{label_prefix}1% strictly isolated')\n",
    "        plt.plot(res3[:, 1]*population[Country], label=f'{label_prefix}10% strictly isolated')\n",
    "    print(f\"{label_prefix}Infected now: {res1[0, 1]*population[Country]:.0f}\")\n",
    "    if several_scenarios:\n",
    "        print(f\"{label_prefix}Max infected: {max(res1[:, 1]*population[Country]):.0f} vs {max(res2[:, 1]*population[Country]):.0f} vs {max(res3[:, 1]*population[Country]):.0f}\")\n",
    "    else:\n",
    "        print(f\"{label_prefix}Max infected: {max(res1[:, 1]*population[Country]):.0f}\")\n",
    "\n",
    "def prognosis_many(vals, num_days = 120, label_prefix=None, new_figure=True):\n",
    "    alpha_g, beta_g, k0_g, k_g, I0_g = vals\n",
    "    start = obs2(alpha_g, beta_g, k0_g, k_g, I0_g, N=len(true_cases))[:, -1]\n",
    "    dt = 1.0\n",
    "    res1 = base_sirx_model_odeint(start, dt, num_days, (alpha_g, beta_g, k0_g, k_g))\n",
    "    \n",
    "    if new_figure:\n",
    "        plt.figure(figsize=(10, 8))\n",
    "        plt.title(Country + ': Potentially infected model')\n",
    "        plt.legend()\n",
    "    if label_prefix is not None: \n",
    "        label_prefix += \": \"\n",
    "    else:\n",
    "        label_prefix = ''\n",
    "    \n",
    "    solution = res1[:, 1]*population[Country]/1000.0\n",
    "    infected_now = solution[0]\n",
    "    infected_max = max(solution)\n",
    "    infected_max_x = np.argmax(solution)\n",
    "    \n",
    "    label = f\"{label_prefix}{infected_now:0.1f}, max {infected_max:0.1f}\"\n",
    "    plt.plot(res1[:, 1]*population[Country], label=label)\n",
    "    plt.text(infected_max_x, infected_max*1000.0, label_prefix)"
   ]
  },
  {
   "cell_type": "markdown",
   "metadata": {},
   "source": [
    "Trying to optimize the solution using gradient descent in the small vicinity"
   ]
  },
  {
   "cell_type": "code",
   "execution_count": 9,
   "metadata": {},
   "outputs": [],
   "source": [
    "bounds = ((0.0, 10.0), (5e-2, 2.0), (0.0, 1e-1), (0, 0.1), (true_cases[0], true_cases[0]*100))\n",
    "bounds_low = np.array([b[0] for b in bounds])\n",
    "bounds_high = np.array([b[1] for b in bounds])\n",
    "\n",
    "def cost_fn(x):    \n",
    "    for v,b in zip(x,bounds):\n",
    "        l,r = b\n",
    "        if v < l or v > r:\n",
    "            return 1e100\n",
    "    return loss_fn_weighted(*x)"
   ]
  },
  {
   "cell_type": "code",
   "execution_count": 10,
   "metadata": {},
   "outputs": [],
   "source": [
    "from scipy import optimize"
   ]
  },
  {
   "cell_type": "code",
   "execution_count": 11,
   "metadata": {},
   "outputs": [],
   "source": [
    "class VectorIterator:\n",
    "    def __init__(self, N, low = -1, high = 1):\n",
    "        self.vector = np.full(N, low)\n",
    "        self.low = low\n",
    "        self.high = high\n",
    "    def __iter__(self):\n",
    "        self.first = True\n",
    "        return self\n",
    "    def __next__(self):\n",
    "        if self.first:\n",
    "            self.first = False\n",
    "            return self.vector\n",
    "            \n",
    "        for i,x in enumerate(self.vector):\n",
    "            if x == self.high:\n",
    "                self.vector[i] = self.low\n",
    "            else:\n",
    "                self.vector[i] += 1\n",
    "                return self.vector\n",
    "        raise StopIteration"
   ]
  },
  {
   "cell_type": "code",
   "execution_count": 12,
   "metadata": {},
   "outputs": [],
   "source": [
    "_local_minimum_factor = 1e-2\n",
    "def is_local_minimum(fn, x):\n",
    "    step = x*_local_minimum_factor\n",
    "    vi = VectorIterator(len(x))\n",
    "    m = fn(x)\n",
    "    for v in vi:\n",
    "        y = x + v*step\n",
    "        val_y = fn(y)\n",
    "        if val_y < m:\n",
    "            return False, (y, val_y)\n",
    "    return True, None"
   ]
  },
  {
   "cell_type": "code",
   "execution_count": 13,
   "metadata": {},
   "outputs": [],
   "source": [
    "def simple_descend(start, iters = 2000):\n",
    "    v = start\n",
    "    for i in range(iters):\n",
    "        res, nxt = is_local_minimum(cost_fn, v)\n",
    "        if res:\n",
    "            print(f\"Local minimum on step {i}\")\n",
    "            break\n",
    "        else:\n",
    "            v = nxt[0]\n",
    "    return v"
   ]
  },
  {
   "cell_type": "code",
   "execution_count": 14,
   "metadata": {},
   "outputs": [],
   "source": [
    "from IPython.display import clear_output\n",
    "\n",
    "def update_progress(progress):\n",
    "    bar_length = 20\n",
    "    if isinstance(progress, int):\n",
    "        progress = float(progress)\n",
    "    if not isinstance(progress, float):\n",
    "        progress = 0\n",
    "    if progress < 0:\n",
    "        progress = 0\n",
    "    if progress >= 1:\n",
    "        progress = 1\n",
    "\n",
    "    block = int(round(bar_length * progress))\n",
    "\n",
    "    clear_output(wait = True)\n",
    "    text = \"Progress: [{0}] {1:.1f}%\".format( \"#\" * block + \"-\" * (bar_length - block), progress * 100)\n",
    "    print(text)"
   ]
  },
  {
   "cell_type": "code",
   "execution_count": 15,
   "metadata": {},
   "outputs": [],
   "source": [
    "import itertools"
   ]
  },
  {
   "cell_type": "code",
   "execution_count": 16,
   "metadata": {
    "scrolled": true
   },
   "outputs": [
    {
     "name": "stdout",
     "output_type": "stream",
     "text": [
      "Progress: [####################] 100.0%\n"
     ]
    }
   ],
   "source": [
    "random_search_results = []\n",
    "for i in range(search_attempts):\n",
    "    if 0 == i%10:\n",
    "        update_progress(i/search_attempts)\n",
    "    x = np.random.uniform(bounds_low, bounds_high)\n",
    "    opt = optimize.minimize(cost_fn, x, method='Nelder-Mead')\n",
    "    if not opt.success:\n",
    "        continue\n",
    "    random_search_results.append((opt.fun, opt.x))\n",
    "update_progress(1)"
   ]
  },
  {
   "cell_type": "code",
   "execution_count": 17,
   "metadata": {},
   "outputs": [
    {
     "name": "stdout",
     "output_type": "stream",
     "text": [
      "1: R0 = 1.1949293835360169, initial infected: 153, number isolated: 0.11%,\n",
      "  0.30630322472649185: (1.7827657054669173, 1.4919423105919316, 0.0011076165951178574, 0.006891338496820443, 1.767917728250626e-05)\n",
      "\n",
      "2: R0 = 1.2568498991181185, initial infected: 274, number isolated: 0.11%,\n",
      "  0.3063654305454574: (1.3839700677329572, 1.1011418855219177, 0.0011104078470517199, 0.0033973452508490416, 3.164712922333943e-05)\n",
      "\n",
      "3: R0 = 1.2584630516780257, initial infected: 222, number isolated: 0.15%,\n",
      "  0.3065028073011232: (1.4366024316034216, 1.1415531267984913, 0.0015329326983874272, 0.0034485624184861074, 2.568443658865213e-05)\n",
      "\n",
      "4: R0 = 1.2283444018750613, initial infected: 103, number isolated: 0.22%,\n",
      "  0.3068091558442406: (1.7642708853227003, 1.4362998542017613, 0.002242258590709305, 0.006049265670494408, 1.1875054873725346e-05)\n",
      "\n",
      "5: R0 = 1.2599552405512444, initial infected: 117, number isolated: 0.26%,\n",
      "  0.3069411564994651: (1.6112770168135824, 1.2788367117776587, 0.0026172656167226336, 0.004185181472591322, 1.3491989178448834e-05)\n",
      "\n",
      "6: R0 = 1.330944926922988, initial infected: 192, number isolated: 0.29%,\n",
      "  0.3070989954064379: (1.3097322942717677, 0.9840619756519439, 0.002911549047924006, 0.0012576146110858278, 2.2171258066152935e-05)\n",
      "\n",
      "7: R0 = 1.181044173840332, initial infected: 42, number isolated: 0.23%,\n",
      "  0.30710211752840016: (2.3462160242940704, 1.9865607707669544, 0.0022911212606297427, 0.014098461384197854, 4.9019817481533e-06)\n",
      "\n",
      "8: R0 = 1.1357611383563955, initial infected: 126, number isolated: 0.04%,\n",
      "  0.3073012888331487: (2.27151971381857, 1.9999977434566705, 0.0004326580973344189, 0.012926030546971622, 1.4527693188234411e-05)\n",
      "\n",
      "9: R0 = 1.285352827280435, initial infected: 44, number isolated: 0.44%,\n",
      "  0.307863425023489: (1.8024830055389374, 1.4023254683717097, 0.004362678548928877, 0.005485760420879885, 5.044845409547483e-06)\n",
      "\n",
      "10: R0 = 1.2994451255155584, initial infected: 35, number isolated: 0.49%,\n",
      "  0.30812675652675525: (1.8126367441931948, 1.3949313507748364, 0.00486977859932093, 0.005436284799482714, 4.089738670597995e-06)\n",
      "\n"
     ]
    }
   ],
   "source": [
    "random_search_results = sorted(random_search_results, key=lambda v: v[0])\n",
    "filtered_results = filter(lambda res: res[1][4] < bounds[-1][1], random_search_results)\n",
    "best = list(itertools.islice(filtered_results, 10))\n",
    "for i,(f,(a,b,k0,k,i0)) in enumerate(best):\n",
    "    print(f\"{i+1}: R0 = {a/b}, initial infected: {i0*population[Country]:.0f}, number isolated: {k0*100:.2f}%,\\n  {f}: {(a,b,k0,k,i0)}\\n\")"
   ]
  },
  {
   "cell_type": "code",
   "execution_count": 18,
   "metadata": {},
   "outputs": [
    {
     "name": "stderr",
     "output_type": "stream",
     "text": [
      "No handles with labels found to put in legend.\n"
     ]
    },
    {
     "name": "stdout",
     "output_type": "stream",
     "text": [
      "1: day 1: number of cases:239\n",
      "1: day 2: number of cases:198\n",
      "1: day 3: number of cases:164\n",
      "2: day 1: number of cases:241\n",
      "2: day 2: number of cases:201\n",
      "2: day 3: number of cases:167\n",
      "3: day 1: number of cases:241\n",
      "3: day 2: number of cases:201\n",
      "3: day 3: number of cases:166\n",
      "4: day 1: number of cases:239\n",
      "4: day 2: number of cases:198\n",
      "4: day 3: number of cases:163\n",
      "5: day 1: number of cases:240\n",
      "5: day 2: number of cases:199\n",
      "5: day 3: number of cases:164\n",
      "6: day 1: number of cases:242\n",
      "6: day 2: number of cases:202\n",
      "6: day 3: number of cases:168\n",
      "7: day 1: number of cases:236\n",
      "7: day 2: number of cases:195\n",
      "7: day 3: number of cases:160\n",
      "8: day 1: number of cases:242\n",
      "8: day 2: number of cases:202\n",
      "8: day 3: number of cases:167\n",
      "9: day 1: number of cases:239\n",
      "9: day 2: number of cases:198\n",
      "9: day 3: number of cases:162\n",
      "10: day 1: number of cases:239\n",
      "10: day 2: number of cases:197\n",
      "10: day 3: number of cases:161\n"
     ]
    },
    {
     "data": {
      "text/plain": [
       "<matplotlib.legend.Legend at 0x7f39aaa99d30>"
      ]
     },
     "execution_count": 18,
     "metadata": {},
     "output_type": "execute_result"
    },
    {
     "data": {
      "image/png": "[encoded data removed]",
      "text/plain": [
       "<Figure size 720x576 with 1 Axes>"
      ]
     },
     "metadata": {
      "needs_background": "light"
     },
     "output_type": "display_data"
    }
   ],
   "source": [
    "new_figure = True\n",
    "for i,(f,x) in enumerate(best):\n",
    "    show_match(x, new_figure=new_figure, label=f\"{i+1}\")\n",
    "    new_figure = False\n",
    "plt.legend()\n",
    "        "
   ]
  },
  {
   "cell_type": "code",
   "execution_count": 19,
   "metadata": {},
   "outputs": [
    {
     "name": "stderr",
     "output_type": "stream",
     "text": [
      "No handles with labels found to put in legend.\n"
     ]
    },
    {
     "data": {
      "text/plain": [
       "<matplotlib.legend.Legend at 0x7f39aa640208>"
      ]
     },
     "execution_count": 19,
     "metadata": {},
     "output_type": "execute_result"
    },
    {
     "data": {
      "image/png": "[encoded data removed]",
      "text/plain": [
       "<Figure size 720x576 with 1 Axes>"
      ]
     },
     "metadata": {
      "needs_background": "light"
     },
     "output_type": "display_data"
    }
   ],
   "source": [
    "new_figure = True\n",
    "for i,(f,x) in enumerate(best):\n",
    "    present_solution_many(x, new_figure=new_figure, num_days=180, label_prefix=f\"{i+1}: \")\n",
    "    new_figure = False\n",
    "plt.legend()"
   ]
  },
  {
   "cell_type": "code",
   "execution_count": 20,
   "metadata": {},
   "outputs": [
    {
     "name": "stderr",
     "output_type": "stream",
     "text": [
      "No handles with labels found to put in legend.\n"
     ]
    },
    {
     "data": {
      "text/plain": [
       "<matplotlib.legend.Legend at 0x7f39aa75a9e8>"
      ]
     },
     "execution_count": 20,
     "metadata": {},
     "output_type": "execute_result"
    },
    {
     "data": {
      "image/png": "[encoded data removed]",
      "text/plain": [
       "<Figure size 720x576 with 1 Axes>"
      ]
     },
     "metadata": {
      "needs_background": "light"
     },
     "output_type": "display_data"
    }
   ],
   "source": [
    "new_figure = True\n",
    "for i,(f,x) in enumerate(best):\n",
    "    prognosis_many(x, new_figure=new_figure, label_prefix=f\"{i+1}\")\n",
    "    new_figure = False\n",
    "plt.legend()"
   ]
  },
  {
   "cell_type": "code",
   "execution_count": 21,
   "metadata": {},
   "outputs": [],
   "source": [
    "vals5 = best[0][1]"
   ]
  },
  {
   "cell_type": "code",
   "execution_count": 22,
   "metadata": {
    "scrolled": false
   },
   "outputs": [
    {
     "name": "stderr",
     "output_type": "stream",
     "text": [
      "No handles with labels found to put in legend.\n"
     ]
    },
    {
     "name": "stdout",
     "output_type": "stream",
     "text": [
      "Infected now: 32563\n",
      "Max infected: 32563 vs 32563 vs 32563\n"
     ]
    },
    {
     "data": {
      "text/plain": [
       "<matplotlib.legend.Legend at 0x7f39aa78d4e0>"
      ]
     },
     "execution_count": 22,
     "metadata": {},
     "output_type": "execute_result"
    },
    {
     "data": {
      "image/png": "[encoded data removed]",
      "text/plain": [
       "<Figure size 720x576 with 1 Axes>"
      ]
     },
     "metadata": {
      "needs_background": "light"
     },
     "output_type": "display_data"
    }
   ],
   "source": [
    "prognosis(vals5)\n",
    "plt.legend()"
   ]
  },
  {
   "cell_type": "code",
   "execution_count": 23,
   "metadata": {},
   "outputs": [],
   "source": [
    "tmp_best = best[1][1]"
   ]
  },
  {
   "cell_type": "code",
   "execution_count": 24,
   "metadata": {},
   "outputs": [
    {
     "name": "stdout",
     "output_type": "stream",
     "text": [
      "Local minimum on step 2\n"
     ]
    }
   ],
   "source": [
    "_local_minimum_factor = 1e-4\n",
    "if not is_local_minimum(cost_fn, tmp_best)[0]:\n",
    "    tmp_best = simple_descend(tmp_best, 1000)"
   ]
  },
  {
   "cell_type": "code",
   "execution_count": 25,
   "metadata": {},
   "outputs": [
    {
     "name": "stderr",
     "output_type": "stream",
     "text": [
      "No handles with labels found to put in legend.\n"
     ]
    },
    {
     "name": "stdout",
     "output_type": "stream",
     "text": [
      "Infected now: 58299\n",
      "Max infected: 58299 vs 58299 vs 58299\n"
     ]
    },
    {
     "data": {
      "text/plain": [
       "<matplotlib.legend.Legend at 0x7f39aaa7aac8>"
      ]
     },
     "execution_count": 25,
     "metadata": {},
     "output_type": "execute_result"
    },
    {
     "data": {
      "image/png": "[encoded data removed]",
      "text/plain": [
       "<Figure size 720x576 with 1 Axes>"
      ]
     },
     "metadata": {
      "needs_background": "light"
     },
     "output_type": "display_data"
    }
   ],
   "source": [
    "prognosis(tmp_best)\n",
    "plt.legend()"
   ]
  },
  {
   "cell_type": "code",
   "execution_count": null,
   "metadata": {},
   "outputs": [],
   "source": []
  }
 ],
 "metadata": {
  "kernelspec": {
   "display_name": "Python 3",
   "language": "python",
   "name": "python3"
  },
  "language_info": {
   "codemirror_mode": {
    "name": "ipython",
    "version": 3
   },
   "file_extension": ".py",
   "mimetype": "text/x-python",
   "name": "python",
   "nbconvert_exporter": "python",
   "pygments_lexer": "ipython3",
   "version": "3.6.9"
  }
 },
 "nbformat": 4,
 "nbformat_minor": 4
}

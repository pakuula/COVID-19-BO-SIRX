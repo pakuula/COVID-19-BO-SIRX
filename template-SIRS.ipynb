{
 "cells": [
  {
   "cell_type": "markdown",
   "metadata": {},
   "source": [
    "# Models with immunity\n",
    "\n",
    "## SIR-O - a modified SIR with explicit confirmed cases\n",
    "This model is modified [SIR](https://en.wikipedia.org/wiki/Compartmental_models_in_epidemiology#The_SIR_model): \n",
    "- **S** is *Susceptible*\n",
    "- **I** is *Infectious*\n",
    "- **R** is *Recovered* (and *diseased*). The model expects that this pool becomes 100% immune.\n",
    "- **O** is *cOnfirmed* individuals, both hospitalized and quorantined at home with a positive test\n",
    "\n",
    "The model utilises three parameters: $\\alpha$,$\\beta$ and $k$:\n",
    "- $\\alpha$ models the speed of infection spread,\n",
    "- $\\beta$ represents the speed of recovery (and deaths)\n",
    "- $k$ is the reveal factor, how many infectious people are confirmed as positive.\n",
    "\n",
    "The differential equations:<br>\n",
    "$\\frac{dS}{dt} = -\\alpha S I$,<br>\n",
    "$\\frac{dI}{dt} = \\alpha S I - \\beta I$, <br>\n",
    "$\\frac{dR}{dt} = \\beta I$,<br>\n",
    "$\\frac{dO}{dt} = k I$.\n",
    "\n",
    "\n",
    "# Models without immunity\n",
    "\n",
    "## SIRS-O - a SIR model without antigen and with explicit confirmed cases\n",
    "This model is modified [SIR](https://en.wikipedia.org/wiki/Compartmental_models_in_epidemiology#The_SIR_model): \n",
    "- **S** is *Succeptible*\n",
    "- **I** is *Infectious*\n",
    "- **R** is *Recovered* (and *diseased*). While in **R** state people are immune.\n",
    "- **O** is *cOnfirmed* individuals, both hospitalized and quorantined at home with a positive test\n",
    "\n",
    "The major feature of this model is conversion of some or recovered back into succeptible.\n",
    "\n",
    "The model utilises three parameters: $\\alpha$,$\\beta$ and $k$:\n",
    "- $\\alpha$ models the speed of infection spread,\n",
    "- $\\beta$ represents the speed of recovery (and deaths),\n",
    "- $r_s$ is the ratio of recovered people who are susceptible again,\n",
    "- $k$ is the reveal factor, how many infectious people are confirmed as positive.\n",
    "\n",
    "The differential equations:\n",
    "$\\frac{dS}{dt} = -\\alpha S I + r_s R$,<br>\n",
    "$\\frac{dI}{dt} = \\alpha S I - \\beta I$, <br>\n",
    "$\\frac{dR}{dt} = \\beta I - r_s R$,<br>\n",
    "$\\frac{dO}{dt} = k I$.\n",
    "\n",
    "## SIRC-O - a SIR model with carriers and with explicit confirmed cases\n",
    "This model is modified [SIR](https://en.wikipedia.org/wiki/Compartmental_models_in_epidemiology#The_SIR_model): \n",
    "- **S** is *Succeptible*\n",
    "- **I** is *Infectious*, i.e. with syptoms of the disease.\n",
    "- **C** is *Carrier*, i.e. infectious, but without symptoms or actual illness.\n",
    "- **R** is *Recovered* (and *diseased*). While in **R** state people are immune.\n",
    "- **O** is *cOnfirmed* individuals, both hospitalized and quorantined at home with a positive test\n",
    "\n",
    "The major feature of this model is having people carry the virus and infect others without actually being ill.\n",
    "\n",
    "The model utilises three parameters: $\\alpha$,$\\beta$ and $k$:\n",
    "- $\\alpha$ models the speed of infection spread,\n",
    "- $\\beta$ represents the speed of recovery (and deaths),\n",
    "- $c_s$ models efficiency of infection transmission by carriers compared to infectious.\n",
    "- $i_r$ is the ratio of infectious, who recovered (became immune), and $1 - i_r$ become carriers.\n",
    "- $c_r$ represents the speed of recovery of carriers.\n",
    "- $k$ is the reveal factor, how many infectious people are confirmed as positive.\n",
    "\n",
    "The differential equations:\n",
    "$\\frac{dS}{dt} = -\\alpha S I - c_s \\alpha S C$,<br>\n",
    "$\\frac{dI}{dt} = \\alpha S I + c_s \\alpha S C - \\beta I$, <br>\n",
    "$\\frac{dR}{dt} = \\beta i_r I$,<br>\n",
    "$\\frac{dC}{dt} = \\beta (1 - i_r) I$,<br>\n",
    "$\\frac{dO}{dt} = k (I + C)$.\n",
    "\n"
   ]
  },
  {
   "cell_type": "code",
   "execution_count": null,
   "metadata": {},
   "outputs": [],
   "source": [
    "country  = 'Russia'\n",
    "country2 = 'Russian Federation'"
   ]
  },
  {
   "cell_type": "code",
   "execution_count": null,
   "metadata": {},
   "outputs": [],
   "source": [
    "import numpy as np\n",
    "import pandas as pd\n",
    "import matplotlib.pyplot as plt\n",
    "from numba import jit\n",
    "from scipy.integrate import odeint\n",
    "from datetime import datetime\n",
    "\n",
    "%matplotlib inline"
   ]
  },
  {
   "cell_type": "code",
   "execution_count": null,
   "metadata": {},
   "outputs": [],
   "source": [
    "print(\"Computed on: \", datetime.now().strftime(format='%y-%m-%d %T'))"
   ]
  },
  {
   "cell_type": "code",
   "execution_count": null,
   "metadata": {},
   "outputs": [],
   "source": [
    "import corona"
   ]
  },
  {
   "cell_type": "code",
   "execution_count": null,
   "metadata": {},
   "outputs": [],
   "source": [
    "info = corona.CovidModel(country, country2)\n",
    "print(\"Country: \", info.country)\n",
    "print(\"Population: \", info.population)\n",
    "print(\"Number of revealed cases: \", info.data[0][-1])\n",
    "print(\"Number of deaths: \", info.data[1][-1])"
   ]
  },
  {
   "cell_type": "code",
   "execution_count": null,
   "metadata": {},
   "outputs": [],
   "source": [
    "delta = info.data[:,1:] - info.data[:,:-1]\n",
    "\n",
    "days = np.arange(np.shape(delta)[1])\n",
    "fig, ax1 = plt.subplots()\n",
    "\n",
    "ax1.bar(days, delta[0], width=1.0)\n",
    "ax1.set_ylabel('Cases per day')\n",
    "\n",
    "ax2 = ax1.twinx()\n",
    "ax2.plot(days, info.data[0][1:], 'o', color='red')\n",
    "ax2.set_ylabel('Total number of cases')\n",
    "fig.tight_layout()\n",
    "\n",
    "plt.title(info.country + \": COVID19 stats\");"
   ]
  },
  {
   "cell_type": "markdown",
   "metadata": {},
   "source": [
    "# Models without immunity"
   ]
  },
  {
   "cell_type": "markdown",
   "metadata": {},
   "source": [
    "## Some of recovered become susceptible again"
   ]
  },
  {
   "cell_type": "code",
   "execution_count": null,
   "metadata": {
    "scrolled": false
   },
   "outputs": [],
   "source": [
    "test_sirs = corona.CovidModel(country, country2, model='sir_so_r0')\n",
    "test_sirs.run(300)"
   ]
  },
  {
   "cell_type": "markdown",
   "metadata": {},
   "source": [
    "## Part of the population are symptom-less infectious carriers\n",
    "Recovered posess immunity"
   ]
  },
  {
   "cell_type": "code",
   "execution_count": null,
   "metadata": {
    "scrolled": false
   },
   "outputs": [],
   "source": [
    "test_sirc = corona.CovidModel(country, country2, model='sir_co')\n",
    "test_sirc.run(300)"
   ]
  },
  {
   "cell_type": "markdown",
   "metadata": {},
   "source": [
    "## Part of the population are symptom-less infectious carriers, and recovered loose the immunity"
   ]
  },
  {
   "cell_type": "code",
   "execution_count": null,
   "metadata": {
    "scrolled": false
   },
   "outputs": [],
   "source": [
    "test_sir_sco = corona.CovidModel(country, country2, model='sir_sco')\n",
    "test_sir_sco.run(300)\n"
   ]
  },
  {
   "cell_type": "markdown",
   "metadata": {},
   "source": [
    "## Experimental model with carriers and no immunity\n",
    "The major change from the previous model - difference in revealing efficiency for infectious and carriers"
   ]
  },
  {
   "cell_type": "code",
   "execution_count": null,
   "metadata": {
    "scrolled": false
   },
   "outputs": [],
   "source": [
    "test_sir_sco_kc = corona.CovidModel(country, country2, model='sir_sco_kc')\n",
    "test_sir_sco_kc.run(300)"
   ]
  },
  {
   "cell_type": "markdown",
   "metadata": {},
   "source": [
    "## Model with incubation period and no immunity (SEIRS)"
   ]
  },
  {
   "cell_type": "code",
   "execution_count": null,
   "metadata": {},
   "outputs": [],
   "source": [
    "test_seir_so = corona.CovidModel(country, model='seir_so')\n",
    "test_seir_so.run(300)"
   ]
  },
  {
   "cell_type": "markdown",
   "metadata": {},
   "source": [
    "# Models with immunity"
   ]
  },
  {
   "cell_type": "markdown",
   "metadata": {},
   "source": [
    "## SIR - the basic epidemiology model"
   ]
  },
  {
   "cell_type": "code",
   "execution_count": null,
   "metadata": {
    "scrolled": false
   },
   "outputs": [],
   "source": [
    "test_sir = corona.CovidModel(country, country2, model='sir_o_r0')\n",
    "\n",
    "test_sir.run(500, figsize=(10, 6))"
   ]
  },
  {
   "cell_type": "markdown",
   "metadata": {},
   "source": [
    "## Model with exposed (incubation period)"
   ]
  },
  {
   "cell_type": "code",
   "execution_count": null,
   "metadata": {
    "scrolled": false
   },
   "outputs": [],
   "source": [
    "test_seir = corona.CovidModel(country, model='seir_o')\n",
    "\n",
    "test_seir.run(300)"
   ]
  }
 ],
 "metadata": {
  "kernelspec": {
   "display_name": "Python 3",
   "language": "python",
   "name": "python3"
  },
  "language_info": {
   "codemirror_mode": {
    "name": "ipython",
    "version": 3
   },
   "file_extension": ".py",
   "mimetype": "text/x-python",
   "name": "python",
   "nbconvert_exporter": "python",
   "pygments_lexer": "ipython3",
   "version": "3.6.9"
  }
 },
 "nbformat": 4,
 "nbformat_minor": 4
}

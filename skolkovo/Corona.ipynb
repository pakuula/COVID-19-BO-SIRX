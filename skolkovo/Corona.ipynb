{
 "cells": [
  {
   "cell_type": "code",
   "execution_count": 2,
   "metadata": {
    "Collapsed": "false"
   },
   "outputs": [],
   "source": [
    "import numpy as np\n",
    "import pandas as pd\n",
    "import matplotlib.pyplot as plt\n",
    "from numba import jit\n",
    "#import pymc3 as pm\n",
    "import pymc as pm\n",
    "\n",
    "\n",
    "%matplotlib inline"
   ]
  },
  {
   "cell_type": "markdown",
   "metadata": {
    "Collapsed": "false"
   },
   "source": [
    "# Load values"
   ]
  },
  {
   "cell_type": "code",
   "execution_count": 3,
   "metadata": {
    "Collapsed": "false"
   },
   "outputs": [
    {
     "data": {
      "text/html": [
       "<div>\n",
       "<style scoped>\n",
       "    .dataframe tbody tr th:only-of-type {\n",
       "        vertical-align: middle;\n",
       "    }\n",
       "\n",
       "    .dataframe tbody tr th {\n",
       "        vertical-align: top;\n",
       "    }\n",
       "\n",
       "    .dataframe thead th {\n",
       "        text-align: right;\n",
       "    }\n",
       "</style>\n",
       "<table border=\"1\" class=\"dataframe\">\n",
       "  <thead>\n",
       "    <tr style=\"text-align: right;\">\n",
       "      <th></th>\n",
       "      <th>State</th>\n",
       "      <th>Country</th>\n",
       "      <th>Lat</th>\n",
       "      <th>Long</th>\n",
       "      <th>1/22/20</th>\n",
       "      <th>1/23/20</th>\n",
       "      <th>1/24/20</th>\n",
       "      <th>1/25/20</th>\n",
       "      <th>1/26/20</th>\n",
       "      <th>1/27/20</th>\n",
       "      <th>...</th>\n",
       "      <th>3/19/20</th>\n",
       "      <th>3/20/20</th>\n",
       "      <th>3/21/20</th>\n",
       "      <th>3/22/20</th>\n",
       "      <th>3/23/20</th>\n",
       "      <th>3/24/20</th>\n",
       "      <th>3/25/20</th>\n",
       "      <th>3/26/20</th>\n",
       "      <th>3/27/20</th>\n",
       "      <th>3/28/20</th>\n",
       "    </tr>\n",
       "  </thead>\n",
       "  <tbody>\n",
       "    <tr>\n",
       "      <th>0</th>\n",
       "      <td>NaN</td>\n",
       "      <td>Afghanistan</td>\n",
       "      <td>33.0000</td>\n",
       "      <td>65.0000</td>\n",
       "      <td>0</td>\n",
       "      <td>0</td>\n",
       "      <td>0</td>\n",
       "      <td>0</td>\n",
       "      <td>0</td>\n",
       "      <td>0</td>\n",
       "      <td>...</td>\n",
       "      <td>22</td>\n",
       "      <td>24</td>\n",
       "      <td>24</td>\n",
       "      <td>40</td>\n",
       "      <td>40</td>\n",
       "      <td>74</td>\n",
       "      <td>84</td>\n",
       "      <td>94</td>\n",
       "      <td>110</td>\n",
       "      <td>110</td>\n",
       "    </tr>\n",
       "    <tr>\n",
       "      <th>1</th>\n",
       "      <td>NaN</td>\n",
       "      <td>Albania</td>\n",
       "      <td>41.1533</td>\n",
       "      <td>20.1683</td>\n",
       "      <td>0</td>\n",
       "      <td>0</td>\n",
       "      <td>0</td>\n",
       "      <td>0</td>\n",
       "      <td>0</td>\n",
       "      <td>0</td>\n",
       "      <td>...</td>\n",
       "      <td>64</td>\n",
       "      <td>70</td>\n",
       "      <td>76</td>\n",
       "      <td>89</td>\n",
       "      <td>104</td>\n",
       "      <td>123</td>\n",
       "      <td>146</td>\n",
       "      <td>174</td>\n",
       "      <td>186</td>\n",
       "      <td>197</td>\n",
       "    </tr>\n",
       "    <tr>\n",
       "      <th>2</th>\n",
       "      <td>NaN</td>\n",
       "      <td>Algeria</td>\n",
       "      <td>28.0339</td>\n",
       "      <td>1.6596</td>\n",
       "      <td>0</td>\n",
       "      <td>0</td>\n",
       "      <td>0</td>\n",
       "      <td>0</td>\n",
       "      <td>0</td>\n",
       "      <td>0</td>\n",
       "      <td>...</td>\n",
       "      <td>87</td>\n",
       "      <td>90</td>\n",
       "      <td>139</td>\n",
       "      <td>201</td>\n",
       "      <td>230</td>\n",
       "      <td>264</td>\n",
       "      <td>302</td>\n",
       "      <td>367</td>\n",
       "      <td>409</td>\n",
       "      <td>454</td>\n",
       "    </tr>\n",
       "    <tr>\n",
       "      <th>3</th>\n",
       "      <td>NaN</td>\n",
       "      <td>Andorra</td>\n",
       "      <td>42.5063</td>\n",
       "      <td>1.5218</td>\n",
       "      <td>0</td>\n",
       "      <td>0</td>\n",
       "      <td>0</td>\n",
       "      <td>0</td>\n",
       "      <td>0</td>\n",
       "      <td>0</td>\n",
       "      <td>...</td>\n",
       "      <td>53</td>\n",
       "      <td>75</td>\n",
       "      <td>88</td>\n",
       "      <td>113</td>\n",
       "      <td>133</td>\n",
       "      <td>164</td>\n",
       "      <td>188</td>\n",
       "      <td>224</td>\n",
       "      <td>267</td>\n",
       "      <td>308</td>\n",
       "    </tr>\n",
       "    <tr>\n",
       "      <th>4</th>\n",
       "      <td>NaN</td>\n",
       "      <td>Angola</td>\n",
       "      <td>-11.2027</td>\n",
       "      <td>17.8739</td>\n",
       "      <td>0</td>\n",
       "      <td>0</td>\n",
       "      <td>0</td>\n",
       "      <td>0</td>\n",
       "      <td>0</td>\n",
       "      <td>0</td>\n",
       "      <td>...</td>\n",
       "      <td>0</td>\n",
       "      <td>1</td>\n",
       "      <td>2</td>\n",
       "      <td>2</td>\n",
       "      <td>3</td>\n",
       "      <td>3</td>\n",
       "      <td>3</td>\n",
       "      <td>4</td>\n",
       "      <td>4</td>\n",
       "      <td>5</td>\n",
       "    </tr>\n",
       "  </tbody>\n",
       "</table>\n",
       "<p>5 rows × 71 columns</p>\n",
       "</div>"
      ],
      "text/plain": [
       "  State      Country      Lat     Long  1/22/20  1/23/20  1/24/20  1/25/20  \\\n",
       "0   NaN  Afghanistan  33.0000  65.0000        0        0        0        0   \n",
       "1   NaN      Albania  41.1533  20.1683        0        0        0        0   \n",
       "2   NaN      Algeria  28.0339   1.6596        0        0        0        0   \n",
       "3   NaN      Andorra  42.5063   1.5218        0        0        0        0   \n",
       "4   NaN       Angola -11.2027  17.8739        0        0        0        0   \n",
       "\n",
       "   1/26/20  1/27/20  ...  3/19/20  3/20/20  3/21/20  3/22/20  3/23/20  \\\n",
       "0        0        0  ...       22       24       24       40       40   \n",
       "1        0        0  ...       64       70       76       89      104   \n",
       "2        0        0  ...       87       90      139      201      230   \n",
       "3        0        0  ...       53       75       88      113      133   \n",
       "4        0        0  ...        0        1        2        2        3   \n",
       "\n",
       "   3/24/20  3/25/20  3/26/20  3/27/20  3/28/20  \n",
       "0       74       84       94      110      110  \n",
       "1      123      146      174      186      197  \n",
       "2      264      302      367      409      454  \n",
       "3      164      188      224      267      308  \n",
       "4        3        3        4        4        5  \n",
       "\n",
       "[5 rows x 71 columns]"
      ]
     },
     "execution_count": 3,
     "metadata": {},
     "output_type": "execute_result"
    }
   ],
   "source": [
    "online = True\n",
    "\n",
    "if online:\n",
    "    COVID_CONFIRMED_URL = 'https://raw.githubusercontent.com/CSSEGISandData/COVID-19/master/csse_covid_19_data/csse_covid_19_time_series/time_series_covid19_confirmed_global.csv'\n",
    "    COVID_DEATHS_URL = 'https://raw.githubusercontent.com/CSSEGISandData/COVID-19/master/csse_covid_19_data/csse_covid_19_time_series/time_series_covid19_deaths_global.csv'\n",
    "    COVID_RECOVERED_URL = 'https://raw.githubusercontent.com/CSSEGISandData/COVID-19/master/csse_covid_19_data/csse_covid_19_time_series/time_series_covid19_recovered_global.csv'\n",
    "else:\n",
    "    COVID_CONFIRMED_URL = 'COVID-19/csse_covid_19_data/csse_covid_19_time_series/time_series_covid19_confirmed_global.csv'\n",
    "    COVID_DEATHS_URL = 'COVID-19/csse_covid_19_data/csse_covid_19_time_series/time_series_covid19_deaths_global.csv'\n",
    "    COVID_RECOVERED_URL = 'COVID-19/csse_covid_19_data/csse_covid_19_time_series/time_series_covid19_recovered_global.csv'\n",
    "    \n",
    "\n",
    "\n",
    "covid_confirmed = pd.read_csv(COVID_CONFIRMED_URL)\n",
    "covid_deaths = pd.read_csv(COVID_DEATHS_URL)\n",
    "covid_recovered = pd.read_csv(COVID_RECOVERED_URL)\n",
    "\n",
    "covid_confirmed.rename(columns={'Country/Region':'Country'}, inplace=True)\n",
    "covid_deaths.rename(columns={'Country/Region':'Country'}, inplace=True)\n",
    "covid_recovered.rename(columns={'Country/Region':'Country'}, inplace=True)\n",
    "covid_confirmed.rename(columns={'Province/State':'State'}, inplace=True)\n",
    "covid_deaths.rename(columns={'Province/State':'State'}, inplace=True)\n",
    "covid_recovered.rename(columns={'Province/State':'State'}, inplace=True)\n",
    "\n",
    "\n",
    "covid_confirmed.head()"
   ]
  },
  {
   "cell_type": "code",
   "execution_count": 230,
   "metadata": {
    "Collapsed": "false"
   },
   "outputs": [],
   "source": [
    "Country = 'China'\n",
    "population = {\"Russia\" : 146745098, \"Italy\" : 60317000, \"China\" : 1404328000}\n",
    "\n",
    "data_Russia_confirmed = covid_confirmed[covid_confirmed.Country == Country].values[0, 4:].astype(int)\n",
    "\n",
    "data = np.empty((3, data_Russia_confirmed.shape[0]), dtype=np.int64)\n",
    "data[0] = data_Russia_confirmed\n",
    "\n",
    "data[1] = covid_deaths   [covid_deaths.Country    == Country].values[0, 4:].astype(int)\n",
    "data[2] = covid_recovered[covid_recovered.Country == Country].values[0, 4:].astype(int)\n",
    "\n",
    "data_normed = data.astype(np.float64) / population[Country]\n",
    "data_normed_only_conf = data_normed[0] - data_normed[1] - data_normed[2]"
   ]
  },
  {
   "cell_type": "code",
   "execution_count": 231,
   "metadata": {
    "Collapsed": "false"
   },
   "outputs": [
    {
     "data": {
      "image/png": "[encoded data removed]",
      "text/plain": [
       "<Figure size 432x288 with 1 Axes>"
      ]
     },
     "metadata": {
      "needs_background": "light"
     },
     "output_type": "display_data"
    }
   ],
   "source": [
    "plt.plot(data.T);"
   ]
  },
  {
   "cell_type": "code",
   "execution_count": 232,
   "metadata": {
    "Collapsed": "false"
   },
   "outputs": [
    {
     "data": {
      "image/png": "[encoded data removed]",
      "text/plain": [
       "<Figure size 432x288 with 1 Axes>"
      ]
     },
     "metadata": {
      "needs_background": "light"
     },
     "output_type": "display_data"
    }
   ],
   "source": [
    "plt.plot(data_normed_only_conf);"
   ]
  },
  {
   "cell_type": "markdown",
   "metadata": {
    "Collapsed": "false"
   },
   "source": [
    "# SEIR ans SIR-X model"
   ]
  },
  {
   "cell_type": "code",
   "execution_count": 215,
   "metadata": {
    "Collapsed": "false"
   },
   "outputs": [],
   "source": [
    "@jit\n",
    "def base_seir_model(init_vals, dt, N, params):\n",
    "    res = np.empty((N, 4), dtype=np.float64)\n",
    "    S = res[:, 0]\n",
    "    E = res[:, 1]\n",
    "    I = res[:, 2]\n",
    "    R = res[:, 3]\n",
    "    S[0], E[0], I[0], R[0] = init_vals\n",
    "    alpha, beta, gamma = params\n",
    "    for i in range(1, N):\n",
    "        S[i] = S[i-1] - (beta*S[i-1]*I[i-1])*dt\n",
    "        E[i] = E[i-1] + (beta*S[i-1]*I[i-1] - alpha*E[i-1])*dt\n",
    "        I[i] = I[i-1] + (alpha*E[i-1] - gamma*I[i-1])*dt\n",
    "        R[i] = R[i-1] + (gamma*I[i-1])*dt\n",
    "\n",
    "    #print(I)\n",
    "    return res\n",
    "\n",
    "\n",
    "def seir_rhs(y, t, alpha, beta, gamma):\n",
    "    S, E, I, R = y\n",
    "    return [-beta*S*I, beta*S*I - alpha*E, alpha*E - gamma*I, gamma*I]\n",
    "\n",
    "def base_seir_model_odeint(init_vals, dt, N, params):\n",
    "    t_max = N*dt\n",
    "    t = np.linspace(0, t_max, N)\n",
    "    sol = odeint(seir_rhs, init_vals, t, args=params)\n",
    "    #return sol[::int(1/dt)]\n",
    "    return sol\n",
    "\n",
    "\n",
    "def sirx_rhs(x, t, alpha, beta, k0, k):\n",
    "    S, I, X, R = x\n",
    "    dsdt = -alpha*S*I - k0*S\n",
    "    didt = alpha*S*I - beta*I - k0*I - k*I\n",
    "    dxdt = (k0+k)*I\n",
    "    dRdt = k0*S + beta*I\n",
    "    return np.array([dsdt, didt, dxdt, dRdt])\n",
    "\n",
    "def base_sirx_model_odeint(init_vals, dt, N, params):\n",
    "    t_max = N*dt\n",
    "    t = np.linspace(0, t_max, N)\n",
    "    sol = odeint(sirx_rhs, init_vals, t, args=params)\n",
    "    return sol\n",
    "\n",
    "\n",
    "\n",
    "# SIR Model (not working)\n",
    "@jit\n",
    "def base_sirf_model(init_vals, dt, N, params):\n",
    "    res = np.empty((N, 3), dtype=np.float64)\n",
    "    y = res[:, 0]\n",
    "    E = res[:, 1]\n",
    "    I = res[:, 2]\n",
    "    R = res[:, 3]\n",
    "    S[0], E[0], I[0], R[0] = init_vals\n",
    "    alpha, beta, gamma = params\n",
    "    for i in range(1, N):\n",
    "        S[i] = S[i-1] - (beta*S[i-1]*I[i-1])*dt\n",
    "        E[i] = E[i-1] + (beta*S[i-1]*I[i-1] - alpha*E[i-1])*dt\n",
    "        I[i] = I[i-1] + (alpha*E[i-1] - gamma*I[i-1])*dt\n",
    "        R[i] = R[i-1] + (gamma*I[i-1])*dt\n",
    "\n",
    "    return res\n",
    "\n"
   ]
  },
  {
   "cell_type": "code",
   "execution_count": 193,
   "metadata": {
    "Collapsed": "false"
   },
   "outputs": [
    {
     "data": {
      "image/png": "[encoded data removed]",
      "text/plain": [
       "<Figure size 432x288 with 1 Axes>"
      ]
     },
     "metadata": {
      "needs_background": "light"
     },
     "output_type": "display_data"
    }
   ],
   "source": [
    "# Test\n",
    "t_max = 10\n",
    "dt = .1\n",
    "N = int(t_max / dt) + 1\n",
    "t = np.linspace(0, t_max, N)\n",
    "\n",
    "Nn = 1000000\n",
    "init_vals = 1 - 1/Nn, 1/Nn, 0, 0\n",
    "alpha = 0.02\n",
    "beta = 1\n",
    "gamma = 1\n",
    "params = alpha, beta, gamma\n",
    "# Run simulation\n",
    "results = base_seir_model_odeint(init_vals, dt, N, params)\n",
    "\n",
    "#plt.plot(t, results[:, 2]);\n",
    "plt.plot(results[:, 2]);"
   ]
  },
  {
   "cell_type": "code",
   "execution_count": 224,
   "metadata": {
    "Collapsed": "false"
   },
   "outputs": [
    {
     "data": {
      "image/png": "[encoded data removed]",
      "text/plain": [
       "<Figure size 432x288 with 1 Axes>"
      ]
     },
     "metadata": {
      "needs_background": "light"
     },
     "output_type": "display_data"
    }
   ],
   "source": [
    "# Test SIRX\n",
    "t_max = 60\n",
    "dt = .1\n",
    "N = int(t_max / dt) + 1\n",
    "t = np.linspace(0, t_max, N)\n",
    "\n",
    "x0 = np.array([1.0, 1e-8, 0.0, 0.0])\n",
    "beta = 0.38 #d^{-1}\n",
    "R0 = 3.07\n",
    "alpha = R0*beta\n",
    "k0 = 6e-2\n",
    "k = 5e-2\n",
    "\n",
    "params = alpha, beta, k0, k\n",
    "\n",
    "results = base_sirx_model_odeint(x0, dt, N, params)\n",
    "\n",
    "plt.plot(t, results[:, 1]);\n",
    "#plt.plot(results[:, 1]);"
   ]
  },
  {
   "cell_type": "code",
   "execution_count": 213,
   "metadata": {
    "Collapsed": "false"
   },
   "outputs": [
    {
     "data": {
      "text/plain": [
       "(1.1665999999999999, 0.38, 0.06, 0.05)"
      ]
     },
     "execution_count": 213,
     "metadata": {},
     "output_type": "execute_result"
    }
   ],
   "source": [
    "params"
   ]
  },
  {
   "cell_type": "markdown",
   "metadata": {
    "Collapsed": "false"
   },
   "source": [
    "# Apply MCMC"
   ]
  },
  {
   "cell_type": "markdown",
   "metadata": {
    "Collapsed": "false"
   },
   "source": [
    "## SIR-X"
   ]
  },
  {
   "cell_type": "code",
   "execution_count": 236,
   "metadata": {
    "Collapsed": "false"
   },
   "outputs": [
    {
     "name": "stdout",
     "output_type": "stream",
     "text": [
      " [                  0%                  ] 236 of 50000 complete in 25.3 sec"
     ]
    },
    {
     "name": "stderr",
     "output_type": "stream",
     "text": [
      "/home/gleb/anaconda2/envs/py3/lib/python3.6/site-packages/ipykernel_launcher.py:35: RuntimeWarning: overflow encountered in multiply\n",
      "/home/gleb/anaconda2/envs/py3/lib/python3.6/site-packages/ipykernel_launcher.py:35: RuntimeWarning: invalid value encountered in double_scalars\n"
     ]
    },
    {
     "name": "stdout",
     "output_type": "stream",
     "text": [
      " [                  0%                  ] 326 of 50000 complete in 35.3 sec"
     ]
    },
    {
     "name": "stderr",
     "output_type": "stream",
     "text": [
      "/home/gleb/anaconda2/envs/py3/lib/python3.6/site-packages/ipykernel_launcher.py:36: RuntimeWarning: overflow encountered in double_scalars\n",
      "/home/gleb/anaconda2/envs/py3/lib/python3.6/site-packages/ipykernel_launcher.py:37: RuntimeWarning: overflow encountered in multiply\n"
     ]
    },
    {
     "name": "stdout",
     "output_type": "stream",
     "text": [
      " [                  0%                  ] 392 of 50000 complete in 49.3 sec"
     ]
    },
    {
     "name": "stderr",
     "output_type": "stream",
     "text": [
      "/home/gleb/anaconda2/envs/py3/lib/python3.6/site-packages/ipykernel_launcher.py:35: RuntimeWarning: overflow encountered in double_scalars\n"
     ]
    },
    {
     "name": "stdout",
     "output_type": "stream",
     "text": [
      " [                  0%                  ] 468 of 50000 complete in 70.8 sec"
     ]
    },
    {
     "name": "stderr",
     "output_type": "stream",
     "text": [
      "/home/gleb/anaconda2/envs/py3/lib/python3.6/site-packages/ipykernel_launcher.py:34: RuntimeWarning: overflow encountered in double_scalars\n"
     ]
    },
    {
     "name": "stdout",
     "output_type": "stream",
     "text": [
      " [                  0%                  ] 486 of 50000 complete in 95.4 sec"
     ]
    },
    {
     "name": "stderr",
     "output_type": "stream",
     "text": [
      "/home/gleb/anaconda2/envs/py3/lib/python3.6/site-packages/ipykernel_launcher.py:34: RuntimeWarning: overflow encountered in multiply\n"
     ]
    },
    {
     "name": "stdout",
     "output_type": "stream",
     "text": [
      " [                  0%                  ] 489 of 50000 complete in 109.7 sec"
     ]
    },
    {
     "name": "stderr",
     "output_type": "stream",
     "text": [
      "/home/gleb/anaconda2/envs/py3/lib/python3.6/site-packages/ipykernel_launcher.py:34: RuntimeWarning: invalid value encountered in double_scalars\n"
     ]
    },
    {
     "name": "stdout",
     "output_type": "stream",
     "text": [
      " [-----------------100%-----------------] 50001 of 50000 complete in 44501.8 sec"
     ]
    }
   ],
   "source": [
    "# SIRX\n",
    "\n",
    "alpha_MC = pm.Normal(\"alpha_MC\", 1.1, 0.2)\n",
    "beta_MC  = pm.Normal(\"beta_MC\", 0.38, 0.05)\n",
    "k0_MC    = pm.Normal(\"k0_MC\", 0.06, 0.01)\n",
    "k_MC     = pm.Normal(\"k_MC\", 0.05, 0.01)\n",
    "I0_MC    = pm.Exponential(\"I0_MC\", 1e-6)\n",
    "\n",
    "\n",
    "\n",
    "true_vals = data_normed[0]\n",
    "\n",
    "vals = []\n",
    "\n",
    "@pm.deterministic\n",
    "def obs(alpha_MC=alpha_MC, beta_MC=beta_MC, k0_MC=k0_MC, k_MC=k_MC, I0_MC=I0_MC):\n",
    "        #global vals\n",
    "        cf = 4\n",
    "        dt = 1.0/cf\n",
    "        N = len(true_vals)\n",
    "        num = (N-1)*cf + 1\n",
    "        res = base_sirx_model_odeint((1, I0_MC, 0, 0), dt, num, (alpha_MC, beta_MC, k0_MC, k_MC))\n",
    "        rr = res.T[2][::cf]\n",
    "        #print(rr)\n",
    "        #vals.append(rr)\n",
    "        return rr\n",
    "    \n",
    "# infected (we know them)\n",
    "#I_MC = pm.Exponential(\"I_MC\", obs, observed=True, value=data_normed[0])\n",
    "I_MC = pm.Normal(\"I_MC\", obs, 1e-8, observed=True, value=true_vals)\n",
    "\n",
    "mcmc = pm.MCMC([alpha_MC, beta_MC, k0_MC, k_MC, I0_MC, I_MC])\n",
    "#mcmc.sample(100000, 10000, 100)\n",
    "#mcmc.sample(10)\n",
    "#mcmc.sample(1000, 100, 10)\n",
    "mcmc.sample(50000, 5000, 10)"
   ]
  },
  {
   "cell_type": "code",
   "execution_count": 240,
   "metadata": {
    "Collapsed": "false"
   },
   "outputs": [
    {
     "data": {
      "image/png": "[encoded data removed]",
      "text/plain": [
       "<Figure size 900x432 with 3 Axes>"
      ]
     },
     "metadata": {
      "needs_background": "light"
     },
     "output_type": "display_data"
    },
    {
     "data": {
      "image/png": "[encoded data removed]",
      "text/plain": [
       "<Figure size 900x432 with 2 Axes>"
      ]
     },
     "metadata": {
      "needs_background": "light"
     },
     "output_type": "display_data"
    }
   ],
   "source": [
    "alpha_samples = mcmc.trace('alpha_MC')[:]\n",
    "beta_samples = mcmc.trace('beta_MC')[:]\n",
    "k0_samples = mcmc.trace('k0_MC')[:]\n",
    "k_samples = mcmc.trace('k_MC')[:]\n",
    "I0_samples = mcmc.trace('I0_MC')[:]\n",
    "\n",
    "\n",
    "\n",
    "plt.figure(figsize=(12.5, 6))\n",
    "\n",
    "# histogram of the samples:\n",
    "plt.subplot(311)\n",
    "plt.title(r\"Posterior distributions of the variables $\\alpha, \\beta, k_0$\")\n",
    "plt.hist(alpha_samples, histtype='stepfilled', bins=35, alpha=0.85,\n",
    "         label=r\"posterior of $\\alpha$\", color=\"#7A68A6\", density=True)\n",
    "plt.legend()\n",
    "\n",
    "plt.subplot(312)\n",
    "plt.hist(beta_samples, histtype='stepfilled', bins=35, alpha=0.85,\n",
    "         label=r\"posterior of $\\beta$\", color=\"#A60628\", density=True)\n",
    "plt.legend();\n",
    "\n",
    "plt.subplot(313)\n",
    "plt.hist(gamma_samples, histtype='stepfilled', bins=35, alpha=0.85,\n",
    "         label=r\"posterior of $k_0$\", color=\"#467821\", density=True)\n",
    "plt.legend();\n",
    "\n",
    "\n",
    "plt.figure(figsize=(12.5, 6))\n",
    "\n",
    "plt.subplot(211)\n",
    "plt.title(r\"Posterior distributions of the variables $k, I_0$\")\n",
    "plt.hist(k_samples, histtype='stepfilled', bins=35, alpha=0.85,\n",
    "         label=r\"posterior of $k$\", color=\"#7A68A6\", density=True)\n",
    "plt.legend()\n",
    "\n",
    "plt.subplot(212)\n",
    "plt.hist(I0_samples, histtype='stepfilled', bins=35, alpha=0.85,\n",
    "         label=r\"posterior of $I_0$\", color=\"#A60628\", density=True)\n",
    "plt.legend();\n"
   ]
  },
  {
   "cell_type": "markdown",
   "metadata": {
    "Collapsed": "false"
   },
   "source": [
    "## SEIR"
   ]
  },
  {
   "cell_type": "code",
   "execution_count": 233,
   "metadata": {
    "Collapsed": "false"
   },
   "outputs": [
    {
     "name": "stdout",
     "output_type": "stream",
     "text": [
      " [-----------------100%-----------------] 100000 of 100000 complete in 23.6 sec"
     ]
    }
   ],
   "source": [
    "# SEIR\n",
    "\n",
    "\"\"\"\n",
    "alpha_MC = pm.Exponential(\"alpha_MC\", 1./0.2)\n",
    "beta_MC  = pm.Exponential(\"beta_MC\", 1./0.5)\n",
    "gamma_MC = pm.Exponential(\"gamma_MC\", 1./0.4)\n",
    "Nn_MC    = pm.Exponential(\"Nn_MC\", 1./10000)\n",
    "\"\"\"\n",
    "\n",
    "\n",
    "\"\"\"\n",
    "alpha_MC = pm.Uniform(\"alpha_MC\", 0.0002, 2)\n",
    "beta_MC  = pm.Uniform(\"beta_MC\", 0.001, 2)\n",
    "gamma_MC = pm.Uniform(\"gamma_MC\", 0.001, 2)\n",
    "Nn_MC    = pm.Uniform(\"Nn_MC\", 1000, 1e6)\n",
    "\"\"\"\n",
    "\n",
    "alpha_MC = pm.Normal(\"alpha_MC\", 5, 2)\n",
    "beta_MC  = pm.Normal(\"beta_MC\", 5, 2)\n",
    "gamma_MC = pm.Normal(\"gamma_MC\", 5, 2)\n",
    "Nn_MC    = pm.Exponential(\"Nn_MC\", 1./10000)\n",
    "\n",
    "\n",
    "\n",
    "vals = []\n",
    "\n",
    "@pm.deterministic\n",
    "def obs(alpha_MC=alpha_MC, beta_MC=beta_MC, gamma_MC=gamma_MC, Nn_MC=Nn_MC):\n",
    "        global vals\n",
    "        cf = 4\n",
    "        dt = 1.0/cf\n",
    "        N = len(data_normed_only_conf)\n",
    "        num = (N-1)*cf + 1\n",
    "#        res = base_seir_model_odeint((1 - 1/Nn_MC, 1/Nn_MC, 0, 0), dt, num, (alpha_MC, beta_MC, gamma_MC))\n",
    "        res = base_seir_model((1 - 1/Nn_MC, 1/Nn_MC, 0, 0), dt, num, (alpha_MC, beta_MC, gamma_MC))\n",
    "        rr = res.T[2][::cf]\n",
    "        #print(rr)\n",
    "        vals.append(rr)\n",
    "        return rr\n",
    "    \n",
    "# infected (we know them)\n",
    "#I_MC = pm.Exponential(\"I_MC\", obs, observed=True, value=data_normed[0])\n",
    "I_MC = pm.Normal(\"I_MC\", obs, [1e-8]*len(data_normed_only_conf), observed=True, value=data_normed_only_conf)\n",
    "\n",
    "#model = pm.Model([alpha_MC, beta_MC, gamma_MC, Nn_MC, I_MC])\n",
    "#mcmc = pm.MCMC(model)\n",
    "mcmc = pm.MCMC([alpha_MC, beta_MC, gamma_MC, Nn_MC, I_MC])\n",
    "mcmc.sample(100000, 10000, 100)\n",
    "#mcmc.sample(10)\n",
    "#mcmc.sample(1000, 100, 10)\n",
    "#mcmc.sample(10000, 1000, 10)\n"
   ]
  },
  {
   "cell_type": "code",
   "execution_count": 237,
   "metadata": {
    "Collapsed": "false"
   },
   "outputs": [
    {
     "ename": "KeyError",
     "evalue": "'gamma_MC'",
     "output_type": "error",
     "traceback": [
      "\u001b[0;31m---------------------------------------------------------------------------\u001b[0m",
      "\u001b[0;31mKeyError\u001b[0m                                  Traceback (most recent call last)",
      "\u001b[0;32m<ipython-input-237-bc483759d908>\u001b[0m in \u001b[0;36m<module>\u001b[0;34m\u001b[0m\n\u001b[1;32m      1\u001b[0m \u001b[0malpha_samples\u001b[0m \u001b[0;34m=\u001b[0m \u001b[0mmcmc\u001b[0m\u001b[0;34m.\u001b[0m\u001b[0mtrace\u001b[0m\u001b[0;34m(\u001b[0m\u001b[0;34m'alpha_MC'\u001b[0m\u001b[0;34m)\u001b[0m\u001b[0;34m[\u001b[0m\u001b[0;34m:\u001b[0m\u001b[0;34m]\u001b[0m\u001b[0;34m\u001b[0m\u001b[0;34m\u001b[0m\u001b[0m\n\u001b[1;32m      2\u001b[0m \u001b[0mbeta_samples\u001b[0m \u001b[0;34m=\u001b[0m \u001b[0mmcmc\u001b[0m\u001b[0;34m.\u001b[0m\u001b[0mtrace\u001b[0m\u001b[0;34m(\u001b[0m\u001b[0;34m'beta_MC'\u001b[0m\u001b[0;34m)\u001b[0m\u001b[0;34m[\u001b[0m\u001b[0;34m:\u001b[0m\u001b[0;34m]\u001b[0m\u001b[0;34m\u001b[0m\u001b[0;34m\u001b[0m\u001b[0m\n\u001b[0;32m----> 3\u001b[0;31m \u001b[0mgamma_samples\u001b[0m \u001b[0;34m=\u001b[0m \u001b[0mmcmc\u001b[0m\u001b[0;34m.\u001b[0m\u001b[0mtrace\u001b[0m\u001b[0;34m(\u001b[0m\u001b[0;34m'gamma_MC'\u001b[0m\u001b[0;34m)\u001b[0m\u001b[0;34m[\u001b[0m\u001b[0;34m:\u001b[0m\u001b[0;34m]\u001b[0m\u001b[0;34m\u001b[0m\u001b[0;34m\u001b[0m\u001b[0m\n\u001b[0m        \u001b[0;36mglobal\u001b[0m \u001b[0;36mgamma_samples\u001b[0m \u001b[0;34m= array([3.8274492937, 3.5752289861, 4.7588138638, 5.7846512084, 5.8145441361, 3.9496000596, 4.3269425999,\n       5.2349606998, 3.8148135337, 3.9564705114, 5.6328325135, 4.5453835156, 4.0997498257, 5.3638105854,\n       4.7095349684, 4.7156153528, 5.5907709264, 4.0075819885, 5.2279259595, 5.5966670903, 5.25258394  ,\n       4.0282490823, 4.0412874979, 4.3017466145, 4.2375771108, 5.6648686837, 4.6915913861, 5.1132593656,\n       4.9443078665, 5.5963913955, 5.3894282806, 4.8281401018, 5.3661178522, 3.3469726167, 5.3364181005,\n       5.0675814018, 4.519300777 , 5.6529400563, 4.0945408973, 4.8210083984, 5.231533392 , 4.376669326 ,\n       4.0975340973, 4.9788180543, 5.877652548 , 4.3526600407, 5.4774608189, 4.1324297643, 5.0589091319,\n       4.0034782174, 5.7108230411, 4.5523413835, 3.4964069964, 5.8617112999, 5.9120944257, 5.8451221773,\n       4.8377486196, 5.2188641329, 4.8687802395, 4.4889426488, 4.7314268068, 5.562719986 , 4.6741421611,\n       4.6926199566, 4.4048325899, 5.1782993684, 5.7288429978, 5.3449844642, 5.7179230125, 5.4230714214,\n       5.6440520922, 6.0703333337, 5.6433914897, 4.2761168357, 4.1716212774, 4.5528949781, 5.0646216663,\n       6.8213790564, 5.4489338595, 4.2746154986, 4.9369828558, 4.7124382779, 5.7822147253, 5.3445280157,\n       4.055839611 , 4.9834263284, 5.0246882615, 4.01356437  , 4.9364917938, 5.1324240542, 5.8300946025,\n       4.9368550011, 3.2611805366, 4.2023439374, 3.9255740257, 4.397185438 , 4.2800371674, 4.7847080961,\n       6.0189378393, 4.4835527124, 4.824869031 , 6.6090635133, 4.1839612609, 4.1714260299, 4.9269587311,\n       5.668064471 , 4.3054624953, 3.5359924382, 5.1100934048, 4.1710213433, 4.27762068  , 4.6450164723,\n       5.5149103062, 5.2508605418, 3.4958390885, 3.5165627174, 4.8892872792, 4.6531771013, 4.4602535858,\n       5.5627457038, 3.4814009427, 5.0350335792, 3.7252762122, 5.0212361404, 3.5040965467, 4.1802454086,\n       3.9790636408, 3.8349119115, 5.538646311 , 4.6319354823, 5.4668986495, 5.403062777 , 5.1116047242,\n       5.1233213947, 3.7428139095, 4.2719063288, 4.9658717255, 4.7789852807, 4.9836959197, 4.4032203607,\n       4.7413105201, 4.2030949339, 5.0134542066, 4.5124005081, 5.6257044057, 4.1879447474, 3.9711594058,\n       5.2683702937, 5.5764650201, 5.4829361214, 5.2194925948, 4.7947752003, 4.4241427968, 4.5300710958,\n       4.6887463824, 4.9071867265, 6.1352900982, 5.0770070412, 5.1337266527, 4.1463161584, 4.2595295961,\n       6.0540302068, 5.2415055991, 3.4671018475, 5.4152334997, 5.7949196384, 5.612447001 , 5.721786258 ,\n       3.0596731394, 5.1935742234, 4.8908877696, 5.018966376 , 5.3500141062, 4.4893428053, 5.4019248391,\n       4.8203160599, 4.9509207369, 5.046319677 , 5.1479500115, 5.9176896351, 6.3141082656, 5.0020645397,\n       4.2752876277, 5.4084735185, 4.9904746632, 5.0151162362, 6.0969322045, 5.4781445505, 4.3701200965,\n       4.1278948272, 4.8306633347, 3.4745812069, 5.0715807148, 3.8275937891, 4.7955437783, 4.387662327 ,\n       4.7817311165, 4.9379205102, 4.9381657562, 5.1710352724, 3.5947936309, 5.2269492108, 3.6186648802,\n       3.7822624134, 6.8770168727, 5.1653459273, 5.6272093797, 4.1444758843, 4.3814530609, 5.0883406579,\n       6.2007681288, 4.620219686 , 3.66944442  , 5.1308363897, 4.7525103233, 5.1284636765, 4.1552228632,\n       5.777806681 , 4.3366941754, 4.7678523805, 4.8292255339, 4.1193004131, 5.4226778421, 5.5064775491,\n       4.1213486739, 5.9993382026, 6.0608012235, 4.7734275399, 4.4387564155, 4.9002299227, 4.4891722076,\n       5.8547382839, 3.7246097548, 3.9434022474, 5.790047741 , 4.9766178741, 5.0489989864, 4.178980638 ,\n       3.9988017128, 4.4673751673, 3.5699239494, 5.042422058 , 5.0617172229, 4.529306575 , 5.1793950462,\n       5.5777232171, 5.3868730705, 4.6871660566, 4.4290782275, 4.7647402491, 4.6269873446, 5.5921821413,\n       4.9549850132, 4.9583923975, 4.3157725447, 6.6767816644, 4.2294514887, 5.2279073299, 5.6313489793,\n       4.9800840553, 5.1184674552, 4.7397328855, 4.8997573441, 4.2968418024, 5.2169019944, 4.3838386948,\n       5.3439547445, 4.6095994295, 5.3956121323, 5.4850031378, 5.8553601994, 5.0426310211, 4.5164802437,\n       3.9136664994, 4.3368346982, 5.2052721994, 5.223591758 , 4.2160153317, 4.6977875627, 4.7482168197,\n       3.8779149341, 4.8838440885, 4.5959442021, 4.2554351582, 5.3924292289, 5.9005361086, 5.0614819153,\n       5.029483808 , 4.6210194721, 4.6869448917, 3.7043999143, 4.6456645745, 4.8530336239, 5.7090093783,\n       4.514965237 , 4.8113845319, 5.1019680248, 3.9976577325, 5.7636220934, 6.113633151 , 5.086602066 ,\n       4.7432359787, 4.5994596082, 4.4017149967, 4.6603588893, 4.161958485 , 6.0715117905, 5.0674000444,\n       4.5832380903, 4.5115514733, 3.7323499662, 4.8856355179, 5.5279002575, 4.221860176 , 4.8195704207,\n       4.996102211 , 5.0896652137, 4.8555929481, 4.0591580719, 4.4500212778, 5.6243407661, 4.8042543115,\n       5.6979385615, 4.2584556769, 5.0858041747, 3.8788470602, 4.9434500086, 5.1131986341, 4.5303420986,\n       4.768525773 , 4.0036141885, 5.4688983298, 4.7199604169, 3.7745852882, 4.153866211 , 4.5215560454,\n       4.5860742631, 4.6192097436, 5.7213949024, 3.7673067604, 5.1605286789, 4.121993847 , 4.770171111 ,\n       5.0894760016, 4.700948661 , 4.9009632131, 6.1413719699, 5.2456441062, 4.1532286457, 6.1842266081,\n       4.7127545342, 4.6842666964, 5.1873669563, 4.5788664974, 5.1266318102, 5.1609073532, 3.954643357 ,\n       5.1274123979, 4.4755591223, 4.6936961383, 5.2759543722, 5.2957563191, 4.5890574201, 4.6068050281,\n       4.3566163524, 4.4249964686, 4.9006526924, 4.9126745128, 4.3207810557, 5.2311761882, 5.4562888606,\n       4.5740495355, 5.1573556006, 4.6527975542, 4.865262366 , 4.3494462492, 5.0521176939, 4.5204320918,\n       5.2856018955, 4.8499364187, 4.7730683426, 5.0468799512, 4.1310226546, 4.0859928797, 4.0704249133,\n       4.9305404365, 5.2738512444, 4.1100382672, 5.4890435323, 5.407520704 , 5.148248164 , 4.3531247323,\n       4.7900160786, 3.9030964722, 3.7614490586, 4.3209425343, 5.5380766513, 3.8506210681, 4.2738877485,\n       4.5018390878, 4.3642823691, 5.1726692646, 6.1924958694, 5.4335771003, 4.6487746624, 4.5528764774,\n       5.7923480497, 5.8852532584, 6.3728116499, 4.9244583627, 4.9811586006, 4.3802218304, 5.04950414  ,\n       4.5599666148, 4.6453963983, 3.5753859077, 4.853155729 , 4.3891519482, 5.0685561309, 4.7241996406,\n       4.2958360146, 4.1506868614, 4.7749533137, 5.4653717056, 4.0699049431, 4.8837697149, 4.8269531853,\n       4.2021972553, 4.5372372514, 4.3789902997, 5.5680108742, 5.2001580711, 4.5115086868, 5.5340238373,\n       5.4518262903, 4.1576634886, 4.4368417004, 5.6577448393, 4.9547223702, 5.0015856499, 4.8785926714,\n       5.3557851911, 5.6020705929, 5.5271439961, 5.5067422875, 4.7949244413, 5.1335766606, 5.0273201805,\n       5.2391125291, 6.4238376108, 4.1196024096, 4.2269125893, 5.394982518 , 4.8449907652, 4.8758904502,\n       4.6532329394, 4.8437574963, 4.7472715853, 3.5654267941, 4.4885708103, 4.4706829314, 4.3093492075,\n       3.7747392102, 4.5505636546, 4.8823350797, 5.1440680889, 3.6703081317, 4.8529928158, 6.2526935771,\n       4.4592819454, 4.5556642941, 4.6920476572, 4.1778447413, 4.6024346274, 3.8611935592, 4.5650492561,\n       4.9727930388, 4.7117407703, 5.109865063 , 5.8140831773, 3.5763576092, 5.2103850644, 4.4199541301,\n       4.9158580026, 5.2371138343, 4.8558996765, 5.0507258016, 4.4264029283, 4.6059714831, 5.7681154381,\n       5.4021862942, 4.9626797941, 4.6231849254, 4.6358609605, 5.3366738316, 5.3757196901, 4.4057032679,\n       5.8003176441, 4.098733071 , 4.8078038554, 5.6408201213, 5.2821398593, 5.7393950464, 5.3155508729,\n       5.3431316122, 4.0739676659, 5.9983881385, 5.3353873193, 4.8707285216, 4.8147662562, 5.1522928584,\n       3.5371113723, 3.9362948898, 4.3282380898, 5.5234271857, 4.2922229874, 5.9202475033, 4.5212757619,\n       4.5361049167, 4.954791515 , 5.1568717275, 4.698058661 , 4.8549523051, 4.4830959566, 5.0925490395,\n       4.2129041665, 3.5498034564, 4.2195381929, 5.3171477003, 5.8185085326, 4.2196392138, 4.4195605367,\n       4.4841087187, 4.9143120121, 4.753244724 , 5.149453894 , 4.6320435176, 4.3885246956, 5.8057498294,\n       5.2917370066, 5.1342821949, 5.6086149119, 4.5176315064, 4.9945499069, 4.7451524366, 5.4672209722,\n       4.9518913416, 5.0051314555, 3.508547258 , 5.2519124037, 3.9510947532, 5.0558023292, 4.4270109913,\n       4.2099980386, 4.0111629312, 4.4661126433, 4.7429952529, 5.1090855195, 4.8905013636, 3.81717486  ,\n       4.8792332588, 5.1007032742, 6.3703341498, 5.7343316484, 5.0313352758, 4.6733823798, 5.7203451239,\n       4.730438095 , 4.8545494027, 4.5725465024, 4.4917347783, 6.1746424361, 4.0333099786, 5.1304356377,\n       3.9379536666, 4.5622479323, 4.3112823431, 4.4887760042, 3.7154166032, 4.5591064018, 4.8988784937,\n       5.9868612515, 4.9502020336, 4.764956336 , 4.6238031388, 4.2586589845, 3.7176101027, 3.4330837371,\n       5.0044658602, 3.4725179032, 5.1063476876, 5.5782365255, 4.662129182 , 3.9530450702, 4.0308115975,\n       5.9709949768, 6.0667907367, 5.7613656478, 5.1796201358, 5.1239075902, 5.6514561985, 5.463306949 ,\n       4.2429575932, 4.3289114598, 4.9254795253, 5.5631406196, 3.4125746752, 3.947998463 , 4.2344319222,\n       6.0618268561, 5.7591422359, 4.5274486147, 4.5034203743, 3.2226175433, 4.3775882164, 4.8182727282,\n       4.4565390782, 5.2050792953, 4.4373246579, 5.9691676935, 4.5351284574, 5.6849851401, 4.9446773429,\n       4.6328614223, 5.19683108  , 6.4644357247, 3.7760106964, 4.478435517 , 5.436173479 , 4.4929763164,\n       5.4717642743, 5.4820566964, 3.7650809113, 3.8356820254, 4.0700978049, 3.7530459309, 4.4162498226,\n       3.861714518 , 5.1042149992, 6.4918374256, 4.2331219678, 4.2931829357, 4.2661077122, 3.5393535348,\n       5.7622037063, 4.7224480657, 4.7165505632, 4.8424997852, 4.8088112765, 4.2834627491, 4.6829289119,\n       6.3851764095, 4.2246189167, 3.4683604088, 4.5073924045, 4.2122423447, 5.089617014 , 4.6175086789,\n       5.125796472 , 5.6075554904, 4.4236773786, 4.7527294306, 4.8680145108, 4.4386574801, 4.9824121023,\n       4.4831947821, 5.640420557 , 4.8455028172, 5.0589316703, 5.6883496211, 5.6982430074, 4.5013753533,\n       5.4708061703, 3.0494445629, 5.6276599292, 4.1326483698, 4.7857240344, 3.2431602724, 5.4416213278,\n       5.1587339579, 4.0533131732, 5.3559294643, 6.1780368881, 4.7118992318, 4.7851579379, 4.1403983195,\n       4.8910959468, 3.5061805426, 4.4805203378, 5.5691232696, 3.9928828608, 4.6740715431, 5.6730856704,\n       5.8151109793, 4.7030903399, 6.2801553169, 6.1452756368, 5.3168498728, 4.8176465537, 5.2149950292,\n       5.1733487184, 4.1590023098, 4.8048009532, 5.0356779573, 5.4330974001, 4.771037494 , 4.6016123034,\n       4.5972943739, 3.460712631 , 4.3998463522, 4.8014142247, 5.0457534651, 5.8184042018, 4.4701145924,\n       5.5545564637, 5.3092244604, 5.5930769105, 4.9042676941, 5.6929662696, 5.038098144 , 4.3389168292,\n       4.7486077759, 4.6847285866, 5.619415879 , 4.8231367153, 4.5403487248, 4.6032914846, 4.3494574877,\n       3.8047191731, 4.7644987494, 4.4127041862, 4.8575067875, 5.0884545174, 4.3497373432, 5.5974999545,\n       5.0729322501, 5.1691004441, 4.2633021196, 4.1743153034, 5.028342231 , 4.6876483769, 3.9114593312,\n       5.0605618569, 4.3754716753, 4.8608561516, 4.4240785555, 5.2836133822, 5.372589911 , 4.9180433402,\n       5.3908094077, 5.0850854406, 4.9463848533, 5.0420984851, 4.9597585585, 4.1510652221, 4.1322568649,\n       5.6882253713, 4.7768507307, 3.7904028391, 4.5036459281, 4.6329227461, 5.5339391463, 4.6442451427,\n       4.4353227649, 5.4585333294, 4.6546756294, 5.5071371916, 4.1744146571, 5.1199529429, 5.475035706 ,\n       4.6883898798, 5.3528432848, 4.9119356055, 6.0738864812, 5.1541007343, 3.87354471  , 4.2267910823,\n       5.9801866789, 4.5234546164, 4.73114542  , 5.1084552046, 5.7050707206, 5.9299022577, 4.4335888901,\n       4.9392243447, 3.7719547421, 2.9407325746, 4.8413092213, 4.5717406575, 4.9912803252, 3.8904618536,\n       5.4086873714, 5.3445402132, 4.1071944931, 4.9854770546, 3.6285005313, 6.2309819894, 5.2020876007,\n       4.5161026077, 4.9029045727, 5.2591078008, 5.0605693888, 5.1704999511, 5.7270961333, 5.0178689603,\n       6.012732744 , 4.4477368925, 5.4377233774, 4.1867418362, 4.590693111 , 4.1951949385, 4.7858374305,\n       5.443648231 , 4.8990306418, 5.0813685051, 3.7817393639, 5.1487609615, 5.3663482164, 4.2503719909,\n       4.738893572 , 4.4888348766, 3.9604808907, 4.1677188072, 4.2649883423, 4.0872437997, 4.3957676793,\n       3.880441787 , 4.1043922214, 4.3633134264, 4.5013015567, 5.322877592 , 4.7269965593, 4.8595568016,\n       4.164072441 , 3.9192882655, 4.7363837681, 4.0277709016, 4.4908369459, 5.1371683584, 4.7033251323,\n       3.7979003152, 5.4846920396, 4.3774252279, 3.1590400161, 4.3993151407, 4.5760581342, 6.2051644624,\n       4.6790236719, 4.9346489903, 4.4373353345, 5.5934819112, 4.2917664483, 4.2344113143, 4.0430333956,\n       5.4452524594, 4.5993268652, 5.7094720421, 3.9932296902, 5.0122341534, 5.1709571587, 4.7003438658,\n       4.7363109153, 5.4770840604, 4.9186563693, 5.4547481745, 5.702728544 , 5.5409955428, 5.47013695  ,\n       4.0694592749, 4.5803488314, 4.2294299277, 4.5437616346, 4.3911081457, 5.2188022075, 5.1964933852,\n       3.9043625507, 4.2977416163, 4.3831782221, 4.1943255596, 3.7695544913, 5.0305206724, 4.0956985133,\n       4.4425393994, 4.708866362 , 3.8246735294, 4.507987528 , 4.7552532047, 4.3264496453, 3.5562159059,\n       3.228377689 , 4.5264622368, 4.1614826313, 5.0317754433, 5.4385912313, 5.3583805278, 5.1169440357,\n       4.6362578468, 5.0093164211, 4.1837017309, 3.7701708732])\u001b[0m\u001b[0;34m\n        \u001b[0m\u001b[0;36mglobal\u001b[0m \u001b[0;36mmcmc.trace\u001b[0m \u001b[0;34m= <bound method Sampler.trace of <pymc.MCMC.MCMC object at 0x7fed000bb9b0>>\u001b[0m\n\u001b[1;32m      4\u001b[0m \u001b[0;34m\u001b[0m\u001b[0m\n\u001b[1;32m      5\u001b[0m \u001b[0;34m\u001b[0m\u001b[0m\n",
      "\u001b[0;32m~/anaconda2/envs/py3/lib/python3.6/site-packages/pymc/Model.py\u001b[0m in \u001b[0;36mtrace\u001b[0;34m(self=<pymc.MCMC.MCMC object>, name='gamma_MC', chain=-1)\u001b[0m\n\u001b[1;32m    832\u001b[0m         \"\"\"\n\u001b[1;32m    833\u001b[0m         \u001b[0;32mif\u001b[0m \u001b[0misinstance\u001b[0m\u001b[0;34m(\u001b[0m\u001b[0mname\u001b[0m\u001b[0;34m,\u001b[0m \u001b[0mstr\u001b[0m\u001b[0;34m)\u001b[0m\u001b[0;34m:\u001b[0m\u001b[0;34m\u001b[0m\u001b[0;34m\u001b[0m\u001b[0m\n\u001b[0;32m--> 834\u001b[0;31m             \u001b[0;32mreturn\u001b[0m \u001b[0mself\u001b[0m\u001b[0;34m.\u001b[0m\u001b[0mdb\u001b[0m\u001b[0;34m.\u001b[0m\u001b[0mtrace\u001b[0m\u001b[0;34m(\u001b[0m\u001b[0mname\u001b[0m\u001b[0;34m,\u001b[0m \u001b[0mchain\u001b[0m\u001b[0;34m)\u001b[0m\u001b[0;34m\u001b[0m\u001b[0;34m\u001b[0m\u001b[0m\n\u001b[0m        \u001b[0;36mself.db.trace\u001b[0m \u001b[0;34m= <bound method Database.trace of <pymc.database.ram.Database object at 0x7fed000bbf98>>\u001b[0m\u001b[0;34m\n        \u001b[0m\u001b[0;36mname\u001b[0m \u001b[0;34m= 'gamma_MC'\u001b[0m\u001b[0;34m\n        \u001b[0m\u001b[0;36mchain\u001b[0m \u001b[0;34m= -1\u001b[0m\n\u001b[1;32m    835\u001b[0m         \u001b[0;32melif\u001b[0m \u001b[0misinstance\u001b[0m\u001b[0;34m(\u001b[0m\u001b[0mname\u001b[0m\u001b[0;34m,\u001b[0m \u001b[0mVariable\u001b[0m\u001b[0;34m)\u001b[0m\u001b[0;34m:\u001b[0m\u001b[0;34m\u001b[0m\u001b[0;34m\u001b[0m\u001b[0m\n\u001b[1;32m    836\u001b[0m             \u001b[0;32mreturn\u001b[0m \u001b[0mself\u001b[0m\u001b[0;34m.\u001b[0m\u001b[0mdb\u001b[0m\u001b[0;34m.\u001b[0m\u001b[0mtrace\u001b[0m\u001b[0;34m(\u001b[0m\u001b[0mname\u001b[0m\u001b[0;34m.\u001b[0m\u001b[0m__name__\u001b[0m\u001b[0;34m,\u001b[0m \u001b[0mchain\u001b[0m\u001b[0;34m)\u001b[0m\u001b[0;34m\u001b[0m\u001b[0;34m\u001b[0m\u001b[0m\n",
      "\u001b[0;32m~/anaconda2/envs/py3/lib/python3.6/site-packages/pymc/database/base.py\u001b[0m in \u001b[0;36mtrace\u001b[0;34m(self=<pymc.database.ram.Database object>, name='gamma_MC', chain=-1)\u001b[0m\n\u001b[1;32m    371\u001b[0m           \u001b[0mthe\u001b[0m \u001b[0mith\u001b[0m \u001b[0mcall\u001b[0m \u001b[0mto\u001b[0m\u001b[0;31m \u001b[0m\u001b[0;31m`\u001b[0m\u001b[0msample\u001b[0m\u001b[0;31m`\u001b[0m\u001b[0;34m.\u001b[0m\u001b[0;34m\u001b[0m\u001b[0;34m\u001b[0m\u001b[0m\n\u001b[1;32m    372\u001b[0m         \"\"\"\n\u001b[0;32m--> 373\u001b[0;31m         \u001b[0mtrace\u001b[0m \u001b[0;34m=\u001b[0m \u001b[0mcopy\u001b[0m\u001b[0;34m.\u001b[0m\u001b[0mcopy\u001b[0m\u001b[0;34m(\u001b[0m\u001b[0mself\u001b[0m\u001b[0;34m.\u001b[0m\u001b[0m_traces\u001b[0m\u001b[0;34m[\u001b[0m\u001b[0mname\u001b[0m\u001b[0;34m]\u001b[0m\u001b[0;34m)\u001b[0m\u001b[0;34m\u001b[0m\u001b[0;34m\u001b[0m\u001b[0m\n\u001b[0m        \u001b[0;36mtrace\u001b[0m \u001b[0;34m= \u001b[0;36mundefined\u001b[0m\u001b[0m\u001b[0;34m\n        \u001b[0m\u001b[0;36mglobal\u001b[0m \u001b[0;36mcopy.copy\u001b[0m \u001b[0;34m= <function copy at 0x7fed5c219bf8>\u001b[0m\u001b[0;34m\n        \u001b[0m\u001b[0;36mself._traces\u001b[0m \u001b[0;34m= {'deviance': <pymc.database.ram.Trace object at 0x7fed000bbf28>, 'k0_MC': <pymc.database.ram.Trace object at 0x7fed000bbfd0>, 'alpha_MC': <pymc.database.ram.Trace object at 0x7fed000bbe80>, 'I0_MC': <pymc.database.ram.Trace object at 0x7fed000bbdd8>, 'beta_MC': <pymc.database.ram.Trace object at 0x7fed000bbd68>, 'k_MC': <pymc.database.ram.Trace object at 0x7fed000bbd30>, 'Metropolis_I0_MC_adaptive_scale_factor': <pymc.database.ram.Trace object at 0x7fed000bbda0>, 'Metropolis_alpha_MC_adaptive_scale_factor': <pymc.database.ram.Trace object at 0x7fed000bbcf8>, 'Metropolis_beta_MC_adaptive_scale_factor': <pymc.database.ram.Trace object at 0x7fed000bbc88>, 'Metropolis_k0_MC_adaptive_scale_factor': <pymc.database.ram.Trace object at 0x7fed000bbcc0>, 'Metropolis_k_MC_adaptive_scale_factor': <pymc.database.ram.Trace object at 0x7fed000bbc50>}\u001b[0m\u001b[0;34m\n        \u001b[0m\u001b[0;36mname\u001b[0m \u001b[0;34m= 'gamma_MC'\u001b[0m\n\u001b[1;32m    374\u001b[0m         \u001b[0mtrace\u001b[0m\u001b[0;34m.\u001b[0m\u001b[0m_chain\u001b[0m \u001b[0;34m=\u001b[0m \u001b[0mchain\u001b[0m\u001b[0;34m\u001b[0m\u001b[0;34m\u001b[0m\u001b[0m\n\u001b[1;32m    375\u001b[0m         \u001b[0;32mreturn\u001b[0m \u001b[0mtrace\u001b[0m\u001b[0;34m\u001b[0m\u001b[0;34m\u001b[0m\u001b[0m\n",
      "\u001b[0;31mKeyError\u001b[0m: 'gamma_MC'"
     ]
    }
   ],
   "source": [
    "alpha_samples = mcmc.trace('alpha_MC')[:]\n",
    "beta_samples = mcmc.trace('beta_MC')[:]\n",
    "gamma_samples = mcmc.trace('gamma_MC')[:]\n",
    "\n",
    "\n",
    "plt.figure(figsize=(12.5, 6))\n",
    "\n",
    "# histogram of the samples:\n",
    "plt.subplot(311)\n",
    "plt.title(r\"Posterior distributions of the variables $\\alpha, \\beta, \\gamma$\")\n",
    "plt.hist(alpha_samples, histtype='stepfilled', bins=35, alpha=0.85,\n",
    "         label=r\"posterior of $\\alpha$\", color=\"#7A68A6\", density=True)\n",
    "plt.legend()\n",
    "\n",
    "plt.subplot(312)\n",
    "plt.hist(beta_samples, histtype='stepfilled', bins=35, alpha=0.85,\n",
    "         label=r\"posterior of $\\beta$\", color=\"#A60628\", density=True)\n",
    "plt.legend();\n",
    "\n",
    "plt.subplot(313)\n",
    "plt.hist(gamma_samples, histtype='stepfilled', bins=35, alpha=0.85,\n",
    "         label=r\"posterior of $\\gamma$\", color=\"#467821\", density=True)\n",
    "plt.legend();\n"
   ]
  },
  {
   "cell_type": "code",
   "execution_count": 134,
   "metadata": {
    "Collapsed": "false"
   },
   "outputs": [
    {
     "data": {
      "image/png": "[encoded data removed]",
      "text/plain": [
       "<Figure size 432x288 with 1 Axes>"
      ]
     },
     "metadata": {
      "needs_background": "light"
     },
     "output_type": "display_data"
    }
   ],
   "source": [
    "Nn_samples = mcmc.trace('Nn_MC')[:]\n",
    "plt.title(r\"Posterior distributions of N\")\n",
    "plt.hist(Nn_samples, histtype='stepfilled', bins=35, alpha=0.85,\n",
    "         label=r\"posterior of $\\alpha$\", color=\"#7A68A6\");\n"
   ]
  },
  {
   "cell_type": "code",
   "execution_count": 243,
   "metadata": {
    "Collapsed": "false"
   },
   "outputs": [
    {
     "name": "stderr",
     "output_type": "stream",
     "text": [
      "/home/gleb/anaconda2/envs/py3/lib/python3.6/site-packages/ipykernel_launcher.py:35: RuntimeWarning: overflow encountered in double_scalars\n",
      "/home/gleb/anaconda2/envs/py3/lib/python3.6/site-packages/ipykernel_launcher.py:35: RuntimeWarning: invalid value encountered in double_scalars\n",
      "/home/gleb/anaconda2/envs/py3/lib/python3.6/site-packages/ipykernel_launcher.py:36: RuntimeWarning: overflow encountered in double_scalars\n"
     ]
    },
    {
     "data": {
      "text/plain": [
       "[<matplotlib.lines.Line2D at 0x7fecfd002278>]"
      ]
     },
     "execution_count": 243,
     "metadata": {},
     "output_type": "execute_result"
    },
    {
     "data": {
      "image/png": "[encoded data removed]",
      "text/plain": [
       "<Figure size 432x288 with 1 Axes>"
      ]
     },
     "metadata": {
      "needs_background": "light"
     },
     "output_type": "display_data"
    }
   ],
   "source": [
    "params = 2.5, 5, 4.8, -23, 9000\n",
    "def obs(alpha_MC=alpha_MC, beta_MC=beta_MC, k0_MC=k0_MC, k_MC=k_MC, I0_MC=I0_MC):\n",
    "        #global vals\n",
    "        cf = 4\n",
    "        dt = 1.0/cf\n",
    "        N = len(data_normed_only_conf)\n",
    "        num = (N-1)*cf + 1\n",
    "        res = base_sirx_model_odeint((1, I0_MC, 0, 0), dt, num, (alpha_MC, beta_MC, k0_MC, k_MC))\n",
    "        rr = res.T[1][::cf]\n",
    "        #print(rr)\n",
    "        #vals.append(rr)\n",
    "        return rr\n",
    "plt.plot(obs(*params))"
   ]
  },
  {
   "cell_type": "code",
   "execution_count": 11,
   "metadata": {
    "Collapsed": "false"
   },
   "outputs": [
    {
     "ename": "AttributeError",
     "evalue": "__enter__",
     "output_type": "error",
     "traceback": [
      "\u001b[0;31m---------------------------------------------------------------------------\u001b[0m",
      "\u001b[0;31mAttributeError\u001b[0m                            Traceback (most recent call last)",
      "\u001b[0;32m<ipython-input-11-e1ed69b06bbd>\u001b[0m in \u001b[0;36m<module>\u001b[0;34m\u001b[0m\n\u001b[0;32m----> 1\u001b[0;31m \u001b[0;32mwith\u001b[0m \u001b[0mpm\u001b[0m\u001b[0;34m.\u001b[0m\u001b[0mModel\u001b[0m\u001b[0;34m(\u001b[0m\u001b[0;34m)\u001b[0m \u001b[0;32mas\u001b[0m \u001b[0mmodel\u001b[0m\u001b[0;34m:\u001b[0m\u001b[0;34m\u001b[0m\u001b[0;34m\u001b[0m\u001b[0m\n\u001b[0m        \u001b[0;36mglobal\u001b[0m \u001b[0;36mpm.Model\u001b[0m \u001b[0;34m= <class 'pymc.Model.Model'>\u001b[0m\u001b[0;34m\n        \u001b[0m\u001b[0;36mglobal\u001b[0m \u001b[0;36mmodel\u001b[0m \u001b[0;34m= <pymc.Model.Model object at 0x7fed0338a470>\u001b[0m\n\u001b[1;32m      2\u001b[0m \u001b[0;34m\u001b[0m\u001b[0m\n\u001b[1;32m      3\u001b[0m     \u001b[0malpha_MC\u001b[0m \u001b[0;34m=\u001b[0m \u001b[0mpm\u001b[0m\u001b[0;34m.\u001b[0m\u001b[0mExponential\u001b[0m\u001b[0;34m(\u001b[0m\u001b[0;34m\"alpha_MC\"\u001b[0m\u001b[0;34m,\u001b[0m \u001b[0;36m1.\u001b[0m\u001b[0;34m/\u001b[0m\u001b[0;36m3\u001b[0m\u001b[0;34m)\u001b[0m\u001b[0;34m\u001b[0m\u001b[0;34m\u001b[0m\u001b[0m\n\u001b[1;32m      4\u001b[0m     \u001b[0mbeta_MC\u001b[0m  \u001b[0;34m=\u001b[0m \u001b[0mpm\u001b[0m\u001b[0;34m.\u001b[0m\u001b[0mExponential\u001b[0m\u001b[0;34m(\u001b[0m\u001b[0;34m\"beta_MC\"\u001b[0m\u001b[0;34m,\u001b[0m \u001b[0;36m1.\u001b[0m\u001b[0;34m/\u001b[0m\u001b[0;36m3\u001b[0m\u001b[0;34m)\u001b[0m\u001b[0;34m\u001b[0m\u001b[0;34m\u001b[0m\u001b[0m\n\u001b[1;32m      5\u001b[0m     \u001b[0mgamma_MC\u001b[0m \u001b[0;34m=\u001b[0m \u001b[0mpm\u001b[0m\u001b[0;34m.\u001b[0m\u001b[0mExponential\u001b[0m\u001b[0;34m(\u001b[0m\u001b[0;34m\"gamma_MC\"\u001b[0m\u001b[0;34m,\u001b[0m \u001b[0;36m1.\u001b[0m\u001b[0;34m/\u001b[0m\u001b[0;36m3\u001b[0m\u001b[0;34m)\u001b[0m\u001b[0;34m\u001b[0m\u001b[0;34m\u001b[0m\u001b[0m\n",
      "\u001b[0;31mAttributeError\u001b[0m: __enter__"
     ]
    }
   ],
   "source": [
    "# pyMC3 code\n",
    "with pm.Model() as model:\n",
    "    \n",
    "    alpha_MC = pm.Exponential(\"alpha_MC\", 1./3)\n",
    "    beta_MC  = pm.Exponential(\"beta_MC\", 1./3)\n",
    "    gamma_MC = pm.Exponential(\"gamma_MC\", 1./3)\n",
    "    Nn_MC    = pm.Exponential(\"Nn_MC\", 1./10000)\n",
    "\n",
    "    #@pm.deterministic\n",
    "    def obs(alpha_MC=alpha_MC, beta_MC=beta_MC, gamma_MC=gamma_MC, Nn_MC=Nn_MC):\n",
    "        cf = 4\n",
    "        dt = 1.0/cf\n",
    "        N = data_normed.shape[1]\n",
    "        num = N*cf + 1\n",
    "        res = base_seir_model((1 - 1/Nn_MC, 1/Nn_MC, 0, 0), 1, num, (alpha_MC, beta_MC, gamma_MC))\n",
    "        return res.T[2][::num]\n",
    "    \n",
    "    # indefcted (we know them)\n",
    "    I_MC = pm.Categorical(\"I_MC\", obs, observed=data[0])\n",
    "    \n",
    "    # Simulations\n",
    "    step = pm.Metropolis()\n",
    "    trace = pm.sample(10000, tune=5000,step=step)\n"
   ]
  },
  {
   "cell_type": "code",
   "execution_count": null,
   "metadata": {
    "Collapsed": "false"
   },
   "outputs": [],
   "source": []
  }
 ],
 "metadata": {
  "kernelspec": {
   "display_name": "Python 3",
   "language": "python",
   "name": "python3"
  },
  "language_info": {
   "codemirror_mode": {
    "name": "ipython",
    "version": 3
   },
   "file_extension": ".py",
   "mimetype": "text/x-python",
   "name": "python",
   "nbconvert_exporter": "python",
   "pygments_lexer": "ipython3",
   "version": "3.6.8"
  }
 },
 "nbformat": 4,
 "nbformat_minor": 4
}

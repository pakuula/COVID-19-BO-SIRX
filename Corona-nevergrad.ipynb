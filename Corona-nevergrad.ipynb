{
 "cells": [
  {
   "cell_type": "markdown",
   "metadata": {
    "Collapsed": "false"
   },
   "source": [
    "## SIR-X model\n",
    "\n",
    "\n",
    "The SIR-X model http://rocs.hu-berlin.de/corona/docs/forecast/results_by_country/ is a simple but seems to be accurate model.\n",
    "\n",
    "The population is described by **S** (fraction of people suspectible to the infection), **I** (fraction of people infected and spreading the infection), (**R** which is neither suspectible nor infected), and **X** (the number of \"quarantineed\" people). \n",
    "\n",
    "$X$ is roughly the number of cases reported by each country. \n",
    "\n",
    "The equations describing the evolution of $S$, $I$, $R$ and $X$ are self-explanatory:\n",
    "\n",
    "$$\\frac{dS}{dt} = -\\alpha S I - k_0 S,  \\quad \\frac{dI}{dt} = \\alpha S I - \\beta I - k_0 I - k I, \n",
    "\\quad \\frac{dX}{dt} = (k_0 + k) I, \\quad \\frac{dR}{dt} = k_0 S + \\beta I.$$\n",
    "\n",
    "The first equation controls the spread of the infection (the growth is proportional to the probability of meeting of $S$ and $I$), \n",
    "the constant $\\beta$ controls the recovery / death process (and is roughly $\\beta \\approx \\frac{1}{T}$, where $T$ is the characteristic time of the decease). \n",
    "\n",
    "The parameters $k_0$ and $k$ represent the measures taken: $k_0$ corresponds to social distancing / contract tracing, whereas $k$ controls the quarantine process for symptomatic individuals\n",
    "\n",
    "To fit the model, one has to find the parameters of it $\\alpha, \\beta, k_0, k$ and the initial number of infected individuals $I_0$ such that the $X(t)$ approximates the observed cases $C(t)$. The true number of potentially infected people $I(t)$ can be much larger. \n",
    "\n",
    "Several optimization techniques can be used. We tried gradient-free optimization package **nevergrad**, however, \n",
    "right now we are doing the Bayesian optimization in order to give not only the values of parameters, but also the risk values. \n",
    "\n",
    "\n",
    "The data collection below is taken form a nice [Google Colab notebook](https://colab.research.google.com/drive/15R6bXKW--TSMXClMfHql8zU0ePOLEoa3)"
   ]
  },
  {
   "cell_type": "code",
   "execution_count": 42,
   "metadata": {
    "Collapsed": "false"
   },
   "outputs": [],
   "source": [
    "import numpy as np\n",
    "import pandas as pd\n",
    "import matplotlib.pyplot as plt\n",
    "from numba import jit\n",
    "#import pymc as pm\n",
    "from scipy.integrate import odeint\n",
    "from concurrent import futures\n",
    "\n",
    "%matplotlib inline\n"
   ]
  },
  {
   "cell_type": "code",
   "execution_count": 43,
   "metadata": {
    "Collapsed": "false"
   },
   "outputs": [
    {
     "data": {
      "text/html": [
       "<div>\n",
       "<style scoped>\n",
       "    .dataframe tbody tr th:only-of-type {\n",
       "        vertical-align: middle;\n",
       "    }\n",
       "\n",
       "    .dataframe tbody tr th {\n",
       "        vertical-align: top;\n",
       "    }\n",
       "\n",
       "    .dataframe thead th {\n",
       "        text-align: right;\n",
       "    }\n",
       "</style>\n",
       "<table border=\"1\" class=\"dataframe\">\n",
       "  <thead>\n",
       "    <tr style=\"text-align: right;\">\n",
       "      <th></th>\n",
       "      <th>State</th>\n",
       "      <th>Country</th>\n",
       "      <th>Lat</th>\n",
       "      <th>Long</th>\n",
       "      <th>1/22/20</th>\n",
       "      <th>1/23/20</th>\n",
       "      <th>1/24/20</th>\n",
       "      <th>1/25/20</th>\n",
       "      <th>1/26/20</th>\n",
       "      <th>1/27/20</th>\n",
       "      <th>...</th>\n",
       "      <th>3/29/20</th>\n",
       "      <th>3/30/20</th>\n",
       "      <th>3/31/20</th>\n",
       "      <th>4/1/20</th>\n",
       "      <th>4/2/20</th>\n",
       "      <th>4/3/20</th>\n",
       "      <th>4/4/20</th>\n",
       "      <th>4/5/20</th>\n",
       "      <th>4/6/20</th>\n",
       "      <th>4/7/20</th>\n",
       "    </tr>\n",
       "  </thead>\n",
       "  <tbody>\n",
       "    <tr>\n",
       "      <th>0</th>\n",
       "      <td>NaN</td>\n",
       "      <td>Afghanistan</td>\n",
       "      <td>33.0000</td>\n",
       "      <td>65.0000</td>\n",
       "      <td>0</td>\n",
       "      <td>0</td>\n",
       "      <td>0</td>\n",
       "      <td>0</td>\n",
       "      <td>0</td>\n",
       "      <td>0</td>\n",
       "      <td>...</td>\n",
       "      <td>120</td>\n",
       "      <td>170</td>\n",
       "      <td>174</td>\n",
       "      <td>237</td>\n",
       "      <td>273</td>\n",
       "      <td>281</td>\n",
       "      <td>299</td>\n",
       "      <td>349</td>\n",
       "      <td>367</td>\n",
       "      <td>423</td>\n",
       "    </tr>\n",
       "    <tr>\n",
       "      <th>1</th>\n",
       "      <td>NaN</td>\n",
       "      <td>Albania</td>\n",
       "      <td>41.1533</td>\n",
       "      <td>20.1683</td>\n",
       "      <td>0</td>\n",
       "      <td>0</td>\n",
       "      <td>0</td>\n",
       "      <td>0</td>\n",
       "      <td>0</td>\n",
       "      <td>0</td>\n",
       "      <td>...</td>\n",
       "      <td>212</td>\n",
       "      <td>223</td>\n",
       "      <td>243</td>\n",
       "      <td>259</td>\n",
       "      <td>277</td>\n",
       "      <td>304</td>\n",
       "      <td>333</td>\n",
       "      <td>361</td>\n",
       "      <td>377</td>\n",
       "      <td>383</td>\n",
       "    </tr>\n",
       "    <tr>\n",
       "      <th>2</th>\n",
       "      <td>NaN</td>\n",
       "      <td>Algeria</td>\n",
       "      <td>28.0339</td>\n",
       "      <td>1.6596</td>\n",
       "      <td>0</td>\n",
       "      <td>0</td>\n",
       "      <td>0</td>\n",
       "      <td>0</td>\n",
       "      <td>0</td>\n",
       "      <td>0</td>\n",
       "      <td>...</td>\n",
       "      <td>511</td>\n",
       "      <td>584</td>\n",
       "      <td>716</td>\n",
       "      <td>847</td>\n",
       "      <td>986</td>\n",
       "      <td>1171</td>\n",
       "      <td>1251</td>\n",
       "      <td>1320</td>\n",
       "      <td>1423</td>\n",
       "      <td>1468</td>\n",
       "    </tr>\n",
       "    <tr>\n",
       "      <th>3</th>\n",
       "      <td>NaN</td>\n",
       "      <td>Andorra</td>\n",
       "      <td>42.5063</td>\n",
       "      <td>1.5218</td>\n",
       "      <td>0</td>\n",
       "      <td>0</td>\n",
       "      <td>0</td>\n",
       "      <td>0</td>\n",
       "      <td>0</td>\n",
       "      <td>0</td>\n",
       "      <td>...</td>\n",
       "      <td>334</td>\n",
       "      <td>370</td>\n",
       "      <td>376</td>\n",
       "      <td>390</td>\n",
       "      <td>428</td>\n",
       "      <td>439</td>\n",
       "      <td>466</td>\n",
       "      <td>501</td>\n",
       "      <td>525</td>\n",
       "      <td>545</td>\n",
       "    </tr>\n",
       "    <tr>\n",
       "      <th>4</th>\n",
       "      <td>NaN</td>\n",
       "      <td>Angola</td>\n",
       "      <td>-11.2027</td>\n",
       "      <td>17.8739</td>\n",
       "      <td>0</td>\n",
       "      <td>0</td>\n",
       "      <td>0</td>\n",
       "      <td>0</td>\n",
       "      <td>0</td>\n",
       "      <td>0</td>\n",
       "      <td>...</td>\n",
       "      <td>7</td>\n",
       "      <td>7</td>\n",
       "      <td>7</td>\n",
       "      <td>8</td>\n",
       "      <td>8</td>\n",
       "      <td>8</td>\n",
       "      <td>10</td>\n",
       "      <td>14</td>\n",
       "      <td>16</td>\n",
       "      <td>17</td>\n",
       "    </tr>\n",
       "  </tbody>\n",
       "</table>\n",
       "<p>5 rows × 81 columns</p>\n",
       "</div>"
      ],
      "text/plain": [
       "  State      Country      Lat     Long  1/22/20  1/23/20  1/24/20  1/25/20  \\\n",
       "0   NaN  Afghanistan  33.0000  65.0000        0        0        0        0   \n",
       "1   NaN      Albania  41.1533  20.1683        0        0        0        0   \n",
       "2   NaN      Algeria  28.0339   1.6596        0        0        0        0   \n",
       "3   NaN      Andorra  42.5063   1.5218        0        0        0        0   \n",
       "4   NaN       Angola -11.2027  17.8739        0        0        0        0   \n",
       "\n",
       "   1/26/20  1/27/20  ...  3/29/20  3/30/20  3/31/20  4/1/20  4/2/20  4/3/20  \\\n",
       "0        0        0  ...      120      170      174     237     273     281   \n",
       "1        0        0  ...      212      223      243     259     277     304   \n",
       "2        0        0  ...      511      584      716     847     986    1171   \n",
       "3        0        0  ...      334      370      376     390     428     439   \n",
       "4        0        0  ...        7        7        7       8       8       8   \n",
       "\n",
       "   4/4/20  4/5/20  4/6/20  4/7/20  \n",
       "0     299     349     367     423  \n",
       "1     333     361     377     383  \n",
       "2    1251    1320    1423    1468  \n",
       "3     466     501     525     545  \n",
       "4      10      14      16      17  \n",
       "\n",
       "[5 rows x 81 columns]"
      ]
     },
     "execution_count": 43,
     "metadata": {},
     "output_type": "execute_result"
    }
   ],
   "source": [
    "online = True\n",
    "\n",
    "if online:\n",
    "    COVID_CONFIRMED_URL = 'https://raw.githubusercontent.com/CSSEGISandData/COVID-19/master/csse_covid_19_data/csse_covid_19_time_series/time_series_covid19_confirmed_global.csv'\n",
    "    COVID_DEATHS_URL = 'https://raw.githubusercontent.com/CSSEGISandData/COVID-19/master/csse_covid_19_data/csse_covid_19_time_series/time_series_covid19_deaths_global.csv'\n",
    "    COVID_RECOVERED_URL = 'https://raw.githubusercontent.com/CSSEGISandData/COVID-19/master/csse_covid_19_data/csse_covid_19_time_series/time_series_covid19_recovered_global.csv'\n",
    "else:\n",
    "    COVID_CONFIRMED_URL = 'COVID-19/csse_covid_19_data/csse_covid_19_time_series/time_series_covid19_confirmed_global.csv'\n",
    "    COVID_DEATHS_URL = 'COVID-19/csse_covid_19_data/csse_covid_19_time_series/time_series_covid19_deaths_global.csv'\n",
    "    COVID_RECOVERED_URL = 'COVID-19/csse_covid_19_data/csse_covid_19_time_series/time_series_covid19_recovered_global.csv'\n",
    "    \n",
    "\n",
    "\n",
    "covid_confirmed = pd.read_csv(COVID_CONFIRMED_URL)\n",
    "covid_deaths = pd.read_csv(COVID_DEATHS_URL)\n",
    "covid_recovered = pd.read_csv(COVID_RECOVERED_URL)\n",
    "\n",
    "covid_confirmed.rename(columns={'Country/Region':'Country'}, inplace=True)\n",
    "covid_deaths.rename(columns={'Country/Region':'Country'}, inplace=True)\n",
    "covid_recovered.rename(columns={'Country/Region':'Country'}, inplace=True)\n",
    "covid_confirmed.rename(columns={'Province/State':'State'}, inplace=True)\n",
    "covid_deaths.rename(columns={'Province/State':'State'}, inplace=True)\n",
    "covid_recovered.rename(columns={'Province/State':'State'}, inplace=True)\n",
    "\n",
    "\n",
    "covid_confirmed.head()"
   ]
  },
  {
   "cell_type": "code",
   "execution_count": 44,
   "metadata": {
    "Collapsed": "false"
   },
   "outputs": [],
   "source": [
    "Country = 'Russia'\n",
    "population = {\"Russia\" : 146745098, \"Italy\" : 60317000, \"China\" : 1404328000}\n",
    "\n",
    "data_Russia_confirmed = covid_confirmed[covid_confirmed.Country == Country].values[0, 4:].astype(int)\n",
    "\n",
    "data = np.empty((3, data_Russia_confirmed.shape[0]), dtype=np.int64)\n",
    "data[0] = data_Russia_confirmed\n",
    "\n",
    "data[1] = covid_deaths   [covid_deaths.Country    == Country].values[0, 4:].astype(int)\n",
    "data[2] = covid_recovered[covid_recovered.Country == Country].values[0, 4:].astype(int)\n",
    "\n",
    "data_normed = data.astype(np.float64) / population[Country]\n",
    "data_normed_only_conf = data_normed[0] - data_normed[1] - data_normed[2]"
   ]
  },
  {
   "cell_type": "code",
   "execution_count": 45,
   "metadata": {
    "Collapsed": "false"
   },
   "outputs": [
    {
     "data": {
      "image/png": "[encoded data removed]",
      "text/plain": [
       "<Figure size 432x288 with 1 Axes>"
      ]
     },
     "metadata": {
      "needs_background": "light"
     },
     "output_type": "display_data"
    },
    {
     "data": {
      "image/png": "[encoded data removed]",
      "text/plain": [
       "<Figure size 432x288 with 1 Axes>"
      ]
     },
     "metadata": {
      "needs_background": "light"
     },
     "output_type": "display_data"
    }
   ],
   "source": [
    "plt.plot(data.T);\n",
    "plt.figure()\n",
    "plt.plot(data_normed_only_conf);"
   ]
  },
  {
   "cell_type": "code",
   "execution_count": 46,
   "metadata": {
    "Collapsed": "false"
   },
   "outputs": [],
   "source": [
    "@jit\n",
    "def base_seir_model(init_vals, dt, N, params):\n",
    "    res = np.empty((N, 4), dtype=np.float64)\n",
    "    S = res[:, 0]\n",
    "    E = res[:, 1]\n",
    "    I = res[:, 2]\n",
    "    R = res[:, 3]\n",
    "    S[0], E[0], I[0], R[0] = init_vals\n",
    "    alpha, beta, gamma = params\n",
    "    for i in range(1, N):\n",
    "        S[i] = S[i-1] - (beta*S[i-1]*I[i-1])*dt\n",
    "        E[i] = E[i-1] + (beta*S[i-1]*I[i-1] - alpha*E[i-1])*dt\n",
    "        I[i] = I[i-1] + (alpha*E[i-1] - gamma*I[i-1])*dt\n",
    "        R[i] = R[i-1] + (gamma*I[i-1])*dt\n",
    "\n",
    "    #print(I)\n",
    "    return res\n",
    "\n",
    "\n",
    "def seir_rhs(y, t, alpha, beta, gamma):\n",
    "    S, E, I, R = y\n",
    "    return [-beta*S*I, beta*S*I - alpha*E, alpha*E - gamma*I, gamma*I]\n",
    "\n",
    "def base_seir_model_odeint(init_vals, dt, N, params):\n",
    "    t_max = N*dt\n",
    "    t = np.linspace(0, t_max, N + 1)\n",
    "    sol = odeint(seir_rhs, init_vals, t, args=params)\n",
    "    #return sol[::int(1/dt)]\n",
    "    return sol\n",
    "\n",
    "@jit\n",
    "def sirx_rhs(x, t, alpha, beta, k0, k):\n",
    "    S, I, X, R = x\n",
    "    dsdt = -alpha*S*I - k0*S\n",
    "    didt = (alpha*S - beta - (k0 + k))*I\n",
    "    dxdt = (k0 + k)*I\n",
    "    dRdt = k0*S + beta*I\n",
    "    return np.array([dsdt, didt, dxdt, dRdt])\n",
    "\n",
    "\n",
    "def base_sirx_model_rhs(x, params):\n",
    "    alpha, beta, k0, k = params\n",
    "    S, I, X, R = x\n",
    "    dsdt = -alpha*S*I - k0*S\n",
    "    didt = alpha*S*I - beta*I - k0*I - k*I\n",
    "    dxdt = (k0+k)*I\n",
    "    dRdt = k0*S + beta*I\n",
    "    return np.array([dsdt, didt, dxdt, dRdt])\n",
    "\n",
    "#@jit\n",
    "def base_sirx_model_odeint(init_vals, dt, N, params):\n",
    "    t_max = N*dt\n",
    "    t = np.linspace(0, t_max, N + 1)\n",
    "    sol = odeint(sirx_rhs, init_vals, t, args=params)\n",
    "    #sol[np.isnan(sol)] = 1e20\n",
    "    #sol[np.isinf(sol)] = 1e20\n",
    "    return sol\n",
    "\n",
    "\n",
    "\n",
    "# SIR Model (not working)\n",
    "@jit\n",
    "def base_sirf_model(init_vals, dt, N, params):\n",
    "    res = np.empty((N, 3), dtype=np.float64)\n",
    "    y = res[:, 0]\n",
    "    E = res[:, 1]\n",
    "    I = res[:, 2]\n",
    "    R = res[:, 3]\n",
    "    S[0], E[0], I[0], R[0] = init_vals\n",
    "    alpha, beta, gamma = params\n",
    "    for i in range(1, N):\n",
    "        S[i] = S[i-1] - (beta*S[i-1]*I[i-1])*dt\n",
    "        E[i] = E[i-1] + (beta*S[i-1]*I[i-1] - alpha*E[i-1])*dt\n",
    "        I[i] = I[i-1] + (alpha*E[i-1] - gamma*I[i-1])*dt\n",
    "        R[i] = R[i-1] + (gamma*I[i-1])*dt\n",
    "\n",
    "    return res\n"
   ]
  },
  {
   "cell_type": "code",
   "execution_count": 47,
   "metadata": {
    "Collapsed": "false"
   },
   "outputs": [],
   "source": [
    "#vals = []\n",
    "\n",
    "data1 = data[0]\n",
    "data1 = data1[data1>=3]\n",
    "# data1 = data1/population[Country]\n",
    "#plt.plot(data1)\n",
    "\n",
    "#true_cases = data_normed_only_conf[-20:]\n",
    "#true_cases = data_normed_only_conf[data[0] >= 3]\n",
    "#true_cases = data_normed[0][data[0] >= 3]\n",
    "true_cases = data1/population[Country]\n",
    "\n",
    "\n",
    "def obs(alpha_MC, beta_MC, k0_MC, k_MC, I0_MC, cf = 1, N = len(true_cases), type_ret=2):\n",
    "        # N is number of points (days)\n",
    "        #global vals\n",
    "        dt = 1.0/cf\n",
    "        num = (N-1)*cf\n",
    "        res = base_sirx_model_odeint((1.0 - (I0_MC + true_cases[0]), I0_MC, true_cases[0], 0.0), dt, num, (alpha_MC, beta_MC, k0_MC, k_MC))\n",
    "        rr = res.T[type_ret][::cf]\n",
    "        #print(rr)\n",
    "        #vals.append(rr)\n",
    "        return rr\n",
    "    \n",
    "def obs2(alpha_MC, beta_MC, k0_MC, k_MC, I0_MC, cf = 1, N = len(true_cases)):\n",
    "        # N is number of points (days)\n",
    "        #global vals\n",
    "        dt = 1.0/cf\n",
    "        num = (N-1)*cf\n",
    "        res = base_sirx_model_odeint((1.0 - (I0_MC + true_cases[0]), I0_MC, true_cases[0], 0.0), dt, num, (alpha_MC, beta_MC, k0_MC, k_MC))\n",
    "        rr = res.T[::cf]\n",
    "        #print(rr)\n",
    "        #vals.append(rr)\n",
    "        return rr\n",
    "\n",
    "    \n",
    "\n",
    "def loss_fn(alpha, beta, k0, k, I0):\n",
    "#def loss_fn(x):\n",
    "#    alpha, beta, k0, k, I0 = x\n",
    "    loss_val = np.linalg.norm( (obs(alpha, beta, k0, k, I0) - true_cases)*data1 )\n",
    "#    if np.isnan(loss_val) or np.isinf(loss_val):\n",
    "#        loss_val = 1e100\n",
    "    return loss_val\n",
    "\n",
    "_ = \"\"\"\n",
    "num_days = len(true_cases)-1\n",
    "times = np.linspace(0, num_days, num_days+1)\n",
    "\n",
    "def compute_fit(alpha, beta, k0, k, I0):\n",
    "    params = np.array([alpha, beta, k0, k])\n",
    "    x0 = np.array([1.0, I0, true_cases[0], 0.0])\n",
    "    rhs = lambda x, t: base_sirx_model_rhs(x, params)\n",
    "    sol = odeint(rhs, x0, times)\n",
    "    predicted_cases = sol[:, 2]\n",
    "    return np.linalg.norm(true_cases-predicted_cases)\n",
    "\n",
    "\n",
    "def predict(alpha, beta, I0, k0, k, num_days):\n",
    "    times = np.linspace(0, num_days, num_days+1)\n",
    "    params = np.array([alpha, beta, k0, k])\n",
    "    x0 = np.array([1.0, I0, true_cases[0], 0.0])\n",
    "    rhs = lambda x, t: base_sirx_model_rhs(x, params)\n",
    "    sol = odeint(rhs, x0, times)\n",
    "    return sol\n",
    "\n",
    "\"\"\""
   ]
  },
  {
   "cell_type": "code",
   "execution_count": 48,
   "metadata": {},
   "outputs": [],
   "source": [
    "def present_solution(vals, num_days=120):\n",
    "    alpha_g, beta_g, k0_g, k_g, I0_g = vals\n",
    "    solution = population[Country]*obs(alpha_g, beta_g, k0_g, k_g, I0_g, N=num_days, cf=1)\n",
    "    print(f\"Max cases: {max(solution):.0f}\")\n",
    "\n",
    "    time_scale = np.linspace(-len(true_cases)+1, num_days - len(true_cases), num_days)\n",
    "    time_scale_true = np.linspace(-len(true_cases)+1 , -1, len(true_cases))\n",
    "    plt.figure(figsize=(10, 8))\n",
    "    plt.plot(time_scale, solution, \"-\", label=\"predicted\");\n",
    "    plt.plot(time_scale_true, population[Country]*true_cases, \"o\", label=\"true\");\n",
    "    plt.legend();\n",
    "    plt.title('reported cases');\n",
    "    plt.yscale('log')\n",
    "\n",
    "def prognosis(vals, num_days = 120):\n",
    "    alpha_g, beta_g, k0_g, k_g, I0_g = vals\n",
    "    start = obs2(alpha_g, beta_g, k0_g, k_g, I0_g, N=len(true_cases))[:, -1]\n",
    "    dt = 1.0\n",
    "    res1 = base_sirx_model_odeint(start, dt, num_days, (alpha_g, beta_g, k0_g, k_g))\n",
    "    res2 = base_sirx_model_odeint(start, dt, num_days, (alpha_g, beta_g, 1e-2, k_g))\n",
    "    \n",
    "    plt.figure()\n",
    "    plt.plot(res1[:, 1]*population[Country], label='Weak measures')\n",
    "    plt.plot(res2[:, 1]*population[Country], label='Strict measures')\n",
    "    plt.title('Potentially infected')\n",
    "    plt.legend()\n",
    "    print(f\"Max infected: {max(res1[:, 1]*population[Country]):.0f} vs {max(res2[:, 1]*population[Country]):.0f}\")"
   ]
  },
  {
   "cell_type": "code",
   "execution_count": 49,
   "metadata": {
    "Collapsed": "false"
   },
   "outputs": [],
   "source": [
    "import nevergrad as ng"
   ]
  },
  {
   "cell_type": "code",
   "execution_count": 50,
   "metadata": {},
   "outputs": [
    {
     "data": {
      "text/plain": [
       "(0.00897143494085176,\n",
       " (0.5980211121633392,\n",
       "  0.3109480805653833,\n",
       "  0.00709916757191782,\n",
       "  0.01491593971100487,\n",
       "  3.130037542248314e-07))"
      ]
     },
     "execution_count": 50,
     "metadata": {},
     "output_type": "execute_result"
    }
   ],
   "source": [
    "# vals = (1.2173437044675621,   0.9855553151918058,   0.0,   0.00022902367817583327,   2.7873569184833206e-05)\n",
    "# vals = (0.8369275821184242, 0.6448341882577777, 0.0006071511911329521, 0.0, 2.458874784094177e-05)\n",
    "vals = (0.5980211121633392, 0.3109480805653833, 0.00709916757191782, 0.01491593971100487, 3.130037542248314e-07)\n",
    "max_err = loss_fn(*vals)\n",
    "max_err,vals"
   ]
  },
  {
   "cell_type": "code",
   "execution_count": 51,
   "metadata": {},
   "outputs": [
    {
     "name": "stdout",
     "output_type": "stream",
     "text": [
      "Max cases: 614633\n",
      "Max infected: 623690 vs 311615\n"
     ]
    },
    {
     "data": {
      "image/png": "[encoded data removed]",
      "text/plain": [
       "<Figure size 720x576 with 1 Axes>"
      ]
     },
     "metadata": {
      "needs_background": "light"
     },
     "output_type": "display_data"
    },
    {
     "data": {
      "image/png": "[encoded data removed]",
      "text/plain": [
       "<Figure size 432x288 with 1 Axes>"
      ]
     },
     "metadata": {
      "needs_background": "light"
     },
     "output_type": "display_data"
    }
   ],
   "source": [
    "present_solution(vals)\n",
    "prognosis(vals)"
   ]
  },
  {
   "cell_type": "code",
   "execution_count": 52,
   "metadata": {
    "Collapsed": "false",
    "scrolled": true
   },
   "outputs": [],
   "source": [
    "def optimize():\n",
    "    # beta0 = 0.38 #d^{-1}\n",
    "    # R0 = 3.07\n",
    "    # alpha0 = R0*beta0\n",
    "    #k0_0 = 1e-1\n",
    "    #k_0 = 0.0\n",
    "    alpha0, beta0, k0_0, k_0, I_0 = vals\n",
    "    \n",
    "    alpha = ng.p.Scalar()\n",
    "    alpha.value = alpha0\n",
    "    # alpha.value = 0.8921533322357904\n",
    "    beta = ng.p.Scalar()\n",
    "    beta.value = beta0\n",
    "    # beta.value = 0.6006857701497142\n",
    "    I0 = ng.p.Scalar()\n",
    "    I0.value = I_0\n",
    "    # I0.value = 2.0638693642381589e-07\n",
    "    k0 = ng.p.Scalar()\n",
    "    k = ng.p.Scalar()\n",
    "    k0.value = k0_0\n",
    "    # k0.value = 1e-5\n",
    "    k.value = k_0\n",
    "    # k.value = 1e-5\n",
    "    # k0.value = 0.003774752347706235\n",
    "    # k.value = 0.018991858675810148\n",
    "    #k0.set_bounds(0, 5e-2)\n",
    "    #k.set_bounds(0, 5e-2)\n",
    "    alpha.set_bounds(0.0, 10.0)\n",
    "    beta.set_bounds(5e-2, 2.0)\n",
    "    I0.set_bounds(0.0, 1e-4)\n",
    "    k0.set_bounds(0, 0.1)\n",
    "    k.set_bounds(0, 0.1)\n",
    "\n",
    "    instru = ng.p.Instrumentation(alpha, beta, k0, k, I0)\n",
    "    #optimizer = ng.optimizers.CMA(parametrization=instru, budget=500000)\n",
    "    num_workers = 16\n",
    "    with futures.ThreadPoolExecutor(max_workers=num_workers) as executor:\n",
    "        optimizer = ng.optimizers.CMA(parametrization=instru, budget=20000, num_workers=num_workers) # num_workers don't work :(\n",
    "        recommendation = optimizer.minimize(loss_fn, executor=executor, batch_mode=False)\n",
    "    #recommendation = optimizer.minimize(compute_fit)\n",
    "    return recommendation\n",
    "\n",
    "\n",
    "    "
   ]
  },
  {
   "cell_type": "code",
   "execution_count": 68,
   "metadata": {},
   "outputs": [
    {
     "name": "stdout",
     "output_type": "stream",
     "text": [
      "New round 1\n",
      "(8_w,16)-aCMA-ES (mu_w=4.8,w_1=32%) in dimension 5 (seed=<module 'time' (built-in)>, Wed Apr  8 19:41:32 2020)\n"
     ]
    },
    {
     "name": "stderr",
     "output_type": "stream",
     "text": [
      "/usr/local/lib/python3.6/dist-packages/cma/utilities/utils.py:333: UserWarning: \n",
      "        geno-pheno transformation introduced based on the\n",
      "        current covariance matrix with condition 1.6e+12 -> 1.0e+00,\n",
      "        injected solutions become \"invalid\" in this iteration (class=CMAEvolutionStrategy method=alleviate_conditioning iteration=1212)\n",
      "  ')')\n"
     ]
    },
    {
     "name": "stdout",
     "output_type": "stream",
     "text": [
      "Error too big: 0.1165863811567782 > 0.00897143494085176\n",
      "New round 2\n",
      "(8_w,16)-aCMA-ES (mu_w=4.8,w_1=32%) in dimension 5 (seed=<module 'time' (built-in)>, Wed Apr  8 19:42:43 2020)\n",
      "Error too big: 0.13654668108786186 > 0.00897143494085176\n",
      "New round 3\n",
      "(8_w,16)-aCMA-ES (mu_w=4.8,w_1=32%) in dimension 5 (seed=<module 'time' (built-in)>, Wed Apr  8 19:43:50 2020)\n"
     ]
    },
    {
     "name": "stderr",
     "output_type": "stream",
     "text": [
      "/usr/local/lib/python3.6/dist-packages/cma/utilities/utils.py:333: UserWarning: \n",
      "        geno-pheno transformation introduced based on the\n",
      "        current covariance matrix with condition 1.2e+12 -> 1.0e+00,\n",
      "        injected solutions become \"invalid\" in this iteration (class=CMAEvolutionStrategy method=alleviate_conditioning iteration=1078)\n",
      "  ')')\n"
     ]
    },
    {
     "name": "stdout",
     "output_type": "stream",
     "text": [
      "Error too big: 0.06753490142369764 > 0.00897143494085176\n",
      "New round 4\n",
      "(8_w,16)-aCMA-ES (mu_w=4.8,w_1=32%) in dimension 5 (seed=<module 'time' (built-in)>, Wed Apr  8 19:44:56 2020)\n",
      "Error too big: 0.10095557658942697 > 0.00897143494085176\n",
      "New round 5\n",
      "(8_w,16)-aCMA-ES (mu_w=4.8,w_1=32%) in dimension 5 (seed=<module 'time' (built-in)>, Wed Apr  8 19:46:04 2020)\n",
      "Error too big: 0.17050264181820135 > 0.00897143494085176\n",
      "New round 6\n",
      "(8_w,16)-aCMA-ES (mu_w=4.8,w_1=32%) in dimension 5 (seed=<module 'time' (built-in)>, Wed Apr  8 19:47:11 2020)\n"
     ]
    },
    {
     "name": "stderr",
     "output_type": "stream",
     "text": [
      "/usr/local/lib/python3.6/dist-packages/cma/utilities/utils.py:333: UserWarning: sigma change np.exp(1.0332153886719004) = 2.8100868453087355 clipped to np.exp(+-1) (class=CMAAdaptSigmaCSA method=update iteration=560)\n",
      "  ')')\n"
     ]
    },
    {
     "name": "stdout",
     "output_type": "stream",
     "text": [
      "Error too big: 0.0987134761379548 > 0.00897143494085176\n",
      "New round 7\n",
      "(8_w,16)-aCMA-ES (mu_w=4.8,w_1=32%) in dimension 5 (seed=<module 'time' (built-in)>, Wed Apr  8 19:48:18 2020)\n",
      "Error too big: 0.16338286438857108 > 0.00897143494085176\n",
      "New round 8\n",
      "(8_w,16)-aCMA-ES (mu_w=4.8,w_1=32%) in dimension 5 (seed=<module 'time' (built-in)>, Wed Apr  8 19:49:29 2020)\n",
      "Error too big: 0.11259071298550803 > 0.00897143494085176\n",
      "New round 9\n",
      "(8_w,16)-aCMA-ES (mu_w=4.8,w_1=32%) in dimension 5 (seed=<module 'time' (built-in)>, Wed Apr  8 19:50:36 2020)\n",
      "Error too big: 0.1060170090612118 > 0.00897143494085176\n",
      "New round 10\n",
      "(8_w,16)-aCMA-ES (mu_w=4.8,w_1=32%) in dimension 5 (seed=<module 'time' (built-in)>, Wed Apr  8 19:51:46 2020)\n",
      "Error too big: 0.13609122195239476 > 0.00897143494085176\n",
      "New round 11\n",
      "(8_w,16)-aCMA-ES (mu_w=4.8,w_1=32%) in dimension 5 (seed=<module 'time' (built-in)>, Wed Apr  8 19:52:53 2020)\n",
      "Error too big: 0.11178623290490049 > 0.00897143494085176\n",
      "New round 12\n",
      "(8_w,16)-aCMA-ES (mu_w=4.8,w_1=32%) in dimension 5 (seed=<module 'time' (built-in)>, Wed Apr  8 19:53:59 2020)\n",
      "Error too big: 0.14004327334187866 > 0.00897143494085176\n",
      "New round 13\n",
      "(8_w,16)-aCMA-ES (mu_w=4.8,w_1=32%) in dimension 5 (seed=<module 'time' (built-in)>, Wed Apr  8 19:55:07 2020)\n",
      "NOTE (module=cma, iteration=1098):  \n",
      "condition in coordinate system exceeded 1.1e+08, rescaled to 1.0e+00, \n",
      "condition changed from 1.1e+11 to 8.5e+03\n",
      "Error too big: 0.05015044385870829 > 0.00897143494085176\n",
      "New round 14\n",
      "(8_w,16)-aCMA-ES (mu_w=4.8,w_1=32%) in dimension 5 (seed=<module 'time' (built-in)>, Wed Apr  8 19:56:11 2020)\n",
      "Error too big: 0.15951586375106797 > 0.00897143494085176\n",
      "New round 15\n",
      "(8_w,16)-aCMA-ES (mu_w=4.8,w_1=32%) in dimension 5 (seed=<module 'time' (built-in)>, Wed Apr  8 19:57:20 2020)\n",
      "Error too big: 0.08906831358476483 > 0.00897143494085176\n",
      "New round 16\n",
      "(8_w,16)-aCMA-ES (mu_w=4.8,w_1=32%) in dimension 5 (seed=<module 'time' (built-in)>, Wed Apr  8 19:58:27 2020)\n",
      "NOTE (module=cma, iteration=523):  \n",
      "condition in coordinate system exceeded 1.0e+08, rescaled to 1.0e+00, \n",
      "condition changed from 4.2e+08 to 7.5e+02\n"
     ]
    },
    {
     "name": "stderr",
     "output_type": "stream",
     "text": [
      "/usr/local/lib/python3.6/dist-packages/cma/utilities/utils.py:333: UserWarning: \n",
      "        geno-pheno transformation introduced based on the\n",
      "        current covariance matrix with condition 1.2e+12 -> 1.0e+00,\n",
      "        injected solutions become \"invalid\" in this iteration (class=CMAEvolutionStrategy method=alleviate_conditioning iteration=771)\n",
      "  ')')\n"
     ]
    },
    {
     "name": "stdout",
     "output_type": "stream",
     "text": [
      "Error too big: 0.10147682925554394 > 0.00897143494085176\n",
      "New round 17\n",
      "(8_w,16)-aCMA-ES (mu_w=4.8,w_1=32%) in dimension 5 (seed=<module 'time' (built-in)>, Wed Apr  8 19:59:35 2020)\n"
     ]
    },
    {
     "name": "stderr",
     "output_type": "stream",
     "text": [
      "/usr/local/lib/python3.6/dist-packages/cma/utilities/utils.py:333: UserWarning: \n",
      "        geno-pheno transformation introduced based on the\n",
      "        current covariance matrix with condition 1.4e+12 -> 1.0e+00,\n",
      "        injected solutions become \"invalid\" in this iteration (class=CMAEvolutionStrategy method=alleviate_conditioning iteration=596)\n",
      "  ')')\n",
      "/usr/local/lib/python3.6/dist-packages/cma/utilities/utils.py:333: UserWarning: covariance matrix eigen decomposition failed with \n",
      "covariance matrix was not positive definite with a minimal eigenvalue of -1.715541e-07.\n",
      "Consider to reformulate the objective function ()\n",
      "  ')')\n",
      "/usr/local/lib/python3.6/dist-packages/cma/utilities/utils.py:333: UserWarning: covariance matrix eigen decomposition failed with \n",
      "covariance matrix was not positive definite with a minimal eigenvalue of -1.472804e-07.\n",
      "Consider to reformulate the objective function ()\n",
      "  ')')\n",
      "/usr/local/lib/python3.6/dist-packages/cma/utilities/utils.py:333: UserWarning: covariance matrix eigen decomposition failed with \n",
      "covariance matrix was not positive definite with a minimal eigenvalue of -3.784445e-07.\n",
      "Consider to reformulate the objective function ()\n",
      "  ')')\n",
      "/usr/local/lib/python3.6/dist-packages/cma/utilities/utils.py:333: UserWarning: covariance matrix eigen decomposition failed with \n",
      "covariance matrix was not positive definite with a minimal eigenvalue of -3.728525e-07.\n",
      "Consider to reformulate the objective function ()\n",
      "  ')')\n",
      "/usr/local/lib/python3.6/dist-packages/cma/utilities/utils.py:333: UserWarning: covariance matrix eigen decomposition failed with \n",
      "covariance matrix was not positive definite with a minimal eigenvalue of -2.801931e-07.\n",
      "Consider to reformulate the objective function ()\n",
      "  ')')\n",
      "/usr/local/lib/python3.6/dist-packages/cma/utilities/utils.py:333: UserWarning: covariance matrix eigen decomposition failed with \n",
      "covariance matrix was not positive definite with a minimal eigenvalue of -5.087993e-07.\n",
      "Consider to reformulate the objective function ()\n",
      "  ')')\n",
      "/usr/local/lib/python3.6/dist-packages/cma/utilities/utils.py:333: UserWarning: covariance matrix eigen decomposition failed with \n",
      "covariance matrix was not positive definite with a minimal eigenvalue of -4.230954e-07.\n",
      "Consider to reformulate the objective function ()\n",
      "  ')')\n",
      "/usr/local/lib/python3.6/dist-packages/cma/utilities/utils.py:333: UserWarning: covariance matrix eigen decomposition failed with \n",
      "covariance matrix was not positive definite with a minimal eigenvalue of -2.320051e-07.\n",
      "Consider to reformulate the objective function ()\n",
      "  ')')\n",
      "/usr/local/lib/python3.6/dist-packages/cma/utilities/utils.py:333: UserWarning: covariance matrix eigen decomposition failed with \n",
      "covariance matrix was not positive definite with a minimal eigenvalue of -2.021976e-07.\n",
      "Consider to reformulate the objective function ()\n",
      "  ')')\n",
      "/usr/local/lib/python3.6/dist-packages/cma/utilities/utils.py:333: UserWarning: covariance matrix eigen decomposition failed with \n",
      "covariance matrix was not positive definite with a minimal eigenvalue of -1.481605e-07.\n",
      "Consider to reformulate the objective function ()\n",
      "  ')')\n",
      "/usr/local/lib/python3.6/dist-packages/cma/utilities/utils.py:333: UserWarning: covariance matrix eigen decomposition failed with \n",
      "covariance matrix was not positive definite with a minimal eigenvalue of -4.197866e-08.\n",
      "Consider to reformulate the objective function ()\n",
      "  ')')\n",
      "/usr/local/lib/python3.6/dist-packages/cma/utilities/utils.py:333: UserWarning: covariance matrix eigen decomposition failed with \n",
      "covariance matrix was not positive definite with a minimal eigenvalue of -3.626869e-07.\n",
      "Consider to reformulate the objective function ()\n",
      "  ')')\n",
      "/usr/local/lib/python3.6/dist-packages/cma/utilities/utils.py:333: UserWarning: covariance matrix eigen decomposition failed with \n",
      "covariance matrix was not positive definite with a minimal eigenvalue of -1.990464e-08.\n",
      "Consider to reformulate the objective function ()\n",
      "  ')')\n",
      "/usr/local/lib/python3.6/dist-packages/cma/utilities/utils.py:333: UserWarning: covariance matrix eigen decomposition failed with \n",
      "covariance matrix was not positive definite with a minimal eigenvalue of -2.742707e-07.\n",
      "Consider to reformulate the objective function ()\n",
      "  ')')\n",
      "/usr/local/lib/python3.6/dist-packages/cma/utilities/utils.py:333: UserWarning: covariance matrix eigen decomposition failed with \n",
      "covariance matrix was not positive definite with a minimal eigenvalue of -6.073641e-07.\n",
      "Consider to reformulate the objective function ()\n",
      "  ')')\n",
      "/usr/local/lib/python3.6/dist-packages/cma/utilities/utils.py:333: UserWarning: covariance matrix eigen decomposition failed with \n",
      "covariance matrix was not positive definite with a minimal eigenvalue of -4.646325e-07.\n",
      "Consider to reformulate the objective function ()\n",
      "  ')')\n"
     ]
    },
    {
     "name": "stdout",
     "output_type": "stream",
     "text": [
      "Error too big: 0.07546735462397747 > 0.00897143494085176\n",
      "New round 18\n",
      "(8_w,16)-aCMA-ES (mu_w=4.8,w_1=32%) in dimension 5 (seed=<module 'time' (built-in)>, Wed Apr  8 20:00:42 2020)\n",
      "Error too big: 0.09345204253003768 > 0.00897143494085176\n",
      "New round 19\n",
      "(8_w,16)-aCMA-ES (mu_w=4.8,w_1=32%) in dimension 5 (seed=<module 'time' (built-in)>, Wed Apr  8 20:01:48 2020)\n"
     ]
    },
    {
     "name": "stderr",
     "output_type": "stream",
     "text": [
      "/usr/local/lib/python3.6/dist-packages/cma/utilities/utils.py:333: UserWarning: \n",
      "        geno-pheno transformation introduced based on the\n",
      "        current covariance matrix with condition 1.0e+12 -> 1.0e+00,\n",
      "        injected solutions become \"invalid\" in this iteration (class=CMAEvolutionStrategy method=alleviate_conditioning iteration=960)\n",
      "  ')')\n"
     ]
    },
    {
     "name": "stdout",
     "output_type": "stream",
     "text": [
      "Error too big: 0.040116858915775974 > 0.00897143494085176\n",
      "New round 20\n",
      "(8_w,16)-aCMA-ES (mu_w=4.8,w_1=32%) in dimension 5 (seed=<module 'time' (built-in)>, Wed Apr  8 20:02:54 2020)\n",
      "Error too big: 0.13155899650478847 > 0.00897143494085176\n",
      "New round 21\n",
      "(8_w,16)-aCMA-ES (mu_w=4.8,w_1=32%) in dimension 5 (seed=<module 'time' (built-in)>, Wed Apr  8 20:04:01 2020)\n",
      "Error too big: 0.16370806893727113 > 0.00897143494085176\n",
      "New round 22\n",
      "(8_w,16)-aCMA-ES (mu_w=4.8,w_1=32%) in dimension 5 (seed=<module 'time' (built-in)>, Wed Apr  8 20:05:11 2020)\n"
     ]
    },
    {
     "name": "stderr",
     "output_type": "stream",
     "text": [
      "/usr/local/lib/python3.6/dist-packages/cma/utilities/utils.py:333: UserWarning: \n",
      "        geno-pheno transformation introduced based on the\n",
      "        current covariance matrix with condition 1.2e+12 -> 1.0e+00,\n",
      "        injected solutions become \"invalid\" in this iteration (class=CMAEvolutionStrategy method=alleviate_conditioning iteration=723)\n",
      "  ')')\n",
      "/usr/local/lib/python3.6/dist-packages/cma/utilities/utils.py:333: UserWarning: covariance matrix eigen decomposition failed with \n",
      "covariance matrix was not positive definite with a minimal eigenvalue of -1.377041e-08.\n",
      "Consider to reformulate the objective function ()\n",
      "  ')')\n",
      "/usr/local/lib/python3.6/dist-packages/cma/utilities/utils.py:333: UserWarning: covariance matrix eigen decomposition failed with \n",
      "covariance matrix was not positive definite with a minimal eigenvalue of -9.527506e-08.\n",
      "Consider to reformulate the objective function ()\n",
      "  ')')\n",
      "/usr/local/lib/python3.6/dist-packages/cma/utilities/utils.py:333: UserWarning: sigma change np.exp(1.2825789858039935) = 3.605927379579715 clipped to np.exp(+-1) (class=CMAAdaptSigmaCSA method=update iteration=1056)\n",
      "  ')')\n",
      "/usr/local/lib/python3.6/dist-packages/cma/utilities/utils.py:333: UserWarning: sigma change np.exp(1.1826280522999826) = 3.2629381167763705 clipped to np.exp(+-1) (class=CMAAdaptSigmaCSA method=update iteration=1061)\n",
      "  ')')\n",
      "/usr/local/lib/python3.6/dist-packages/cma/utilities/utils.py:333: UserWarning: sigma change np.exp(1.1873734493586474) = 3.2784588506150074 clipped to np.exp(+-1) (class=CMAAdaptSigmaCSA method=update iteration=1066)\n",
      "  ')')\n"
     ]
    },
    {
     "name": "stdout",
     "output_type": "stream",
     "text": [
      "Error too big: 0.10635264127346024 > 0.00897143494085176\n",
      "New round 23\n",
      "(8_w,16)-aCMA-ES (mu_w=4.8,w_1=32%) in dimension 5 (seed=<module 'time' (built-in)>, Wed Apr  8 20:06:18 2020)\n",
      "Error too big: 0.11356824363026498 > 0.00897143494085176\n",
      "New round 24\n",
      "(8_w,16)-aCMA-ES (mu_w=4.8,w_1=32%) in dimension 5 (seed=<module 'time' (built-in)>, Wed Apr  8 20:07:26 2020)\n",
      "Error too big: 0.10117942183626208 > 0.00897143494085176\n",
      "New round 25\n",
      "(8_w,16)-aCMA-ES (mu_w=4.8,w_1=32%) in dimension 5 (seed=<module 'time' (built-in)>, Wed Apr  8 20:08:35 2020)\n",
      "Error too big: 0.16624385810095296 > 0.00897143494085176\n",
      "New round 26\n",
      "(8_w,16)-aCMA-ES (mu_w=4.8,w_1=32%) in dimension 5 (seed=<module 'time' (built-in)>, Wed Apr  8 20:09:43 2020)\n"
     ]
    },
    {
     "name": "stderr",
     "output_type": "stream",
     "text": [
      "/usr/local/lib/python3.6/dist-packages/cma/utilities/utils.py:333: UserWarning: \n",
      "        geno-pheno transformation introduced based on the\n",
      "        current covariance matrix with condition 1.3e+12 -> 1.0e+00,\n",
      "        injected solutions become \"invalid\" in this iteration (class=CMAEvolutionStrategy method=alleviate_conditioning iteration=960)\n",
      "  ')')\n"
     ]
    },
    {
     "name": "stdout",
     "output_type": "stream",
     "text": [
      "Error too big: 0.09325793613671052 > 0.00897143494085176\n",
      "New round 27\n",
      "(8_w,16)-aCMA-ES (mu_w=4.8,w_1=32%) in dimension 5 (seed=<module 'time' (built-in)>, Wed Apr  8 20:10:49 2020)\n"
     ]
    },
    {
     "name": "stderr",
     "output_type": "stream",
     "text": [
      "/usr/local/lib/python3.6/dist-packages/cma/utilities/utils.py:333: UserWarning: sigma change np.exp(1.2197525237697808) = 3.386349588884701 clipped to np.exp(+-1) (class=CMAAdaptSigmaCSA method=update iteration=285)\n",
      "  ')')\n",
      "/usr/local/lib/python3.6/dist-packages/cma/utilities/utils.py:333: UserWarning: sigma change np.exp(1.4786143713380697) = 4.38686290468075 clipped to np.exp(+-1) (class=CMAAdaptSigmaCSA method=update iteration=286)\n",
      "  ')')\n",
      "/usr/local/lib/python3.6/dist-packages/cma/utilities/utils.py:333: UserWarning: sigma change np.exp(1.6603618795786381) = 5.261214426052095 clipped to np.exp(+-1) (class=CMAAdaptSigmaCSA method=update iteration=287)\n",
      "  ')')\n",
      "/usr/local/lib/python3.6/dist-packages/cma/utilities/utils.py:333: UserWarning: sigma change np.exp(1.2473942461371779) = 3.4812598221648092 clipped to np.exp(+-1) (class=CMAAdaptSigmaCSA method=update iteration=288)\n",
      "  ')')\n"
     ]
    },
    {
     "name": "stdout",
     "output_type": "stream",
     "text": [
      "Error too big: 0.1629935897389918 > 0.00897143494085176\n",
      "New round 28\n",
      "(8_w,16)-aCMA-ES (mu_w=4.8,w_1=32%) in dimension 5 (seed=<module 'time' (built-in)>, Wed Apr  8 20:11:59 2020)\n",
      "NOTE (module=cma, iteration=699):  \n",
      "condition in coordinate system exceeded 1.3e+08, rescaled to 1.0e+00, \n",
      "condition changed from 3.8e+08 to 3.4e+01\n"
     ]
    },
    {
     "name": "stderr",
     "output_type": "stream",
     "text": [
      "/usr/local/lib/python3.6/dist-packages/cma/utilities/utils.py:333: UserWarning: \n",
      "        geno-pheno transformation introduced based on the\n",
      "        current covariance matrix with condition 1.6e+12 -> 1.0e+00,\n",
      "        injected solutions become \"invalid\" in this iteration (class=CMAEvolutionStrategy method=alleviate_conditioning iteration=1113)\n",
      "  ')')\n"
     ]
    },
    {
     "name": "stdout",
     "output_type": "stream",
     "text": [
      "Error too big: 0.11215238771533086 > 0.00897143494085176\n",
      "New round 29\n",
      "(8_w,16)-aCMA-ES (mu_w=4.8,w_1=32%) in dimension 5 (seed=<module 'time' (built-in)>, Wed Apr  8 20:13:09 2020)\n",
      "Error too big: 0.09049261071889603 > 0.00897143494085176\n",
      "New round 30\n",
      "(8_w,16)-aCMA-ES (mu_w=4.8,w_1=32%) in dimension 5 (seed=<module 'time' (built-in)>, Wed Apr  8 20:14:15 2020)\n"
     ]
    },
    {
     "name": "stderr",
     "output_type": "stream",
     "text": [
      "/usr/local/lib/python3.6/dist-packages/cma/utilities/utils.py:333: UserWarning: sigma change np.exp(1.0559671095549996) = 2.87475401202794 clipped to np.exp(+-1) (class=CMAAdaptSigmaCSA method=update iteration=381)\n",
      "  ')')\n",
      "/usr/local/lib/python3.6/dist-packages/cma/utilities/utils.py:333: UserWarning: sigma change np.exp(1.1855837908155633) = 3.272596775845576 clipped to np.exp(+-1) (class=CMAAdaptSigmaCSA method=update iteration=386)\n",
      "  ')')\n",
      "/usr/local/lib/python3.6/dist-packages/cma/utilities/utils.py:333: UserWarning: sigma change np.exp(1.5069667360512622) = 4.513020828474538 clipped to np.exp(+-1) (class=CMAAdaptSigmaCSA method=update iteration=387)\n",
      "  ')')\n",
      "/usr/local/lib/python3.6/dist-packages/cma/utilities/utils.py:333: UserWarning: sigma change np.exp(1.1830945301366684) = 3.2644605601557637 clipped to np.exp(+-1) (class=CMAAdaptSigmaCSA method=update iteration=388)\n",
      "  ')')\n",
      "/usr/local/lib/python3.6/dist-packages/cma/utilities/utils.py:333: UserWarning: sigma change np.exp(1.233388675643144) = 3.4328426388949853 clipped to np.exp(+-1) (class=CMAAdaptSigmaCSA method=update iteration=389)\n",
      "  ')')\n",
      "/usr/local/lib/python3.6/dist-packages/cma/utilities/utils.py:333: UserWarning: sigma change np.exp(1.1870556458040726) = 3.277417110281913 clipped to np.exp(+-1) (class=CMAAdaptSigmaCSA method=update iteration=1047)\n",
      "  ')')\n",
      "/usr/local/lib/python3.6/dist-packages/cma/utilities/utils.py:333: UserWarning: \n",
      "        geno-pheno transformation introduced based on the\n",
      "        current covariance matrix with condition 1.6e+12 -> 1.0e+00,\n",
      "        injected solutions become \"invalid\" in this iteration (class=CMAEvolutionStrategy method=alleviate_conditioning iteration=1106)\n",
      "  ')')\n"
     ]
    },
    {
     "name": "stdout",
     "output_type": "stream",
     "text": [
      "Error too big: 0.168547338628279 > 0.00897143494085176\n"
     ]
    },
    {
     "data": {
      "text/plain": [
       "(0.00897143494085176,\n",
       " (0.5980211121633392,\n",
       "  0.3109480805653833,\n",
       "  0.00709916757191782,\n",
       "  0.01491593971100487,\n",
       "  3.130037542248314e-07))"
      ]
     },
     "execution_count": 68,
     "metadata": {},
     "output_type": "execute_result"
    }
   ],
   "source": [
    "for i in range(30):\n",
    "    print(f'New round {i+1}')\n",
    "    recommendation = optimize()\n",
    "    err = loss_fn(*recommendation.value[0])\n",
    "    if err < max_err:\n",
    "        max_err = err\n",
    "        vals = recommendation.value[0]\n",
    "        print(f\"Error {err}, vals {vals}\")\n",
    "    else:\n",
    "        print(f\"Error too big: {err} > {max_err}\")\n",
    "        \n",
    "max_err, vals"
   ]
  },
  {
   "cell_type": "code",
   "execution_count": 54,
   "metadata": {
    "Collapsed": "false"
   },
   "outputs": [
    {
     "name": "stdout",
     "output_type": "stream",
     "text": [
      "Max cases: 614633\n"
     ]
    },
    {
     "data": {
      "image/png": "[encoded data removed]",
      "text/plain": [
       "<Figure size 720x576 with 1 Axes>"
      ]
     },
     "metadata": {
      "needs_background": "light"
     },
     "output_type": "display_data"
    }
   ],
   "source": [
    "present_solution(vals)"
   ]
  },
  {
   "cell_type": "code",
   "execution_count": 55,
   "metadata": {
    "Collapsed": "false"
   },
   "outputs": [
    {
     "data": {
      "text/plain": [
       "2861.340393030224"
      ]
     },
     "execution_count": 55,
     "metadata": {},
     "output_type": "execute_result"
    }
   ],
   "source": [
    "num_days = 80\n",
    "time_scale = np.linspace(-len(true_cases)+1, num_days - len(true_cases), num_days)\n",
    "alpha_g, beta_g, k0_g, k_g, I0 = vals\n",
    "population[Country]*obs(alpha_g, beta_g, k0_g, k_g, I0, N=80, type_ret=2)[30]\n"
   ]
  },
  {
   "cell_type": "code",
   "execution_count": 56,
   "metadata": {
    "Collapsed": "false"
   },
   "outputs": [],
   "source": [
    "start = obs2(alpha_g, beta_g, k0_g, k_g, I0, N=len(true_cases))[:, -1]\n",
    "num = 40\n",
    "dt = 1.0\n",
    "res1 = base_sirx_model_odeint(start, dt, num, (alpha_g, beta_g, k0_g, k_g))\n",
    "res2 = base_sirx_model_odeint(start, dt, num, (alpha_g, beta_g, 1e-2, k_g))\n"
   ]
  },
  {
   "cell_type": "code",
   "execution_count": 57,
   "metadata": {
    "Collapsed": "false"
   },
   "outputs": [
    {
     "data": {
      "text/plain": [
       "0.00709916757191782"
      ]
     },
     "execution_count": 57,
     "metadata": {},
     "output_type": "execute_result"
    }
   ],
   "source": [
    "k0_g"
   ]
  },
  {
   "cell_type": "code",
   "execution_count": 58,
   "metadata": {
    "Collapsed": "false"
   },
   "outputs": [
    {
     "data": {
      "text/plain": [
       "<matplotlib.legend.Legend at 0x7f42c24d4b70>"
      ]
     },
     "execution_count": 58,
     "metadata": {},
     "output_type": "execute_result"
    },
    {
     "data": {
      "image/png": "[encoded data removed]",
      "text/plain": [
       "<Figure size 432x288 with 1 Axes>"
      ]
     },
     "metadata": {
      "needs_background": "light"
     },
     "output_type": "display_data"
    }
   ],
   "source": [
    "plt.plot(res1[:, 1]*population[Country], label='Weak measures')\n",
    "plt.plot(res2[:, 1]*population[Country], label='Strict measures')\n",
    "plt.title('Potentially infected')\n",
    "plt.legend()"
   ]
  },
  {
   "cell_type": "code",
   "execution_count": 59,
   "metadata": {
    "Collapsed": "false"
   },
   "outputs": [
    {
     "data": {
      "image/png": "[encoded data removed]",
      "text/plain": [
       "<Figure size 720x576 with 1 Axes>"
      ]
     },
     "metadata": {
      "needs_background": "light"
     },
     "output_type": "display_data"
    }
   ],
   "source": [
    "plt.figure(figsize=(10, 8))\n",
    "alpha_g, beta_g, k0_g, k_g, I0_g = vals\n",
    "plt.plot(time_scale, population[Country]*obs(alpha_g, beta_g, k0_g, k_g, I0_g, N=80, type_ret=1), \"-\", label=\"predicted\");\n",
    "plt.legend();\n",
    "plt.title('infected');\n",
    "plt.yscale('log');"
   ]
  },
  {
   "cell_type": "code",
   "execution_count": 60,
   "metadata": {
    "Collapsed": "false"
   },
   "outputs": [
    {
     "data": {
      "image/png": "[encoded data removed]",
      "text/plain": [
       "<Figure size 720x576 with 1 Axes>"
      ]
     },
     "metadata": {
      "needs_background": "light"
     },
     "output_type": "display_data"
    }
   ],
   "source": [
    "plt.figure(figsize=(10, 8))\n",
    "\n",
    "\n",
    "plt.plot(time_scale, population[Country]*obs(alpha_g, beta_g, k0_g+1e-2, k_g, I0_g, N=80, type_ret=1), \"-\", label=\"predicted\");\n",
    "plt.legend();\n",
    "plt.title('infected with measures taken');\n",
    "plt.yscale('log');"
   ]
  },
  {
   "cell_type": "code",
   "execution_count": 61,
   "metadata": {
    "Collapsed": "false"
   },
   "outputs": [
    {
     "ename": "NameError",
     "evalue": "name 'recommendation' is not defined",
     "output_type": "error",
     "traceback": [
      "\u001b[0;31m---------------------------------------------------------------------------\u001b[0m",
      "\u001b[0;31mNameError\u001b[0m                                 Traceback (most recent call last)",
      "\u001b[0;32m<ipython-input-61-3d8a6909bec9>\u001b[0m in \u001b[0;36m<module>\u001b[0;34m\u001b[0m\n\u001b[0;32m----> 1\u001b[0;31m \u001b[0mrecommendation\u001b[0m\u001b[0;34m.\u001b[0m\u001b[0mvalue\u001b[0m\u001b[0;34m[\u001b[0m\u001b[0;36m0\u001b[0m\u001b[0;34m]\u001b[0m\u001b[0;34m\u001b[0m\u001b[0;34m\u001b[0m\u001b[0m\n\u001b[0m",
      "\u001b[0;31mNameError\u001b[0m: name 'recommendation' is not defined"
     ]
    }
   ],
   "source": [
    "recommendation.value[0]"
   ]
  },
  {
   "cell_type": "code",
   "execution_count": 62,
   "metadata": {
    "Collapsed": "false"
   },
   "outputs": [],
   "source": [
    "good_vals_1 = (0.8921533322357904,\n",
    " 0.6006857701497142,\n",
    " 0.003774752347706235,\n",
    " 0.018991858675810148,\n",
    " 2.0638693642381589e-07)\n",
    "\n",
    "good_vals_2 = (1.4620735715158846,\n",
    " 1.1550524698389562,\n",
    " 0.00012016896136317736,\n",
    " 0.09431369871672939,\n",
    " 8.85266762057214e-08)\n"
   ]
  },
  {
   "cell_type": "code",
   "execution_count": 63,
   "metadata": {
    "Collapsed": "false"
   },
   "outputs": [
    {
     "data": {
      "text/plain": [
       "(0.7028386750218786, 0.5248873953209352, 0.0026616813473804538, 0.0, 1e-05)"
      ]
     },
     "execution_count": 63,
     "metadata": {},
     "output_type": "execute_result"
    }
   ],
   "source": [
    "(0.7028386750218786, 0.5248873953209352, 0.0026616813473804538, 0.0, 1e-05)"
   ]
  },
  {
   "cell_type": "code",
   "execution_count": 64,
   "metadata": {
    "Collapsed": "false"
   },
   "outputs": [
    {
     "ename": "NameError",
     "evalue": "name 'recommendation' is not defined",
     "output_type": "error",
     "traceback": [
      "\u001b[0;31m---------------------------------------------------------------------------\u001b[0m",
      "\u001b[0;31mNameError\u001b[0m                                 Traceback (most recent call last)",
      "\u001b[0;32m<ipython-input-64-4440499b24e0>\u001b[0m in \u001b[0;36m<module>\u001b[0;34m\u001b[0m\n\u001b[0;32m----> 1\u001b[0;31m \u001b[0mloss_fn\u001b[0m\u001b[0;34m(\u001b[0m\u001b[0;34m*\u001b[0m\u001b[0mgood_vals_1\u001b[0m\u001b[0;34m)\u001b[0m\u001b[0;34m,\u001b[0m \u001b[0mloss_fn\u001b[0m\u001b[0;34m(\u001b[0m\u001b[0;34m*\u001b[0m\u001b[0mrecommendation\u001b[0m\u001b[0;34m.\u001b[0m\u001b[0mvalue\u001b[0m\u001b[0;34m[\u001b[0m\u001b[0;36m0\u001b[0m\u001b[0;34m]\u001b[0m\u001b[0;34m)\u001b[0m\u001b[0;34m\u001b[0m\u001b[0;34m\u001b[0m\u001b[0m\n\u001b[0m",
      "\u001b[0;31mNameError\u001b[0m: name 'recommendation' is not defined"
     ]
    }
   ],
   "source": [
    "loss_fn(*good_vals_1), loss_fn(*recommendation.value[0])"
   ]
  },
  {
   "cell_type": "code",
   "execution_count": 65,
   "metadata": {
    "Collapsed": "false"
   },
   "outputs": [
    {
     "name": "stdout",
     "output_type": "stream",
     "text": [
      "['ASCMA2PDEthird', 'ASCMADEQRthird', 'ASCMADEthird', 'AlmostRotationInvariantDE', 'BO', 'CM', 'CMA', 'CMandAS', 'CMandAS2', 'CMandAS3', 'CauchyLHSSearch', 'CauchyOnePlusOne', 'CauchyScrHammersleySearch', 'Cobyla', 'DE', 'DiagonalCMA', 'DiscreteOnePlusOne', 'DoubleFastGADiscreteOnePlusOne', 'EDA', 'ES', 'FCMA', 'HaltonSearch', 'HaltonSearchPlusMiddlePoint', 'HammersleySearch', 'HammersleySearchPlusMiddlePoint', 'LHSSearch', 'LargeHaltonSearch', 'LhsDE', 'MEDA', 'MPCEDA', 'MetaRecentering', 'MixES', 'MultiCMA', 'MultiScaleCMA', 'MutDE', 'NGO', 'NaiveIsoEMNA', 'NaiveTBPSA', 'NelderMead', 'NoisyBandit', 'NoisyDE', 'NoisyDiscreteOnePlusOne', 'NoisyOnePlusOne', 'ORandomSearch', 'OScrHammersleySearch', 'OnePlusOne', 'OptimisticDiscreteOnePlusOne', 'OptimisticNoisyOnePlusOne', 'PBIL', 'PCEDA', 'PSO', 'ParaPortfolio', 'Portfolio', 'Powell', 'QORandomSearch', 'QOScrHammersleySearch', 'QrDE', 'RCobyla', 'RPowell', 'RSQP', 'RandomSearch', 'RandomSearchPlusMiddlePoint', 'RealSpacePSO', 'RecES', 'RecMixES', 'RecMutDE', 'RecombiningPortfolioOptimisticNoisyDiscreteOnePlusOne', 'RotationInvariantDE', 'SPSA', 'SQP', 'SQPCMA', 'ScrHaltonSearch', 'ScrHaltonSearchPlusMiddlePoint', 'ScrHammersleySearch', 'ScrHammersleySearchPlusMiddlePoint', 'Shiva', 'SplitOptimizer', 'TBPSA', 'TripleCMA', 'TwoPointsDE', 'cGA', 'chainCMAPowell']\n"
     ]
    }
   ],
   "source": [
    "print(sorted(ng.optimizers.registry.keys()))"
   ]
  },
  {
   "cell_type": "code",
   "execution_count": 66,
   "metadata": {
    "Collapsed": "false"
   },
   "outputs": [
    {
     "data": {
      "text/plain": [
       "array([0.  , 0.25, 0.5 , 0.75, 1.  , 1.25, 1.5 , 1.75, 2.  , 2.25, 2.5 ,\n",
       "       2.75, 3.  , 3.25, 3.5 , 3.75, 4.  , 4.25, 4.5 , 4.75, 5.  , 5.25,\n",
       "       5.5 , 5.75, 6.  , 6.25, 6.5 , 6.75, 7.  , 7.25, 7.5 , 7.75, 8.  ])"
      ]
     },
     "execution_count": 66,
     "metadata": {},
     "output_type": "execute_result"
    }
   ],
   "source": [
    "cf = 4\n",
    "N = 9\n",
    "dt = 1.0/cf\n",
    "num = (N-1)*cf\n",
    "t_max = (num)*dt\n",
    "t = np.linspace(0, t_max, num+1)\n",
    "t"
   ]
  },
  {
   "cell_type": "code",
   "execution_count": 67,
   "metadata": {
    "Collapsed": "false"
   },
   "outputs": [
    {
     "data": {
      "text/plain": [
       "array([0., 1., 2., 3., 4., 5., 6., 7., 8.])"
      ]
     },
     "execution_count": 67,
     "metadata": {},
     "output_type": "execute_result"
    }
   ],
   "source": [
    "t[::cf]"
   ]
  }
 ],
 "metadata": {
  "kernelspec": {
   "display_name": "Python 3",
   "language": "python",
   "name": "python3"
  },
  "language_info": {
   "codemirror_mode": {
    "name": "ipython",
    "version": 3
   },
   "file_extension": ".py",
   "mimetype": "text/x-python",
   "name": "python",
   "nbconvert_exporter": "python",
   "pygments_lexer": "ipython3",
   "version": "3.6.9"
  }
 },
 "nbformat": 4,
 "nbformat_minor": 4
}
